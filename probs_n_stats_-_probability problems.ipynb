{
 "metadata": {
  "language_info": {
   "codemirror_mode": {
    "name": "ipython",
    "version": 3
   },
   "file_extension": ".py",
   "mimetype": "text/x-python",
   "name": "python",
   "nbconvert_exporter": "python",
   "pygments_lexer": "ipython3",
   "version": "3.7.6-final"
  },
  "orig_nbformat": 2,
  "kernelspec": {
   "name": "python3",
   "display_name": "Python 3",
   "language": "python"
  }
 },
 "nbformat": 4,
 "nbformat_minor": 2,
 "cells": [
  {
   "source": [
    "# Probability problems"
   ],
   "cell_type": "markdown",
   "metadata": {}
  },
  {
   "cell_type": "code",
   "execution_count": 3,
   "metadata": {},
   "outputs": [],
   "source": [
    "import numpy as np \n",
    "import matplotlib.pyplot as plt  \n",
    "from scipy.special import binom\n",
    "%matplotlib inline"
   ]
  },
  {
   "source": [
    "### Poker probabilities\n",
    "\n",
    "One pair:  \n",
    "$\n",
    "\\binom{13}{2} \\cdot \\binom{4}{2} \\cdot \\binom{12}{3} \\cdot \\binom{4}{1}^3\n",
    "$"
   ],
   "cell_type": "markdown",
   "metadata": {}
  },
  {
   "cell_type": "code",
   "execution_count": 10,
   "metadata": {},
   "outputs": [
    {
     "output_type": "execute_result",
     "data": {
      "text/plain": [
       "0.4225690276110444"
      ]
     },
     "metadata": {},
     "execution_count": 10
    }
   ],
   "source": [
    "binom(13,1) * binom(4,2) * binom(12,3)*binom(4,1)**3 / binom(52, 5)"
   ]
  },
  {
   "source": [
    "Two pair:  \n",
    "$\n",
    "\\binom{13}{2} \\binom{4}{2}^2 \\cdot \\binom{11}{1} \\cdot \\binom{4}{1} \n",
    "$"
   ],
   "cell_type": "markdown",
   "metadata": {}
  },
  {
   "cell_type": "code",
   "execution_count": 11,
   "metadata": {},
   "outputs": [
    {
     "output_type": "execute_result",
     "data": {
      "text/plain": [
       "0.0475390156062425"
      ]
     },
     "metadata": {},
     "execution_count": 11
    }
   ],
   "source": [
    "binom(13,2) * binom(4,2)**2 * 11 * binom(4, 1) / binom(52, 5)"
   ]
  },
  {
   "source": [
    "Three of a kind  \n",
    "$\n",
    "\\binom{13}{1}\\cdot\\binom{4}{3}\\cdot\\binom{12}{2}\\cdot\\binom{4}{1}^2\n",
    "$\n"
   ],
   "cell_type": "markdown",
   "metadata": {}
  },
  {
   "cell_type": "code",
   "execution_count": 12,
   "metadata": {},
   "outputs": [
    {
     "output_type": "execute_result",
     "data": {
      "text/plain": [
       "0.02112845138055222"
      ]
     },
     "metadata": {},
     "execution_count": 12
    }
   ],
   "source": [
    "13 * 4 * binom(12,2)*16/binom(52,5)"
   ]
  },
  {
   "source": [
    "Straight  \n",
    "$\n",
    "\\binom{10}{1}\\cdot\\binom{4}{1}^5 - \\binom{10}{1}\\binom{4}{1}\n",
    "$"
   ],
   "cell_type": "markdown",
   "metadata": {}
  },
  {
   "cell_type": "code",
   "execution_count": 13,
   "metadata": {},
   "outputs": [
    {
     "output_type": "execute_result",
     "data": {
      "text/plain": [
       "0.003924646781789639"
      ]
     },
     "metadata": {},
     "execution_count": 13
    }
   ],
   "source": [
    "(10 * 4**5 -40)/binom(52,5)"
   ]
  },
  {
   "source": [
    "Flush    \n",
    "$\n",
    "\\binom{4}{1}\\cdot\\binom{13}{5}- \\binom{10}{1}\\binom{4}{1}\n",
    "$"
   ],
   "cell_type": "markdown",
   "metadata": {}
  },
  {
   "cell_type": "code",
   "execution_count": 17,
   "metadata": {},
   "outputs": [
    {
     "output_type": "execute_result",
     "data": {
      "text/plain": [
       "0.001965401545233478"
      ]
     },
     "metadata": {},
     "execution_count": 17
    }
   ],
   "source": [
    "(4*binom(13,5)-40)/binom(52,5)"
   ]
  },
  {
   "source": [
    "Full House  \n",
    "$\n",
    "\\binom{13}{1}\\cdot\\binom{4}{3}\\cdot\\binom{12}{1}\\binom{4}{2}\n",
    "$"
   ],
   "cell_type": "markdown",
   "metadata": {}
  },
  {
   "cell_type": "code",
   "execution_count": 20,
   "metadata": {},
   "outputs": [
    {
     "output_type": "execute_result",
     "data": {
      "text/plain": [
       "0.0014405762304921968"
      ]
     },
     "metadata": {},
     "execution_count": 20
    }
   ],
   "source": [
    "(13*4*12*6)/binom(52,5)"
   ]
  },
  {
   "source": [
    "Four of a kind  \n",
    "$\n",
    "\\binom{13}{1}\\binom{4}{4}\\cdot 12 \\binom{4}{1}\n",
    "$"
   ],
   "cell_type": "markdown",
   "metadata": {}
  },
  {
   "cell_type": "code",
   "execution_count": 21,
   "metadata": {},
   "outputs": [
    {
     "output_type": "execute_result",
     "data": {
      "text/plain": [
       "0.00024009603841536616"
      ]
     },
     "metadata": {},
     "execution_count": 21
    }
   ],
   "source": [
    "13*12*4/binom(52,5)"
   ]
  },
  {
   "source": [
    "Straight Flush  \n",
    "$\n",
    "\\binom{10}{1}\\binom{4}{1} - 4\n",
    "$"
   ],
   "cell_type": "markdown",
   "metadata": {}
  },
  {
   "cell_type": "code",
   "execution_count": 22,
   "metadata": {},
   "outputs": [
    {
     "output_type": "execute_result",
     "data": {
      "text/plain": [
       "1.3851694523963431e-05"
      ]
     },
     "metadata": {},
     "execution_count": 22
    }
   ],
   "source": [
    "(40 - 4)/binom(52, 5)"
   ]
  },
  {
   "source": [
    "Royal Flush  \n",
    "$\n",
    "\\binom{4}{1}\n",
    "$"
   ],
   "cell_type": "markdown",
   "metadata": {}
  },
  {
   "cell_type": "code",
   "execution_count": 23,
   "metadata": {},
   "outputs": [
    {
     "output_type": "execute_result",
     "data": {
      "text/plain": [
       "1.5390771693292702e-06"
      ]
     },
     "metadata": {},
     "execution_count": 23
    }
   ],
   "source": [
    "4/binom(52,5)"
   ]
  },
  {
   "cell_type": "code",
   "execution_count": null,
   "metadata": {},
   "outputs": [],
   "source": []
  }
 ]
}