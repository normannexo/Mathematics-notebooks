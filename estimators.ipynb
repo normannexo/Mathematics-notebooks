{
 "metadata": {
  "language_info": {
   "codemirror_mode": {
    "name": "ipython",
    "version": 3
   },
   "file_extension": ".py",
   "mimetype": "text/x-python",
   "name": "python",
   "nbconvert_exporter": "python",
   "pygments_lexer": "ipython3",
   "version": 3
  },
  "orig_nbformat": 2
 },
 "nbformat": 4,
 "nbformat_minor": 2,
 "cells": [
  {
   "source": [
    "# Estimators"
   ],
   "cell_type": "markdown",
   "metadata": {}
  },
  {
   "cell_type": "code",
   "execution_count": null,
   "metadata": {},
   "outputs": [],
   "source": []
  },
  {
   "source": [
    "### Error\n",
    "\n",
    "$\n",
    "e(x) = \\hat\\theta(x) - \\theta\n",
    "$\n",
    "\n",
    "### Mean squared Error\n",
    "\n",
    "$\n",
    "\\text{MSE}(\\hat\\theta) =\\text{E}[(\\hat\\theta(X) - \\theta)^2]\n",
    "$\n",
    "\n",
    "### Sampling deviation\n",
    "\n",
    "For a given sample $x$, the *sampling deviation* of the estimator $\\hat\\theta$ is defined as:  \n",
    "$\n",
    "d(x) = \\hat\\theta(x) - \\text{E}(\\hat\\theta(X)) = \\hat\\theta(x) - \\text{E}(\\hat\\theta)\n",
    "$\n",
    "\n",
    "### Variance\n",
    "$\n",
    "\\text{var}(\\hat\\theta) = \\text{E}[(\\hat\\theta - \\text{E}[\\hat\\theta])^2]\n",
    "$\n",
    "\n",
    "### Bias\n",
    "\n",
    "$\n",
    "B(\\hat\\theta) = \\text{E}(\\hat\\theta) - \\theta\n",
    "$\n",
    "\n",
    "### Definition of MSE in terms of bias and variance\n",
    "$\n",
    "\\text{MSE}(\\hat\\theta) = \\text{var}(\\hat\\theta) + (B(\\hat\\theta))^2\n",
    "$"
   ],
   "cell_type": "markdown",
   "metadata": {}
  },
  {
   "cell_type": "code",
   "execution_count": null,
   "metadata": {},
   "outputs": [],
   "source": []
  }
 ]
}