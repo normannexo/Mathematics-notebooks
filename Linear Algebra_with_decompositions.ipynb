{
 "cells": [
  {
   "cell_type": "markdown",
   "metadata": {},
   "source": [
    "# Linear Algebra\n",
    "### Realization of central concepts with Numpy and Scipy"
   ]
  },
  {
   "cell_type": "code",
   "execution_count": 1,
   "metadata": {},
   "outputs": [],
   "source": [
    "import numpy as np\n",
    "from scipy.linalg import null_space\n"
   ]
  },
  {
   "cell_type": "markdown",
   "metadata": {},
   "source": [
    "### Dot Product\n",
    "$\n",
    "\\mathbf{x}^T \\mathbf{y} = \\sum\\limits_{i=1}^n x_i y_i\n",
    "$\n",
    "\n",
    "Example:  \n",
    "$\n",
    "\\mathbf{x}=\n",
    "\\begin{pmatrix}\n",
    "1 \\\\ 2 \\\\ 3\n",
    "\\end{pmatrix}\n",
    ", \n",
    "\\mathbf{y}=\n",
    "\\begin{pmatrix}\n",
    "4\\\\ 5 \\\\ 6\n",
    "\\end{pmatrix}\n",
    ", \n",
    "\\mathbf{x}^T \\mathbf{y} = 32\n",
    "$"
   ]
  },
  {
   "cell_type": "code",
   "execution_count": 2,
   "metadata": {},
   "outputs": [
    {
     "output_type": "execute_result",
     "data": {
      "text/plain": "32"
     },
     "metadata": {},
     "execution_count": 2
    }
   ],
   "source": [
    "x = np.array([1, 2, 3])\n",
    "y = np.array([4, 5, 6])\n",
    "x @ y"
   ]
  },
  {
   "cell_type": "markdown",
   "metadata": {},
   "source": [
    "### General Inner Product\n",
    "$\n",
    "\\mathbf{x}^T \\mathbf{B} \\mathbf{y} = \\sum\\limits_{i=1}^n x_i y_i\n",
    "$\n",
    "\n",
    "Example:  \n",
    "$\n",
    "\\mathbf{x}=\n",
    "\\begin{pmatrix}\n",
    "1 \\\\ 2 \\\\ 3\n",
    "\\end{pmatrix}\n",
    ", \n",
    "\\mathbf{y}=\n",
    "\\begin{pmatrix}\n",
    "4\\\\ 5 \\\\ 6\n",
    "\\end{pmatrix}\n",
    ", \n",
    "\\mathbf{x}^T \\mathbf{y} = 32\n",
    "$"
   ]
  },
  {
   "cell_type": "code",
   "execution_count": null,
   "metadata": {},
   "outputs": [],
   "source": []
  },
  {
   "cell_type": "markdown",
   "metadata": {},
   "source": [
    "### Angles and scalar product\n",
    "$\n",
    "\\cos{\\omega} = \\frac{\\langle\\mathbf{x},\\mathbf{y}\\rangle}{\\|\\mathbf{x}\\|\\|\\mathbf{y}\\|}\n",
    "$\n"
   ]
  },
  {
   "cell_type": "code",
   "execution_count": 3,
   "metadata": {},
   "outputs": [
    {
     "output_type": "execute_result",
     "data": {
      "text/plain": "0.2257261285527342"
     },
     "metadata": {},
     "execution_count": 3
    }
   ],
   "source": [
    "### example\n",
    "np.arccos((x @ y)/(np.linalg.norm(x) * np.linalg.norm(y)))"
   ]
  },
  {
   "cell_type": "markdown",
   "metadata": {},
   "source": [
    "### Change of basis\n",
    "$\n",
    "\\mathbf{B} = \\mathbf{T^{-1}}\\mathbf{A}\\mathbf{T}\n",
    "$"
   ]
  },
  {
   "cell_type": "markdown",
   "metadata": {},
   "source": [
    "### Orthogonal projection\n",
    "$\n",
    "\\pi_{U}(\\mathbf{x})=\\lambda \\mathbf{b} = \\frac{\\mathbf{b}^T \\mathbf{x}}{\\|\\mathbf{b}\\|^2}\\mathbf{b}\n",
    "$\n",
    "##### Proof:\n",
    "$\n",
    "\\langle \\mathbf{x}-\\lambda\\mathbf{b}, \\mathbf{b}\\rangle=0\n",
    "$\n",
    "\n",
    "Because of the bilinearity of the inner product we yield:  \n",
    "$\n",
    "\\langle \\mathbf{x}, \\mathbf{b}\\rangle - \\lambda\\langle\\mathbf{b},\\mathbf{b}\\rangle\n",
    "\\iff\n",
    "\\lambda = \\frac{\\langle\\mathbf{x},\\mathbf{b}\\rangle}{\\|\\mathbf{b}\\|^2}\n",
    "$\n",
    "\n",
    "### Projection matrix\n",
    "$\n",
    "\\begin{align}\n",
    "\\mathbf{P}_{\\pi}\\mathbf{x} & =\\lambda \\mathbf{b} \\\\\n",
    "&= \\mathbf{b}\\frac{\\mathbf{b}^T\\mathbf{x}}{\\|\\mathbf{b}\\|^2} = \\frac{\\mathbf{b}\\mathbf{b}^T}{\\|\\mathbf{b}\\|^2}\\mathbf{x}\n",
    "\\end{align}\n",
    "$\n",
    "\n",
    "so:  \n",
    "$\n",
    "\\mathbf{P}_{\\pi} = \\frac{\\mathbf{b}\\mathbf{b}^T}{\\|\\mathbf{b}\\|^2}\n",
    "$\n"
   ]
  },
  {
   "cell_type": "code",
   "execution_count": 4,
   "metadata": {},
   "outputs": [
    {
     "output_type": "execute_result",
     "data": {
      "text/plain": "array([[0.11111111, 0.22222222, 0.22222222],\n       [0.22222222, 0.44444444, 0.44444444],\n       [0.22222222, 0.44444444, 0.44444444]])"
     },
     "metadata": {},
     "execution_count": 4
    }
   ],
   "source": [
    "#example\n",
    "b =np.array([1, 2, 2]).reshape(-1, 1)\n",
    "P_pi = np.dot(b, b.T)/np.linalg.norm(b)**2\n",
    "P_pi"
   ]
  },
  {
   "cell_type": "markdown",
   "metadata": {},
   "source": [
    "### Eigenvalues and Eigenvectors\n",
    "\n",
    "$\n",
    "\\begin{align}\n",
    "\\mathbf{A}\\mathbf{x}=\\lambda\\mathbf{x}&\\iff \\mathbf{A}\\mathbf{x}-\\lambda\\mathbf{x}=0 \\\\\n",
    "& \\iff (\\mathbf{A} - \\lambda\\mathbf{I})\\mathbf{x}=0\\iff \\mathbf{x}\\in \\text{ker}(\\mathbf{A} -\\lambda\\mathbf{I})\n",
    "\\end{align}\n",
    "$"
   ]
  },
  {
   "cell_type": "code",
   "execution_count": 5,
   "metadata": {
    "tags": []
   },
   "outputs": [
    {
     "output_type": "stream",
     "name": "stdout",
     "text": "Characteristic polynomial: [ 1. -7. 10.]\nlambda 1: 5.0, lambda 2: 2.0\n"
    },
    {
     "output_type": "execute_result",
     "data": {
      "text/plain": "array([[ 1. ,  1. ],\n       [ 0.5, -1. ]])"
     },
     "metadata": {},
     "execution_count": 5
    }
   ],
   "source": [
    "# example\n",
    "A=np.array([[4, 2],[1,3]])\n",
    "# calculate characteristic polynomial\n",
    "cpoly = np.poly(A)\n",
    "print(\"Characteristic polynomial: {}\".format(cpoly))\n",
    "lambdas = np.roots(cpoly)\n",
    "print(\"lambda 1: {}, lambda 2: {}\".format(lambdas[0], lambdas[1]))\n",
    "# set up list with null spaces:\n",
    "ns_list = []\n",
    "ns_array = np.zeros(shape=(2,2))\n",
    "for l in lambdas:\n",
    "    mat = A-l*np.identity(2) \n",
    "    ns_l = null_space(mat)\n",
    "    ns_list.append((ns_l / ns_l[0]).flatten().tolist())\n",
    "np.array(ns_list).T"
   ]
  },
  {
   "cell_type": "code",
   "execution_count": 6,
   "metadata": {},
   "outputs": [
    {
     "output_type": "execute_result",
     "data": {
      "text/plain": "(array([5., 2.]),\n array([[ 0.89442719, -0.70710678],\n        [ 0.4472136 ,  0.70710678]]))"
     },
     "metadata": {},
     "execution_count": 6
    }
   ],
   "source": [
    "# or with function eig\n",
    "np.linalg.eig(A)"
   ]
  },
  {
   "cell_type": "markdown",
   "metadata": {},
   "source": [
    "# Decompositions"
   ]
  },
  {
   "cell_type": "markdown",
   "metadata": {},
   "source": [
    "## Cholesky Decomposition\n",
    "\n",
    "A symmetric, positive definite matrix $\\mathbf{A}$ can be factorized into a product $\\mathbf{A}=\\mathbf{L}\\mathbf{L}^\\top$, where $\\mathbf{L}$ is a lower-triangular matrix with positive diagonal elements.\n",
    "\n",
    "Applications:\n",
    "- generate samples from a Gaussian distribution (covariance matrix is symmetric, positive definite)\n",
    "- perform linear transformations of random variables\n",
    "- efficiently compute determinants\n"
   ]
  },
  {
   "cell_type": "code",
   "execution_count": null,
   "metadata": {},
   "outputs": [],
   "source": []
  },
  {
   "cell_type": "code",
   "execution_count": null,
   "metadata": {},
   "outputs": [],
   "source": []
  },
  {
   "cell_type": "code",
   "execution_count": null,
   "metadata": {},
   "outputs": [],
   "source": []
  }
 ],
 "metadata": {
  "kernelspec": {
   "display_name": "Python 3",
   "language": "python",
   "name": "python3"
  },
  "language_info": {
   "codemirror_mode": {
    "name": "ipython",
    "version": 3
   },
   "file_extension": ".py",
   "mimetype": "text/x-python",
   "name": "python",
   "nbconvert_exporter": "python",
   "pygments_lexer": "ipython3",
   "version": "3.7.6"
  }
 },
 "nbformat": 4,
 "nbformat_minor": 4
}