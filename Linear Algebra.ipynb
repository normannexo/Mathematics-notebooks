{
 "cells": [
  {
   "cell_type": "markdown",
   "metadata": {},
   "source": [
    "# Liner Algebra\n",
    "### Realization of central concepts with Numpy"
   ]
  },
  {
   "cell_type": "code",
   "execution_count": 7,
   "metadata": {},
   "outputs": [],
   "source": [
    "import numpy as np"
   ]
  },
  {
   "cell_type": "markdown",
   "metadata": {},
   "source": [
    "### Dot Product\n",
    "$\n",
    "\\mathbf{x}^T \\mathbf{y} = \\sum\\limits_{i=1}^n x_i y_i\n",
    "$\n",
    "\n",
    "Example:  \n",
    "$\n",
    "\\mathbf{x}=\n",
    "\\begin{pmatrix}\n",
    "1 \\\\ 2 \\\\ 3\n",
    "\\end{pmatrix}\n",
    ", \n",
    "\\mathbf{y}=\n",
    "\\begin{pmatrix}\n",
    "4\\\\ 5 \\\\ 6\n",
    "\\end{pmatrix}\n",
    ", \n",
    "\\mathbf{x}^T \\mathbf{y} = 32\n",
    "$"
   ]
  },
  {
   "cell_type": "code",
   "execution_count": 8,
   "metadata": {},
   "outputs": [
    {
     "data": {
      "text/plain": [
       "32"
      ]
     },
     "execution_count": 8,
     "metadata": {},
     "output_type": "execute_result"
    }
   ],
   "source": [
    "x = np.array([1, 2, 3])\n",
    "y = np.array([4, 5, 6])\n",
    "x @ y"
   ]
  },
  {
   "cell_type": "markdown",
   "metadata": {},
   "source": [
    "### General Inner Product\n",
    "$\n",
    "\\mathbf{x}^T \\mathbf{B} \\mathbf{y} = \\sum\\limits_{i=1}^n x_i y_i\n",
    "$\n",
    "\n",
    "Example:  \n",
    "$\n",
    "\\mathbf{x}=\n",
    "\\begin{pmatrix}\n",
    "1 \\\\ 2 \\\\ 3\n",
    "\\end{pmatrix}\n",
    ", \n",
    "\\mathbf{y}=\n",
    "\\begin{pmatrix}\n",
    "4\\\\ 5 \\\\ 6\n",
    "\\end{pmatrix}\n",
    ", \n",
    "\\mathbf{x}^T \\mathbf{y} = 32\n",
    "$"
   ]
  },
  {
   "cell_type": "code",
   "execution_count": null,
   "metadata": {},
   "outputs": [],
   "source": []
  },
  {
   "cell_type": "markdown",
   "metadata": {},
   "source": [
    "### Angles and scalar product\n",
    "$\n",
    "\\cos{\\omega} = \\frac{\\langle\\mathbf{x},\\mathbf{y}\\rangle}{\\|\\mathbf{x}\\|\\|\\mathbf{y}\\|}\n",
    "$\n"
   ]
  },
  {
   "cell_type": "code",
   "execution_count": 9,
   "metadata": {},
   "outputs": [
    {
     "data": {
      "text/plain": [
       "0.2257261285527342"
      ]
     },
     "execution_count": 9,
     "metadata": {},
     "output_type": "execute_result"
    }
   ],
   "source": [
    "### example\n",
    "np.arccos((x @ y)/(np.linalg.norm(x) * np.linalg.norm(y)))"
   ]
  },
  {
   "cell_type": "markdown",
   "metadata": {},
   "source": [
    "### Change of basis\n",
    "$\n",
    "\\mathbf{B} = \\mathbf{T^{-1}}\\mathbf{A}\\mathbf{T}\n",
    "$"
   ]
  },
  {
   "cell_type": "markdown",
   "metadata": {},
   "source": [
    "### Orthogonal projection\n",
    "$\n",
    "\\pi_{U}(\\mathbf{x})=\\lambda \\mathbf{b} = \\frac{\\mathbf{b}^T \\mathbf{x}}{\\|\\mathbf{b}\\|^2}\\mathbf{b}\n",
    "$\n",
    "##### Proof:\n",
    "$\n",
    "\\langle \\mathbf{x}-\\lambda\\mathbf{b}, \\mathbf{b}\\rangle=0\n",
    "$\n",
    "\n",
    "Because of the bilinearity of the inner product we yield:  \n",
    "$\n",
    "\\langle \\mathbf{x}, \\mathbf{b}\\rangle - \\lambda\\langle\\mathbf{b},\\mathbf{b}\\rangle\n",
    "\\iff\n",
    "\\lambda = \\frac{\\langle\\mathbf{x},\\mathbf{b}\\rangle}{\\|\\mathbf{b}\\|^2}\n",
    "$\n",
    "\n",
    "### Projection matrix\n",
    "$\n",
    "\\begin{align}\n",
    "\\mathbf{P}_{\\pi}\\mathbf{x} & =\\lambda \\mathbf{b} \\\\\n",
    "&= \\mathbf{b}\\frac{\\mathbf{b}^T\\mathbf{x}}{\\|\\mathbf{b}\\|^2} = \\frac{\\mathbf{b}\\mathbf{b}^T}{\\|\\mathbf{b}\\|^2}\\mathbf{x}\n",
    "\\end{align}\n",
    "$\n",
    "\n",
    "so:  \n",
    "$\n",
    "\\mathbf{P}_{\\pi} = \\frac{\\mathbf{b}\\mathbf{b}^T}{\\|\\mathbf{b}\\|^2}\n",
    "$\n"
   ]
  },
  {
   "cell_type": "code",
   "execution_count": 17,
   "metadata": {},
   "outputs": [
    {
     "data": {
      "text/plain": [
       "array([[0.11111111, 0.22222222, 0.22222222],\n",
       "       [0.22222222, 0.44444444, 0.44444444],\n",
       "       [0.22222222, 0.44444444, 0.44444444]])"
      ]
     },
     "execution_count": 17,
     "metadata": {},
     "output_type": "execute_result"
    }
   ],
   "source": [
    "#example\n",
    "b =np.array([1, 2, 2]).reshape(-1, 1)\n",
    "P_pi = np.dot(b, b.T)/np.linalg.norm(b)**2\n",
    "P_pi"
   ]
  },
  {
   "cell_type": "code",
   "execution_count": null,
   "metadata": {},
   "outputs": [],
   "source": []
  }
 ],
 "metadata": {
  "kernelspec": {
   "display_name": "Python 3",
   "language": "python",
   "name": "python3"
  },
  "language_info": {
   "codemirror_mode": {
    "name": "ipython",
    "version": 3
   },
   "file_extension": ".py",
   "mimetype": "text/x-python",
   "name": "python",
   "nbconvert_exporter": "python",
   "pygments_lexer": "ipython3",
   "version": "3.7.6"
  }
 },
 "nbformat": 4,
 "nbformat_minor": 4
}
