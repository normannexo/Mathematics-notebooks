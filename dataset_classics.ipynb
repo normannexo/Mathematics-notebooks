{
 "cells": [
  {
   "cell_type": "markdown",
   "metadata": {},
   "source": [
    "# Dataset Classics"
   ]
  },
  {
   "cell_type": "code",
   "execution_count": 1,
   "metadata": {},
   "outputs": [],
   "source": [
    "import pandas as pd \n",
    "import numpy as np \n",
    "import matplotlib.pyplot as plt\n",
    "from mpl_toolkits.mplot3d import Axes3D\n",
    "import seaborn as sns \n",
    "from sklearn.datasets import load_iris, load_wine, load_boston, load_breast_cancer, load_diabetes, load_digits\n",
    "%matplotlib inline"
   ]
  },
  {
   "source": [
    "### Wine"
   ],
   "cell_type": "markdown",
   "metadata": {}
  },
  {
   "cell_type": "code",
   "execution_count": 2,
   "metadata": {},
   "outputs": [],
   "source": [
    "wine_data = load_wine()\n",
    "df_wine = pd.DataFrame(np.concatenate([wine_data.data, wine_data.target.reshape(-1,1)], axis=1), columns=wine_data.feature_names + ['target'])\n",
    "df_wine.target = df_wine.target.astype(int)"
   ]
  },
  {
   "cell_type": "code",
   "execution_count": 3,
   "metadata": {},
   "outputs": [
    {
     "output_type": "execute_result",
     "data": {
      "text/plain": [
       "     alcohol  malic_acid   ash  alcalinity_of_ash  magnesium  total_phenols  \\\n",
       "0      14.23        1.71  2.43               15.6      127.0           2.80   \n",
       "1      13.20        1.78  2.14               11.2      100.0           2.65   \n",
       "2      13.16        2.36  2.67               18.6      101.0           2.80   \n",
       "3      14.37        1.95  2.50               16.8      113.0           3.85   \n",
       "4      13.24        2.59  2.87               21.0      118.0           2.80   \n",
       "..       ...         ...   ...                ...        ...            ...   \n",
       "173    13.71        5.65  2.45               20.5       95.0           1.68   \n",
       "174    13.40        3.91  2.48               23.0      102.0           1.80   \n",
       "175    13.27        4.28  2.26               20.0      120.0           1.59   \n",
       "176    13.17        2.59  2.37               20.0      120.0           1.65   \n",
       "177    14.13        4.10  2.74               24.5       96.0           2.05   \n",
       "\n",
       "     flavanoids  nonflavanoid_phenols  proanthocyanins  color_intensity   hue  \\\n",
       "0          3.06                  0.28             2.29             5.64  1.04   \n",
       "1          2.76                  0.26             1.28             4.38  1.05   \n",
       "2          3.24                  0.30             2.81             5.68  1.03   \n",
       "3          3.49                  0.24             2.18             7.80  0.86   \n",
       "4          2.69                  0.39             1.82             4.32  1.04   \n",
       "..          ...                   ...              ...              ...   ...   \n",
       "173        0.61                  0.52             1.06             7.70  0.64   \n",
       "174        0.75                  0.43             1.41             7.30  0.70   \n",
       "175        0.69                  0.43             1.35            10.20  0.59   \n",
       "176        0.68                  0.53             1.46             9.30  0.60   \n",
       "177        0.76                  0.56             1.35             9.20  0.61   \n",
       "\n",
       "     od280/od315_of_diluted_wines  proline  target  \n",
       "0                            3.92   1065.0       0  \n",
       "1                            3.40   1050.0       0  \n",
       "2                            3.17   1185.0       0  \n",
       "3                            3.45   1480.0       0  \n",
       "4                            2.93    735.0       0  \n",
       "..                            ...      ...     ...  \n",
       "173                          1.74    740.0       2  \n",
       "174                          1.56    750.0       2  \n",
       "175                          1.56    835.0       2  \n",
       "176                          1.62    840.0       2  \n",
       "177                          1.60    560.0       2  \n",
       "\n",
       "[178 rows x 14 columns]"
      ],
      "text/html": "<div>\n<style scoped>\n    .dataframe tbody tr th:only-of-type {\n        vertical-align: middle;\n    }\n\n    .dataframe tbody tr th {\n        vertical-align: top;\n    }\n\n    .dataframe thead th {\n        text-align: right;\n    }\n</style>\n<table border=\"1\" class=\"dataframe\">\n  <thead>\n    <tr style=\"text-align: right;\">\n      <th></th>\n      <th>alcohol</th>\n      <th>malic_acid</th>\n      <th>ash</th>\n      <th>alcalinity_of_ash</th>\n      <th>magnesium</th>\n      <th>total_phenols</th>\n      <th>flavanoids</th>\n      <th>nonflavanoid_phenols</th>\n      <th>proanthocyanins</th>\n      <th>color_intensity</th>\n      <th>hue</th>\n      <th>od280/od315_of_diluted_wines</th>\n      <th>proline</th>\n      <th>target</th>\n    </tr>\n  </thead>\n  <tbody>\n    <tr>\n      <th>0</th>\n      <td>14.23</td>\n      <td>1.71</td>\n      <td>2.43</td>\n      <td>15.6</td>\n      <td>127.0</td>\n      <td>2.80</td>\n      <td>3.06</td>\n      <td>0.28</td>\n      <td>2.29</td>\n      <td>5.64</td>\n      <td>1.04</td>\n      <td>3.92</td>\n      <td>1065.0</td>\n      <td>0</td>\n    </tr>\n    <tr>\n      <th>1</th>\n      <td>13.20</td>\n      <td>1.78</td>\n      <td>2.14</td>\n      <td>11.2</td>\n      <td>100.0</td>\n      <td>2.65</td>\n      <td>2.76</td>\n      <td>0.26</td>\n      <td>1.28</td>\n      <td>4.38</td>\n      <td>1.05</td>\n      <td>3.40</td>\n      <td>1050.0</td>\n      <td>0</td>\n    </tr>\n    <tr>\n      <th>2</th>\n      <td>13.16</td>\n      <td>2.36</td>\n      <td>2.67</td>\n      <td>18.6</td>\n      <td>101.0</td>\n      <td>2.80</td>\n      <td>3.24</td>\n      <td>0.30</td>\n      <td>2.81</td>\n      <td>5.68</td>\n      <td>1.03</td>\n      <td>3.17</td>\n      <td>1185.0</td>\n      <td>0</td>\n    </tr>\n    <tr>\n      <th>3</th>\n      <td>14.37</td>\n      <td>1.95</td>\n      <td>2.50</td>\n      <td>16.8</td>\n      <td>113.0</td>\n      <td>3.85</td>\n      <td>3.49</td>\n      <td>0.24</td>\n      <td>2.18</td>\n      <td>7.80</td>\n      <td>0.86</td>\n      <td>3.45</td>\n      <td>1480.0</td>\n      <td>0</td>\n    </tr>\n    <tr>\n      <th>4</th>\n      <td>13.24</td>\n      <td>2.59</td>\n      <td>2.87</td>\n      <td>21.0</td>\n      <td>118.0</td>\n      <td>2.80</td>\n      <td>2.69</td>\n      <td>0.39</td>\n      <td>1.82</td>\n      <td>4.32</td>\n      <td>1.04</td>\n      <td>2.93</td>\n      <td>735.0</td>\n      <td>0</td>\n    </tr>\n    <tr>\n      <th>...</th>\n      <td>...</td>\n      <td>...</td>\n      <td>...</td>\n      <td>...</td>\n      <td>...</td>\n      <td>...</td>\n      <td>...</td>\n      <td>...</td>\n      <td>...</td>\n      <td>...</td>\n      <td>...</td>\n      <td>...</td>\n      <td>...</td>\n      <td>...</td>\n    </tr>\n    <tr>\n      <th>173</th>\n      <td>13.71</td>\n      <td>5.65</td>\n      <td>2.45</td>\n      <td>20.5</td>\n      <td>95.0</td>\n      <td>1.68</td>\n      <td>0.61</td>\n      <td>0.52</td>\n      <td>1.06</td>\n      <td>7.70</td>\n      <td>0.64</td>\n      <td>1.74</td>\n      <td>740.0</td>\n      <td>2</td>\n    </tr>\n    <tr>\n      <th>174</th>\n      <td>13.40</td>\n      <td>3.91</td>\n      <td>2.48</td>\n      <td>23.0</td>\n      <td>102.0</td>\n      <td>1.80</td>\n      <td>0.75</td>\n      <td>0.43</td>\n      <td>1.41</td>\n      <td>7.30</td>\n      <td>0.70</td>\n      <td>1.56</td>\n      <td>750.0</td>\n      <td>2</td>\n    </tr>\n    <tr>\n      <th>175</th>\n      <td>13.27</td>\n      <td>4.28</td>\n      <td>2.26</td>\n      <td>20.0</td>\n      <td>120.0</td>\n      <td>1.59</td>\n      <td>0.69</td>\n      <td>0.43</td>\n      <td>1.35</td>\n      <td>10.20</td>\n      <td>0.59</td>\n      <td>1.56</td>\n      <td>835.0</td>\n      <td>2</td>\n    </tr>\n    <tr>\n      <th>176</th>\n      <td>13.17</td>\n      <td>2.59</td>\n      <td>2.37</td>\n      <td>20.0</td>\n      <td>120.0</td>\n      <td>1.65</td>\n      <td>0.68</td>\n      <td>0.53</td>\n      <td>1.46</td>\n      <td>9.30</td>\n      <td>0.60</td>\n      <td>1.62</td>\n      <td>840.0</td>\n      <td>2</td>\n    </tr>\n    <tr>\n      <th>177</th>\n      <td>14.13</td>\n      <td>4.10</td>\n      <td>2.74</td>\n      <td>24.5</td>\n      <td>96.0</td>\n      <td>2.05</td>\n      <td>0.76</td>\n      <td>0.56</td>\n      <td>1.35</td>\n      <td>9.20</td>\n      <td>0.61</td>\n      <td>1.60</td>\n      <td>560.0</td>\n      <td>2</td>\n    </tr>\n  </tbody>\n</table>\n<p>178 rows × 14 columns</p>\n</div>"
     },
     "metadata": {},
     "execution_count": 3
    }
   ],
   "source": [
    "df_wine"
   ]
  },
  {
   "cell_type": "code",
   "execution_count": 4,
   "metadata": {},
   "outputs": [
    {
     "output_type": "execute_result",
     "data": {
      "text/plain": [
       "<mpl_toolkits.mplot3d.art3d.Path3DCollection at 0x253e120b608>"
      ]
     },
     "metadata": {},
     "execution_count": 4
    },
    {
     "output_type": "display_data",
     "data": {
      "text/plain": "<Figure size 432x288 with 1 Axes>",
      "image/svg+xml": "<?xml version=\"1.0\" encoding=\"utf-8\" standalone=\"no\"?>\r\n<!DOCTYPE svg PUBLIC \"-//W3C//DTD SVG 1.1//EN\"\r\n  \"http://www.w3.org/Graphics/SVG/1.1/DTD/svg11.dtd\">\r\n<!-- Created with matplotlib (https://matplotlib.org/) -->\r\n<svg height=\"231.84pt\" version=\"1.1\" viewBox=\"0 0 349.2 231.84\" width=\"349.2pt\" xmlns=\"http://www.w3.org/2000/svg\" xmlns:xlink=\"http://www.w3.org/1999/xlink\">\r\n <defs>\r\n  <style type=\"text/css\">\r\n*{stroke-linecap:butt;stroke-linejoin:round;}\r\n  </style>\r\n </defs>\r\n <g id=\"figure_1\">\r\n  <g id=\"patch_1\">\r\n   <path d=\"M 0 231.84 \r\nL 349.2 231.84 \r\nL 349.2 0 \r\nL 0 0 \r\nz\r\n\" style=\"fill:none;\"/>\r\n  </g>\r\n  <g id=\"patch_2\">\r\n   <path d=\"M 7.2 224.64 \r\nL 342 224.64 \r\nL 342 7.2 \r\nL 7.2 7.2 \r\nz\r\n\" style=\"fill:#ffffff;\"/>\r\n  </g>\r\n  <g id=\"pane3d_1\">\r\n   <g id=\"patch_3\">\r\n    <path d=\"M 51.582914 176.593423 \r\nL 147.404425 123.282062 \r\nL 145.809099 21.412801 \r\nL 44.64491 69.311962 \r\n\" style=\"fill:#f2f2f2;opacity:0.5;stroke:#f2f2f2;stroke-linejoin:miter;\"/>\r\n   </g>\r\n  </g>\r\n  <g id=\"pane3d_2\">\r\n   <g id=\"patch_4\">\r\n    <path d=\"M 147.404425 123.282062 \r\nL 302.626265 153.086553 \r\nL 309.120561 48.145466 \r\nL 145.809099 21.412801 \r\n\" style=\"fill:#e6e6e6;opacity:0.5;stroke:#e6e6e6;stroke-linejoin:miter;\"/>\r\n   </g>\r\n  </g>\r\n  <g id=\"pane3d_3\">\r\n   <g id=\"patch_5\">\r\n    <path d=\"M 51.582914 176.593423 \r\nL 214.897263 211.305609 \r\nL 302.626265 153.086553 \r\nL 147.404425 123.282062 \r\n\" style=\"fill:#ececec;opacity:0.5;stroke:#ececec;stroke-linejoin:miter;\"/>\r\n   </g>\r\n  </g>\r\n  <g id=\"axis3d_1\">\r\n   <g id=\"line2d_1\">\r\n    <path d=\"M 51.582914 176.593423 \r\nL 214.897263 211.305609 \r\n\" style=\"fill:none;stroke:#000000;stroke-linecap:square;stroke-width:0.8;\"/>\r\n   </g>\r\n   <g id=\"Line3DCollection_1\">\r\n    <path d=\"M 68.297044 180.145983 \r\nL 163.33823 126.341547 \r\nL 162.540577 24.151598 \r\n\" style=\"fill:none;stroke:#b0b0b0;stroke-width:0.8;\"/>\r\n    <path d=\"M 88.014927 184.336985 \r\nL 182.121476 129.94816 \r\nL 182.273748 27.381746 \r\n\" style=\"fill:none;stroke:#b0b0b0;stroke-width:0.8;\"/>\r\n    <path d=\"M 107.955685 188.575359 \r\nL 201.101555 133.592567 \r\nL 202.22427 30.647473 \r\n\" style=\"fill:none;stroke:#b0b0b0;stroke-width:0.8;\"/>\r\n    <path d=\"M 128.123117 192.861913 \r\nL 220.281575 137.275366 \r\nL 222.395753 33.949369 \r\n\" style=\"fill:none;stroke:#b0b0b0;stroke-width:0.8;\"/>\r\n    <path d=\"M 148.521112 197.197472 \r\nL 239.664714 140.997165 \r\nL 242.791887 37.288039 \r\n\" style=\"fill:none;stroke:#b0b0b0;stroke-width:0.8;\"/>\r\n    <path d=\"M 169.153645 201.582881 \r\nL 259.254215 144.758589 \r\nL 263.416448 40.6641 \r\n\" style=\"fill:none;stroke:#b0b0b0;stroke-width:0.8;\"/>\r\n    <path d=\"M 190.024784 206.019006 \r\nL 279.053391 148.560273 \r\nL 284.273294 44.078184 \r\n\" style=\"fill:none;stroke:#b0b0b0;stroke-width:0.8;\"/>\r\n    <path d=\"M 211.138694 210.506732 \r\nL 299.065626 152.402867 \r\nL 305.366372 47.530938 \r\n\" style=\"fill:none;stroke:#b0b0b0;stroke-width:0.8;\"/>\r\n   </g>\r\n   <g id=\"xtick_1\">\r\n    <g id=\"line2d_2\">\r\n     <path d=\"M 69.115985 179.682366 \r\nL 66.6561 181.074949 \r\n\" style=\"fill:none;stroke:#000000;stroke-linecap:square;stroke-width:0.8;\"/>\r\n    </g>\r\n    <g id=\"text_1\">\r\n     <!-- −400 -->\r\n     <defs>\r\n      <path d=\"M 10.59375 35.5 \r\nL 73.1875 35.5 \r\nL 73.1875 27.203125 \r\nL 10.59375 27.203125 \r\nz\r\n\" id=\"DejaVuSans-8722\"/>\r\n      <path d=\"M 37.796875 64.3125 \r\nL 12.890625 25.390625 \r\nL 37.796875 25.390625 \r\nz\r\nM 35.203125 72.90625 \r\nL 47.609375 72.90625 \r\nL 47.609375 25.390625 \r\nL 58.015625 25.390625 \r\nL 58.015625 17.1875 \r\nL 47.609375 17.1875 \r\nL 47.609375 0 \r\nL 37.796875 0 \r\nL 37.796875 17.1875 \r\nL 4.890625 17.1875 \r\nL 4.890625 26.703125 \r\nz\r\n\" id=\"DejaVuSans-52\"/>\r\n      <path d=\"M 31.78125 66.40625 \r\nQ 24.171875 66.40625 20.328125 58.90625 \r\nQ 16.5 51.421875 16.5 36.375 \r\nQ 16.5 21.390625 20.328125 13.890625 \r\nQ 24.171875 6.390625 31.78125 6.390625 \r\nQ 39.453125 6.390625 43.28125 13.890625 \r\nQ 47.125 21.390625 47.125 36.375 \r\nQ 47.125 51.421875 43.28125 58.90625 \r\nQ 39.453125 66.40625 31.78125 66.40625 \r\nz\r\nM 31.78125 74.21875 \r\nQ 44.046875 74.21875 50.515625 64.515625 \r\nQ 56.984375 54.828125 56.984375 36.375 \r\nQ 56.984375 17.96875 50.515625 8.265625 \r\nQ 44.046875 -1.421875 31.78125 -1.421875 \r\nQ 19.53125 -1.421875 13.0625 8.265625 \r\nQ 6.59375 17.96875 6.59375 36.375 \r\nQ 6.59375 54.828125 13.0625 64.515625 \r\nQ 19.53125 74.21875 31.78125 74.21875 \r\nz\r\n\" id=\"DejaVuSans-48\"/>\r\n     </defs>\r\n     <g transform=\"translate(46.815853 200.568447)scale(0.1 -0.1)\">\r\n      <use xlink:href=\"#DejaVuSans-8722\"/>\r\n      <use x=\"83.789062\" xlink:href=\"#DejaVuSans-52\"/>\r\n      <use x=\"147.412109\" xlink:href=\"#DejaVuSans-48\"/>\r\n      <use x=\"211.035156\" xlink:href=\"#DejaVuSans-48\"/>\r\n     </g>\r\n    </g>\r\n   </g>\r\n   <g id=\"xtick_2\">\r\n    <g id=\"line2d_3\">\r\n     <path d=\"M 88.826141 183.868145 \r\nL 86.38945 185.276429 \r\n\" style=\"fill:none;stroke:#000000;stroke-linecap:square;stroke-width:0.8;\"/>\r\n    </g>\r\n    <g id=\"text_2\">\r\n     <!-- −200 -->\r\n     <defs>\r\n      <path d=\"M 19.1875 8.296875 \r\nL 53.609375 8.296875 \r\nL 53.609375 0 \r\nL 7.328125 0 \r\nL 7.328125 8.296875 \r\nQ 12.9375 14.109375 22.625 23.890625 \r\nQ 32.328125 33.6875 34.8125 36.53125 \r\nQ 39.546875 41.84375 41.421875 45.53125 \r\nQ 43.3125 49.21875 43.3125 52.78125 \r\nQ 43.3125 58.59375 39.234375 62.25 \r\nQ 35.15625 65.921875 28.609375 65.921875 \r\nQ 23.96875 65.921875 18.8125 64.3125 \r\nQ 13.671875 62.703125 7.8125 59.421875 \r\nL 7.8125 69.390625 \r\nQ 13.765625 71.78125 18.9375 73 \r\nQ 24.125 74.21875 28.421875 74.21875 \r\nQ 39.75 74.21875 46.484375 68.546875 \r\nQ 53.21875 62.890625 53.21875 53.421875 \r\nQ 53.21875 48.921875 51.53125 44.890625 \r\nQ 49.859375 40.875 45.40625 35.40625 \r\nQ 44.1875 33.984375 37.640625 27.21875 \r\nQ 31.109375 20.453125 19.1875 8.296875 \r\nz\r\n\" id=\"DejaVuSans-50\"/>\r\n     </defs>\r\n     <g transform=\"translate(66.531289 204.840423)scale(0.1 -0.1)\">\r\n      <use xlink:href=\"#DejaVuSans-8722\"/>\r\n      <use x=\"83.789062\" xlink:href=\"#DejaVuSans-50\"/>\r\n      <use x=\"147.412109\" xlink:href=\"#DejaVuSans-48\"/>\r\n      <use x=\"211.035156\" xlink:href=\"#DejaVuSans-48\"/>\r\n     </g>\r\n    </g>\r\n   </g>\r\n   <g id=\"xtick_3\">\r\n    <g id=\"line2d_4\">\r\n     <path d=\"M 108.758944 188.101206 \r\nL 106.346131 189.525458 \r\n\" style=\"fill:none;stroke:#000000;stroke-linecap:square;stroke-width:0.8;\"/>\r\n    </g>\r\n    <g id=\"text_3\">\r\n     <!-- 0 -->\r\n     <g transform=\"translate(97.022384 209.160786)scale(0.1 -0.1)\">\r\n      <use xlink:href=\"#DejaVuSans-48\"/>\r\n     </g>\r\n    </g>\r\n   </g>\r\n   <g id=\"xtick_4\">\r\n    <g id=\"line2d_5\">\r\n     <path d=\"M 128.918188 192.382356 \r\nL 126.529955 193.822849 \r\n\" style=\"fill:none;stroke:#000000;stroke-linecap:square;stroke-width:0.8;\"/>\r\n    </g>\r\n    <g id=\"text_4\">\r\n     <!-- 200 -->\r\n     <g transform=\"translate(110.825765 213.530365)scale(0.1 -0.1)\">\r\n      <use xlink:href=\"#DejaVuSans-50\"/>\r\n      <use x=\"63.623047\" xlink:href=\"#DejaVuSans-48\"/>\r\n      <use x=\"127.246094\" xlink:href=\"#DejaVuSans-48\"/>\r\n     </g>\r\n    </g>\r\n   </g>\r\n   <g id=\"xtick_5\">\r\n    <g id=\"line2d_6\">\r\n     <path d=\"M 149.307753 196.712418 \r\nL 146.944822 198.169432 \r\n\" style=\"fill:none;stroke:#000000;stroke-linecap:square;stroke-width:0.8;\"/>\r\n    </g>\r\n    <g id=\"text_5\">\r\n     <!-- 400 -->\r\n     <g transform=\"translate(131.22268 217.950004)scale(0.1 -0.1)\">\r\n      <use xlink:href=\"#DejaVuSans-52\"/>\r\n      <use x=\"63.623047\" xlink:href=\"#DejaVuSans-48\"/>\r\n      <use x=\"127.246094\" xlink:href=\"#DejaVuSans-48\"/>\r\n     </g>\r\n    </g>\r\n   </g>\r\n   <g id=\"xtick_6\">\r\n    <g id=\"line2d_7\">\r\n     <path d=\"M 169.931611 201.092237 \r\nL 167.594722 202.566057 \r\n\" style=\"fill:none;stroke:#000000;stroke-linecap:square;stroke-width:0.8;\"/>\r\n    </g>\r\n    <g id=\"text_6\">\r\n     <!-- 600 -->\r\n     <defs>\r\n      <path d=\"M 33.015625 40.375 \r\nQ 26.375 40.375 22.484375 35.828125 \r\nQ 18.609375 31.296875 18.609375 23.390625 \r\nQ 18.609375 15.53125 22.484375 10.953125 \r\nQ 26.375 6.390625 33.015625 6.390625 \r\nQ 39.65625 6.390625 43.53125 10.953125 \r\nQ 47.40625 15.53125 47.40625 23.390625 \r\nQ 47.40625 31.296875 43.53125 35.828125 \r\nQ 39.65625 40.375 33.015625 40.375 \r\nz\r\nM 52.59375 71.296875 \r\nL 52.59375 62.3125 \r\nQ 48.875 64.0625 45.09375 64.984375 \r\nQ 41.3125 65.921875 37.59375 65.921875 \r\nQ 27.828125 65.921875 22.671875 59.328125 \r\nQ 17.53125 52.734375 16.796875 39.40625 \r\nQ 19.671875 43.65625 24.015625 45.921875 \r\nQ 28.375 48.1875 33.59375 48.1875 \r\nQ 44.578125 48.1875 50.953125 41.515625 \r\nQ 57.328125 34.859375 57.328125 23.390625 \r\nQ 57.328125 12.15625 50.6875 5.359375 \r\nQ 44.046875 -1.421875 33.015625 -1.421875 \r\nQ 20.359375 -1.421875 13.671875 8.265625 \r\nQ 6.984375 17.96875 6.984375 36.375 \r\nQ 6.984375 53.65625 15.1875 63.9375 \r\nQ 23.390625 74.21875 37.203125 74.21875 \r\nQ 40.921875 74.21875 44.703125 73.484375 \r\nQ 48.484375 72.75 52.59375 71.296875 \r\nz\r\n\" id=\"DejaVuSans-54\"/>\r\n     </defs>\r\n     <g transform=\"translate(151.854623 222.420569)scale(0.1 -0.1)\">\r\n      <use xlink:href=\"#DejaVuSans-54\"/>\r\n      <use x=\"63.623047\" xlink:href=\"#DejaVuSans-48\"/>\r\n      <use x=\"127.246094\" xlink:href=\"#DejaVuSans-48\"/>\r\n     </g>\r\n    </g>\r\n   </g>\r\n   <g id=\"xtick_7\">\r\n    <g id=\"line2d_8\">\r\n     <path d=\"M 190.793821 205.522673 \r\nL 188.483737 207.013592 \r\n\" style=\"fill:none;stroke:#000000;stroke-linecap:square;stroke-width:0.8;\"/>\r\n    </g>\r\n    <g id=\"text_7\">\r\n     <!-- 800 -->\r\n     <defs>\r\n      <path d=\"M 31.78125 34.625 \r\nQ 24.75 34.625 20.71875 30.859375 \r\nQ 16.703125 27.09375 16.703125 20.515625 \r\nQ 16.703125 13.921875 20.71875 10.15625 \r\nQ 24.75 6.390625 31.78125 6.390625 \r\nQ 38.8125 6.390625 42.859375 10.171875 \r\nQ 46.921875 13.96875 46.921875 20.515625 \r\nQ 46.921875 27.09375 42.890625 30.859375 \r\nQ 38.875 34.625 31.78125 34.625 \r\nz\r\nM 21.921875 38.8125 \r\nQ 15.578125 40.375 12.03125 44.71875 \r\nQ 8.5 49.078125 8.5 55.328125 \r\nQ 8.5 64.0625 14.71875 69.140625 \r\nQ 20.953125 74.21875 31.78125 74.21875 \r\nQ 42.671875 74.21875 48.875 69.140625 \r\nQ 55.078125 64.0625 55.078125 55.328125 \r\nQ 55.078125 49.078125 51.53125 44.71875 \r\nQ 48 40.375 41.703125 38.8125 \r\nQ 48.828125 37.15625 52.796875 32.3125 \r\nQ 56.78125 27.484375 56.78125 20.515625 \r\nQ 56.78125 9.90625 50.3125 4.234375 \r\nQ 43.84375 -1.421875 31.78125 -1.421875 \r\nQ 19.734375 -1.421875 13.25 4.234375 \r\nQ 6.78125 9.90625 6.78125 20.515625 \r\nQ 6.78125 27.484375 10.78125 32.3125 \r\nQ 14.796875 37.15625 21.921875 38.8125 \r\nz\r\nM 18.3125 54.390625 \r\nQ 18.3125 48.734375 21.84375 45.5625 \r\nQ 25.390625 42.390625 31.78125 42.390625 \r\nQ 38.140625 42.390625 41.71875 45.5625 \r\nQ 45.3125 48.734375 45.3125 54.390625 \r\nQ 45.3125 60.0625 41.71875 63.234375 \r\nQ 38.140625 66.40625 31.78125 66.40625 \r\nQ 25.390625 66.40625 21.84375 63.234375 \r\nQ 18.3125 60.0625 18.3125 54.390625 \r\nz\r\n\" id=\"DejaVuSans-56\"/>\r\n     </defs>\r\n     <g transform=\"translate(172.725678 226.942946)scale(0.1 -0.1)\">\r\n      <use xlink:href=\"#DejaVuSans-56\"/>\r\n      <use x=\"63.623047\" xlink:href=\"#DejaVuSans-48\"/>\r\n      <use x=\"127.246094\" xlink:href=\"#DejaVuSans-48\"/>\r\n     </g>\r\n    </g>\r\n   </g>\r\n   <g id=\"xtick_8\">\r\n    <g id=\"line2d_9\">\r\n     <path d=\"M 211.89854 210.00461 \r\nL 209.616046 211.512928 \r\n\" style=\"fill:none;stroke:#000000;stroke-linecap:square;stroke-width:0.8;\"/>\r\n    </g>\r\n    <g id=\"text_8\">\r\n     <!-- 1000 -->\r\n     <defs>\r\n      <path d=\"M 12.40625 8.296875 \r\nL 28.515625 8.296875 \r\nL 28.515625 63.921875 \r\nL 10.984375 60.40625 \r\nL 10.984375 69.390625 \r\nL 28.421875 72.90625 \r\nL 38.28125 72.90625 \r\nL 38.28125 8.296875 \r\nL 54.390625 8.296875 \r\nL 54.390625 0 \r\nL 12.40625 0 \r\nz\r\n\" id=\"DejaVuSans-49\"/>\r\n     </defs>\r\n     <g transform=\"translate(190.658777 231.51804)scale(0.1 -0.1)\">\r\n      <use xlink:href=\"#DejaVuSans-49\"/>\r\n      <use x=\"63.623047\" xlink:href=\"#DejaVuSans-48\"/>\r\n      <use x=\"127.246094\" xlink:href=\"#DejaVuSans-48\"/>\r\n      <use x=\"190.869141\" xlink:href=\"#DejaVuSans-48\"/>\r\n     </g>\r\n    </g>\r\n   </g>\r\n  </g>\r\n  <g id=\"axis3d_2\">\r\n   <g id=\"line2d_10\">\r\n    <path d=\"M 302.626265 153.086553 \r\nL 214.897263 211.305609 \r\n\" style=\"fill:none;stroke:#000000;stroke-linecap:square;stroke-width:0.8;\"/>\r\n   </g>\r\n   <g id=\"Line3DCollection_2\">\r\n    <path d=\"M 59.739675 62.164902 \r\nL 65.833123 168.665161 \r\nL 227.981277 202.622746 \r\n\" style=\"fill:none;stroke:#b0b0b0;stroke-width:0.8;\"/>\r\n    <path d=\"M 81.027861 52.085383 \r\nL 85.9584 157.46824 \r\nL 246.437319 190.374877 \r\n\" style=\"fill:none;stroke:#b0b0b0;stroke-width:0.8;\"/>\r\n    <path d=\"M 101.643244 42.324424 \r\nL 105.479116 146.607673 \r\nL 264.314108 178.511413 \r\n\" style=\"fill:none;stroke:#b0b0b0;stroke-width:0.8;\"/>\r\n    <path d=\"M 121.617223 32.867156 \r\nL 124.42211 136.068528 \r\nL 281.638493 167.014539 \r\n\" style=\"fill:none;stroke:#b0b0b0;stroke-width:0.8;\"/>\r\n    <path d=\"M 140.979272 23.699624 \r\nL 142.812653 125.836746 \r\nL 298.435689 155.867519 \r\n\" style=\"fill:none;stroke:#b0b0b0;stroke-width:0.8;\"/>\r\n   </g>\r\n   <g id=\"xtick_9\">\r\n    <g id=\"line2d_11\">\r\n     <path d=\"M 226.624604 202.338627 \r\nL 230.697638 203.191615 \r\n\" style=\"fill:none;stroke:#000000;stroke-linecap:square;stroke-width:0.8;\"/>\r\n    </g>\r\n    <g id=\"text_9\">\r\n     <!-- −20 -->\r\n     <g transform=\"translate(230.778524 221.366195)scale(0.1 -0.1)\">\r\n      <use xlink:href=\"#DejaVuSans-8722\"/>\r\n      <use x=\"83.789062\" xlink:href=\"#DejaVuSans-50\"/>\r\n      <use x=\"147.412109\" xlink:href=\"#DejaVuSans-48\"/>\r\n     </g>\r\n    </g>\r\n   </g>\r\n   <g id=\"xtick_10\">\r\n    <g id=\"line2d_12\">\r\n     <path d=\"M 245.09555 190.099743 \r\nL 249.12379 190.925745 \r\n\" style=\"fill:none;stroke:#000000;stroke-linecap:square;stroke-width:0.8;\"/>\r\n    </g>\r\n    <g id=\"text_10\">\r\n     <!-- 0 -->\r\n     <g transform=\"translate(256.382563 208.947633)scale(0.1 -0.1)\">\r\n      <use xlink:href=\"#DejaVuSans-48\"/>\r\n     </g>\r\n    </g>\r\n   </g>\r\n   <g id=\"xtick_11\">\r\n    <g id=\"line2d_13\">\r\n     <path d=\"M 262.986984 178.244846 \r\nL 266.971213 179.045122 \r\n\" style=\"fill:none;stroke:#000000;stroke-linecap:square;stroke-width:0.8;\"/>\r\n    </g>\r\n    <g id=\"text_11\">\r\n     <!-- 20 -->\r\n     <g transform=\"translate(270.862324 196.918618)scale(0.1 -0.1)\">\r\n      <use xlink:href=\"#DejaVuSans-50\"/>\r\n      <use x=\"63.623047\" xlink:href=\"#DejaVuSans-48\"/>\r\n     </g>\r\n    </g>\r\n   </g>\r\n   <g id=\"xtick_12\">\r\n    <g id=\"line2d_14\">\r\n     <path d=\"M 280.325756 166.756143 \r\nL 284.266749 167.531877 \r\n\" style=\"fill:none;stroke:#000000;stroke-linecap:square;stroke-width:0.8;\"/>\r\n    </g>\r\n    <g id=\"text_12\">\r\n     <!-- 40 -->\r\n     <g transform=\"translate(287.977897 185.261105)scale(0.1 -0.1)\">\r\n      <use xlink:href=\"#DejaVuSans-52\"/>\r\n      <use x=\"63.623047\" xlink:href=\"#DejaVuSans-48\"/>\r\n     </g>\r\n    </g>\r\n   </g>\r\n   <g id=\"xtick_13\">\r\n    <g id=\"line2d_15\">\r\n     <path d=\"M 297.137084 155.616926 \r\nL 301.035609 156.369229 \r\n\" style=\"fill:none;stroke:#000000;stroke-linecap:square;stroke-width:0.8;\"/>\r\n    </g>\r\n    <g id=\"text_13\">\r\n     <!-- 60 -->\r\n     <g transform=\"translate(304.572914 173.958144)scale(0.1 -0.1)\">\r\n      <use xlink:href=\"#DejaVuSans-54\"/>\r\n      <use x=\"63.623047\" xlink:href=\"#DejaVuSans-48\"/>\r\n     </g>\r\n    </g>\r\n   </g>\r\n  </g>\r\n  <g id=\"axis3d_3\">\r\n   <g id=\"line2d_16\">\r\n    <path d=\"M 302.626265 153.086553 \r\nL 309.120561 48.145466 \r\n\" style=\"fill:none;stroke:#000000;stroke-linecap:square;stroke-width:0.8;\"/>\r\n   </g>\r\n   <g id=\"Line3DCollection_3\">\r\n    <path d=\"M 303.451991 139.743684 \r\nL 147.201199 110.305117 \r\nL 50.702097 162.973466 \r\n\" style=\"fill:none;stroke:#b0b0b0;stroke-width:0.8;\"/>\r\n    <path d=\"M 304.175999 128.04446 \r\nL 147.023101 98.932659 \r\nL 49.929467 151.026384 \r\n\" style=\"fill:none;stroke:#b0b0b0;stroke-width:0.8;\"/>\r\n    <path d=\"M 304.908489 116.208179 \r\nL 146.843004 87.432595 \r\nL 49.147483 138.934677 \r\n\" style=\"fill:none;stroke:#b0b0b0;stroke-width:0.8;\"/>\r\n    <path d=\"M 305.649611 104.23242 \r\nL 146.660874 75.802766 \r\nL 48.355976 126.695702 \r\n\" style=\"fill:none;stroke:#b0b0b0;stroke-width:0.8;\"/>\r\n    <path d=\"M 306.399518 92.114702 \r\nL 146.476678 64.040963 \r\nL 47.55477 114.306754 \r\n\" style=\"fill:none;stroke:#b0b0b0;stroke-width:0.8;\"/>\r\n    <path d=\"M 307.158367 79.852485 \r\nL 146.29038 52.144926 \r\nL 46.743685 101.765057 \r\n\" style=\"fill:none;stroke:#b0b0b0;stroke-width:0.8;\"/>\r\n    <path d=\"M 307.92632 67.44317 \r\nL 146.101943 40.112345 \r\nL 45.922538 89.06777 \r\n\" style=\"fill:none;stroke:#b0b0b0;stroke-width:0.8;\"/>\r\n    <path d=\"M 308.70354 54.884094 \r\nL 145.911331 27.940855 \r\nL 45.091141 76.211979 \r\n\" style=\"fill:none;stroke:#b0b0b0;stroke-width:0.8;\"/>\r\n   </g>\r\n   <g id=\"xtick_14\">\r\n    <g id=\"line2d_17\">\r\n     <path d=\"M 302.147996 139.498004 \r\nL 306.062708 140.235558 \r\n\" style=\"fill:none;stroke:#000000;stroke-linecap:square;stroke-width:0.8;\"/>\r\n    </g>\r\n    <g id=\"text_14\">\r\n     <!-- −7.5 -->\r\n     <defs>\r\n      <path d=\"M 8.203125 72.90625 \r\nL 55.078125 72.90625 \r\nL 55.078125 68.703125 \r\nL 28.609375 0 \r\nL 18.3125 0 \r\nL 43.21875 64.59375 \r\nL 8.203125 64.59375 \r\nz\r\n\" id=\"DejaVuSans-55\"/>\r\n      <path d=\"M 10.6875 12.40625 \r\nL 21 12.40625 \r\nL 21 0 \r\nL 10.6875 0 \r\nz\r\n\" id=\"DejaVuSans-46\"/>\r\n      <path d=\"M 10.796875 72.90625 \r\nL 49.515625 72.90625 \r\nL 49.515625 64.59375 \r\nL 19.828125 64.59375 \r\nL 19.828125 46.734375 \r\nQ 21.96875 47.46875 24.109375 47.828125 \r\nQ 26.265625 48.1875 28.421875 48.1875 \r\nQ 40.625 48.1875 47.75 41.5 \r\nQ 54.890625 34.8125 54.890625 23.390625 \r\nQ 54.890625 11.625 47.5625 5.09375 \r\nQ 40.234375 -1.421875 26.90625 -1.421875 \r\nQ 22.3125 -1.421875 17.546875 -0.640625 \r\nQ 12.796875 0.140625 7.71875 1.703125 \r\nL 7.71875 11.625 \r\nQ 12.109375 9.234375 16.796875 8.0625 \r\nQ 21.484375 6.890625 26.703125 6.890625 \r\nQ 35.15625 6.890625 40.078125 11.328125 \r\nQ 45.015625 15.765625 45.015625 23.390625 \r\nQ 45.015625 31 40.078125 35.4375 \r\nQ 35.15625 39.890625 26.703125 39.890625 \r\nQ 22.75 39.890625 18.8125 39.015625 \r\nQ 14.890625 38.140625 10.796875 36.28125 \r\nz\r\n\" id=\"DejaVuSans-53\"/>\r\n     </defs>\r\n     <g transform=\"translate(310.827623 145.548346)scale(0.1 -0.1)\">\r\n      <use xlink:href=\"#DejaVuSans-8722\"/>\r\n      <use x=\"83.789062\" xlink:href=\"#DejaVuSans-55\"/>\r\n      <use x=\"147.412109\" xlink:href=\"#DejaVuSans-46\"/>\r\n      <use x=\"179.199219\" xlink:href=\"#DejaVuSans-53\"/>\r\n     </g>\r\n    </g>\r\n   </g>\r\n   <g id=\"xtick_15\">\r\n    <g id=\"line2d_18\">\r\n     <path d=\"M 302.86416 127.801448 \r\nL 306.802438 128.530995 \r\n\" style=\"fill:none;stroke:#000000;stroke-linecap:square;stroke-width:0.8;\"/>\r\n    </g>\r\n    <g id=\"text_15\">\r\n     <!-- −5.0 -->\r\n     <g transform=\"translate(311.663144 133.868628)scale(0.1 -0.1)\">\r\n      <use xlink:href=\"#DejaVuSans-8722\"/>\r\n      <use x=\"83.789062\" xlink:href=\"#DejaVuSans-53\"/>\r\n      <use x=\"147.412109\" xlink:href=\"#DejaVuSans-46\"/>\r\n      <use x=\"179.199219\" xlink:href=\"#DejaVuSans-48\"/>\r\n     </g>\r\n    </g>\r\n   </g>\r\n   <g id=\"xtick_16\">\r\n    <g id=\"line2d_19\">\r\n     <path d=\"M 303.588711 115.967916 \r\nL 307.55084 116.689215 \r\n\" style=\"fill:none;stroke:#000000;stroke-linecap:square;stroke-width:0.8;\"/>\r\n    </g>\r\n    <g id=\"text_16\">\r\n     <!-- −2.5 -->\r\n     <g transform=\"translate(312.508428 122.052434)scale(0.1 -0.1)\">\r\n      <use xlink:href=\"#DejaVuSans-8722\"/>\r\n      <use x=\"83.789062\" xlink:href=\"#DejaVuSans-50\"/>\r\n      <use x=\"147.412109\" xlink:href=\"#DejaVuSans-46\"/>\r\n      <use x=\"179.199219\" xlink:href=\"#DejaVuSans-53\"/>\r\n     </g>\r\n    </g>\r\n   </g>\r\n   <g id=\"xtick_17\">\r\n    <g id=\"line2d_20\">\r\n     <path d=\"M 304.321796 103.994986 \r\nL 308.308068 104.707793 \r\n\" style=\"fill:none;stroke:#000000;stroke-linecap:square;stroke-width:0.8;\"/>\r\n    </g>\r\n    <g id=\"text_17\">\r\n     <!-- 0.0 -->\r\n     <g transform=\"translate(317.553491 110.097358)scale(0.1 -0.1)\">\r\n      <use xlink:href=\"#DejaVuSans-48\"/>\r\n      <use x=\"63.623047\" xlink:href=\"#DejaVuSans-46\"/>\r\n      <use x=\"95.410156\" xlink:href=\"#DejaVuSans-48\"/>\r\n     </g>\r\n    </g>\r\n   </g>\r\n   <g id=\"xtick_18\">\r\n    <g id=\"line2d_21\">\r\n     <path d=\"M 305.063569 91.880182 \r\nL 309.074278 92.584244 \r\n\" style=\"fill:none;stroke:#000000;stroke-linecap:square;stroke-width:0.8;\"/>\r\n    </g>\r\n    <g id=\"text_18\">\r\n     <!-- 2.5 -->\r\n     <g transform=\"translate(318.418821 98.000937)scale(0.1 -0.1)\">\r\n      <use xlink:href=\"#DejaVuSans-50\"/>\r\n      <use x=\"63.623047\" xlink:href=\"#DejaVuSans-46\"/>\r\n      <use x=\"95.410156\" xlink:href=\"#DejaVuSans-53\"/>\r\n     </g>\r\n    </g>\r\n   </g>\r\n   <g id=\"xtick_19\">\r\n    <g id=\"line2d_22\">\r\n     <path d=\"M 305.814183 79.620966 \r\nL 309.849631 80.316022 \r\n\" style=\"fill:none;stroke:#000000;stroke-linecap:square;stroke-width:0.8;\"/>\r\n    </g>\r\n    <g id=\"text_19\">\r\n     <!-- 5.0 -->\r\n     <g transform=\"translate(319.294443 85.76065)scale(0.1 -0.1)\">\r\n      <use xlink:href=\"#DejaVuSans-53\"/>\r\n      <use x=\"63.623047\" xlink:href=\"#DejaVuSans-46\"/>\r\n      <use x=\"95.410156\" xlink:href=\"#DejaVuSans-48\"/>\r\n     </g>\r\n    </g>\r\n   </g>\r\n   <g id=\"xtick_20\">\r\n    <g id=\"line2d_23\">\r\n     <path d=\"M 306.573799 67.21474 \r\nL 310.634292 67.900524 \r\n\" style=\"fill:none;stroke:#000000;stroke-linecap:square;stroke-width:0.8;\"/>\r\n    </g>\r\n    <g id=\"text_20\">\r\n     <!-- 7.5 -->\r\n     <g transform=\"translate(320.180541 73.373914)scale(0.1 -0.1)\">\r\n      <use xlink:href=\"#DejaVuSans-55\"/>\r\n      <use x=\"63.623047\" xlink:href=\"#DejaVuSans-46\"/>\r\n      <use x=\"95.410156\" xlink:href=\"#DejaVuSans-53\"/>\r\n     </g>\r\n    </g>\r\n   </g>\r\n   <g id=\"xtick_21\">\r\n    <g id=\"line2d_24\">\r\n     <path d=\"M 307.342579 54.658845 \r\nL 311.42843 55.335082 \r\n\" style=\"fill:none;stroke:#000000;stroke-linecap:square;stroke-width:0.8;\"/>\r\n    </g>\r\n    <g id=\"text_21\">\r\n     <!-- 10.0 -->\r\n     <g transform=\"translate(317.896055 60.838085)scale(0.1 -0.1)\">\r\n      <use xlink:href=\"#DejaVuSans-49\"/>\r\n      <use x=\"63.623047\" xlink:href=\"#DejaVuSans-48\"/>\r\n      <use x=\"127.246094\" xlink:href=\"#DejaVuSans-46\"/>\r\n      <use x=\"159.033203\" xlink:href=\"#DejaVuSans-48\"/>\r\n     </g>\r\n    </g>\r\n   </g>\r\n  </g>\r\n  <g id=\"axes_1\">\r\n   <g id=\"Path3DCollection_1\">\r\n    <defs>\r\n     <path d=\"M 0 2.236068 \r\nC 0.593012 2.236068 1.161816 2.000462 1.581139 1.581139 \r\nC 2.000462 1.161816 2.236068 0.593012 2.236068 0 \r\nC 2.236068 -0.593012 2.000462 -1.161816 1.581139 -1.581139 \r\nC 1.161816 -2.000462 0.593012 -2.236068 0 -2.236068 \r\nC -0.593012 -2.236068 -1.161816 -2.000462 -1.581139 -1.581139 \r\nC -2.000462 -1.161816 -2.236068 -0.593012 -2.236068 0 \r\nC -2.236068 0.593012 -2.000462 1.161816 -1.581139 1.581139 \r\nC -1.161816 2.000462 -0.593012 2.236068 0 2.236068 \r\nz\r\n\" id=\"C0_0_81f7ffe6c6\"/>\r\n    </defs>\r\n    <g clip-path=\"url(#p360e6e29aa)\">\r\n     <use style=\"fill:#440154;fill-opacity:0.645891;stroke:#440154;stroke-opacity:0.645891;\" x=\"193.551374\" xlink:href=\"#C0_0_81f7ffe6c6\" y=\"98.448209\"/>\r\n    </g>\r\n    <g clip-path=\"url(#p360e6e29aa)\">\r\n     <use style=\"fill:#440154;fill-opacity:0.90635;stroke:#440154;stroke-opacity:0.90635;\" x=\"165.870721\" xlink:href=\"#C0_0_81f7ffe6c6\" y=\"93.942514\"/>\r\n    </g>\r\n    <g clip-path=\"url(#p360e6e29aa)\">\r\n     <use style=\"fill:#440154;fill-opacity:0.778563;stroke:#440154;stroke-opacity:0.778563;\" x=\"178.911225\" xlink:href=\"#C0_0_81f7ffe6c6\" y=\"137.003197\"/>\r\n    </g>\r\n    <g clip-path=\"url(#p360e6e29aa)\">\r\n     <use style=\"fill:#440154;fill-opacity:0.808919;stroke:#440154;stroke-opacity:0.808919;\" x=\"216.17484\" xlink:href=\"#C0_0_81f7ffe6c6\" y=\"138.170966\"/>\r\n    </g>\r\n    <g clip-path=\"url(#p360e6e29aa)\">\r\n     <use style=\"fill:#440154;fill-opacity:0.513825;stroke:#440154;stroke-opacity:0.513825;\" x=\"157.334949\" xlink:href=\"#C0_0_81f7ffe6c6\" y=\"111.835495\"/>\r\n    </g>\r\n    <g clip-path=\"url(#p360e6e29aa)\">\r\n     <use style=\"fill:#440154;fill-opacity:0.844929;stroke:#440154;stroke-opacity:0.844929;\" x=\"212.680904\" xlink:href=\"#C0_0_81f7ffe6c6\" y=\"128.610654\"/>\r\n    </g>\r\n    <g clip-path=\"url(#p360e6e29aa)\">\r\n     <use style=\"fill:#440154;fill-opacity:0.923721;stroke:#440154;stroke-opacity:0.923721;\" x=\"183.061322\" xlink:href=\"#C0_0_81f7ffe6c6\" y=\"126.955502\"/>\r\n    </g>\r\n    <g clip-path=\"url(#p360e6e29aa)\">\r\n     <use style=\"fill:#440154;fill-opacity:0.705783;stroke:#440154;stroke-opacity:0.705783;\" x=\"207.590462\" xlink:href=\"#C0_0_81f7ffe6c6\" y=\"123.477357\"/>\r\n    </g>\r\n    <g clip-path=\"url(#p360e6e29aa)\">\r\n     <use style=\"fill:#440154;fill-opacity:0.861537;stroke:#440154;stroke-opacity:0.861537;\" x=\"162.645636\" xlink:href=\"#C0_0_81f7ffe6c6\" y=\"110.285589\"/>\r\n    </g>\r\n    <g clip-path=\"url(#p360e6e29aa)\">\r\n     <use style=\"fill:#440154;fill-opacity:0.804344;stroke:#440154;stroke-opacity:0.804344;\" x=\"163.806958\" xlink:href=\"#C0_0_81f7ffe6c6\" y=\"121.312012\"/>\r\n    </g>\r\n    <g clip-path=\"url(#p360e6e29aa)\">\r\n     <use style=\"fill:#440154;fill-opacity:0.855672;stroke:#440154;stroke-opacity:0.855672;\" x=\"211.13111\" xlink:href=\"#C0_0_81f7ffe6c6\" y=\"148.464999\"/>\r\n    </g>\r\n    <g clip-path=\"url(#p360e6e29aa)\">\r\n     <use style=\"fill:#440154;fill-opacity:0.883328;stroke:#440154;stroke-opacity:0.883328;\" x=\"181.234907\" xlink:href=\"#C0_0_81f7ffe6c6\" y=\"137.182621\"/>\r\n    </g>\r\n    <g clip-path=\"url(#p360e6e29aa)\">\r\n     <use style=\"fill:#440154;fill-opacity:0.946928;stroke:#440154;stroke-opacity:0.946928;\" x=\"178.807084\" xlink:href=\"#C0_0_81f7ffe6c6\" y=\"140.663975\"/>\r\n    </g>\r\n    <g clip-path=\"url(#p360e6e29aa)\">\r\n     <use style=\"fill:#440154;fill-opacity:0.984329;stroke:#440154;stroke-opacity:0.984329;\" x=\"165.656803\" xlink:href=\"#C0_0_81f7ffe6c6\" y=\"107.621995\"/>\r\n    </g>\r\n    <g clip-path=\"url(#p360e6e29aa)\">\r\n     <use style=\"fill:#440154;stroke:#440154;\" x=\"211.818901\" xlink:href=\"#C0_0_81f7ffe6c6\" y=\"126.718061\"/>\r\n    </g>\r\n    <g clip-path=\"url(#p360e6e29aa)\">\r\n     <use style=\"fill:#440154;fill-opacity:0.76109;stroke:#440154;stroke-opacity:0.76109;\" x=\"200.35027\" xlink:href=\"#C0_0_81f7ffe6c6\" y=\"131.685188\"/>\r\n    </g>\r\n    <g clip-path=\"url(#p360e6e29aa)\">\r\n     <use style=\"fill:#440154;fill-opacity:0.65465;stroke:#440154;stroke-opacity:0.65465;\" x=\"205.26808\" xlink:href=\"#C0_0_81f7ffe6c6\" y=\"135.8282\"/>\r\n    </g>\r\n    <g clip-path=\"url(#p360e6e29aa)\">\r\n     <use style=\"fill:#440154;fill-opacity:0.644354;stroke:#440154;stroke-opacity:0.644354;\" x=\"187.699386\" xlink:href=\"#C0_0_81f7ffe6c6\" y=\"131.796743\"/>\r\n    </g>\r\n    <g clip-path=\"url(#p360e6e29aa)\">\r\n     <use style=\"fill:#440154;fill-opacity:0.897752;stroke:#440154;stroke-opacity:0.897752;\" x=\"229.131547\" xlink:href=\"#C0_0_81f7ffe6c6\" y=\"152.232665\"/>\r\n    </g>\r\n    <g clip-path=\"url(#p360e6e29aa)\">\r\n     <use style=\"fill:#440154;fill-opacity:0.66094;stroke:#440154;stroke-opacity:0.66094;\" x=\"164.264127\" xlink:href=\"#C0_0_81f7ffe6c6\" y=\"93.253002\"/>\r\n    </g>\r\n    <g clip-path=\"url(#p360e6e29aa)\">\r\n     <use style=\"fill:#440154;fill-opacity:0.569384;stroke:#440154;stroke-opacity:0.569384;\" x=\"168.471381\" xlink:href=\"#C0_0_81f7ffe6c6\" y=\"86.615107\"/>\r\n    </g>\r\n    <g clip-path=\"url(#p360e6e29aa)\">\r\n     <use style=\"fill:#440154;fill-opacity:0.661865;stroke:#440154;stroke-opacity:0.661865;\" x=\"144.508914\" xlink:href=\"#C0_0_81f7ffe6c6\" y=\"114.392381\"/>\r\n    </g>\r\n    <g clip-path=\"url(#p360e6e29aa)\">\r\n     <use style=\"fill:#440154;fill-opacity:0.790464;stroke:#440154;stroke-opacity:0.790464;\" x=\"165.853684\" xlink:href=\"#C0_0_81f7ffe6c6\" y=\"116.916764\"/>\r\n    </g>\r\n    <g clip-path=\"url(#p360e6e29aa)\">\r\n     <use style=\"fill:#440154;fill-opacity:0.797165;stroke:#440154;stroke-opacity:0.797165;\" x=\"158.2912\" xlink:href=\"#C0_0_81f7ffe6c6\" y=\"126.065251\"/>\r\n    </g>\r\n    <g clip-path=\"url(#p360e6e29aa)\">\r\n     <use style=\"fill:#440154;fill-opacity:0.703345;stroke:#440154;stroke-opacity:0.703345;\" x=\"144.98405\" xlink:href=\"#C0_0_81f7ffe6c6\" y=\"126.096483\"/>\r\n    </g>\r\n    <g clip-path=\"url(#p360e6e29aa)\">\r\n     <use style=\"fill:#440154;fill-opacity:0.434104;stroke:#440154;stroke-opacity:0.434104;\" x=\"171.11002\" xlink:href=\"#C0_0_81f7ffe6c6\" y=\"129.114717\"/>\r\n    </g>\r\n    <g clip-path=\"url(#p360e6e29aa)\">\r\n     <use style=\"fill:#440154;fill-opacity:0.888998;stroke:#440154;stroke-opacity:0.888998;\" x=\"171.810789\" xlink:href=\"#C0_0_81f7ffe6c6\" y=\"130.312728\"/>\r\n    </g>\r\n    <g clip-path=\"url(#p360e6e29aa)\">\r\n     <use style=\"fill:#440154;fill-opacity:0.893175;stroke:#440154;stroke-opacity:0.893175;\" x=\"180.675505\" xlink:href=\"#C0_0_81f7ffe6c6\" y=\"137.744407\"/>\r\n    </g>\r\n    <g clip-path=\"url(#p360e6e29aa)\">\r\n     <use style=\"fill:#440154;fill-opacity:0.659903;stroke:#440154;stroke-opacity:0.659903;\" x=\"161.681106\" xlink:href=\"#C0_0_81f7ffe6c6\" y=\"120.721894\"/>\r\n    </g>\r\n    <g clip-path=\"url(#p360e6e29aa)\">\r\n     <use style=\"fill:#440154;fill-opacity:0.827697;stroke:#440154;stroke-opacity:0.827697;\" x=\"160.902246\" xlink:href=\"#C0_0_81f7ffe6c6\" y=\"119.140069\"/>\r\n    </g>\r\n    <g clip-path=\"url(#p360e6e29aa)\">\r\n     <use style=\"fill:#440154;fill-opacity:0.729631;stroke:#440154;stroke-opacity:0.729631;\" x=\"187.593946\" xlink:href=\"#C0_0_81f7ffe6c6\" y=\"159.788039\"/>\r\n    </g>\r\n    <g clip-path=\"url(#p360e6e29aa)\">\r\n     <use style=\"fill:#440154;fill-opacity:0.821466;stroke:#440154;stroke-opacity:0.821466;\" x=\"212.459885\" xlink:href=\"#C0_0_81f7ffe6c6\" y=\"154.623268\"/>\r\n    </g>\r\n    <g clip-path=\"url(#p360e6e29aa)\">\r\n     <use style=\"fill:#440154;fill-opacity:0.74508;stroke:#440154;stroke-opacity:0.74508;\" x=\"164.982411\" xlink:href=\"#C0_0_81f7ffe6c6\" y=\"115.795814\"/>\r\n    </g>\r\n    <g clip-path=\"url(#p360e6e29aa)\">\r\n     <use style=\"fill:#440154;fill-opacity:0.585088;stroke:#440154;stroke-opacity:0.585088;\" x=\"212.644846\" xlink:href=\"#C0_0_81f7ffe6c6\" y=\"121.617516\"/>\r\n    </g>\r\n    <g clip-path=\"url(#p360e6e29aa)\">\r\n     <use style=\"fill:#440154;fill-opacity:0.697707;stroke:#440154;stroke-opacity:0.697707;\" x=\"179.875805\" xlink:href=\"#C0_0_81f7ffe6c6\" y=\"126.037326\"/>\r\n    </g>\r\n    <g clip-path=\"url(#p360e6e29aa)\">\r\n     <use style=\"fill:#440154;fill-opacity:0.6799;stroke:#440154;stroke-opacity:0.6799;\" x=\"155.365191\" xlink:href=\"#C0_0_81f7ffe6c6\" y=\"131.566887\"/>\r\n    </g>\r\n    <g clip-path=\"url(#p360e6e29aa)\">\r\n     <use style=\"fill:#440154;fill-opacity:0.706423;stroke:#440154;stroke-opacity:0.706423;\" x=\"161.387591\" xlink:href=\"#C0_0_81f7ffe6c6\" y=\"99.307713\"/>\r\n    </g>\r\n    <g clip-path=\"url(#p360e6e29aa)\">\r\n     <use style=\"fill:#440154;fill-opacity:0.795118;stroke:#440154;stroke-opacity:0.795118;\" x=\"169.021078\" xlink:href=\"#C0_0_81f7ffe6c6\" y=\"130.459641\"/>\r\n    </g>\r\n    <g clip-path=\"url(#p360e6e29aa)\">\r\n     <use style=\"fill:#440154;fill-opacity:0.826887;stroke:#440154;stroke-opacity:0.826887;\" x=\"161.529159\" xlink:href=\"#C0_0_81f7ffe6c6\" y=\"113.24524\"/>\r\n    </g>\r\n    <g clip-path=\"url(#p360e6e29aa)\">\r\n     <use style=\"fill:#440154;fill-opacity:0.602098;stroke:#440154;stroke-opacity:0.602098;\" x=\"168.574844\" xlink:href=\"#C0_0_81f7ffe6c6\" y=\"72.19607\"/>\r\n    </g>\r\n    <g clip-path=\"url(#p360e6e29aa)\">\r\n     <use style=\"fill:#440154;fill-opacity:0.620847;stroke:#440154;stroke-opacity:0.620847;\" x=\"161.091226\" xlink:href=\"#C0_0_81f7ffe6c6\" y=\"94.987106\"/>\r\n    </g>\r\n    <g clip-path=\"url(#p360e6e29aa)\">\r\n     <use style=\"fill:#440154;fill-opacity:0.806035;stroke:#440154;stroke-opacity:0.806035;\" x=\"155.15594\" xlink:href=\"#C0_0_81f7ffe6c6\" y=\"137.201617\"/>\r\n    </g>\r\n    <g clip-path=\"url(#p360e6e29aa)\">\r\n     <use style=\"fill:#440154;fill-opacity:0.829633;stroke:#440154;stroke-opacity:0.829633;\" x=\"170.99209\" xlink:href=\"#C0_0_81f7ffe6c6\" y=\"114.768125\"/>\r\n    </g>\r\n    <g clip-path=\"url(#p360e6e29aa)\">\r\n     <use style=\"fill:#440154;fill-opacity:0.653265;stroke:#440154;stroke-opacity:0.653265;\" x=\"137.815958\" xlink:href=\"#C0_0_81f7ffe6c6\" y=\"104.025155\"/>\r\n    </g>\r\n    <g clip-path=\"url(#p360e6e29aa)\">\r\n     <use style=\"fill:#440154;fill-opacity:0.696765;stroke:#440154;stroke-opacity:0.696765;\" x=\"158.985416\" xlink:href=\"#C0_0_81f7ffe6c6\" y=\"108.59329\"/>\r\n    </g>\r\n    <g clip-path=\"url(#p360e6e29aa)\">\r\n     <use style=\"fill:#440154;fill-opacity:0.678429;stroke:#440154;stroke-opacity:0.678429;\" x=\"179.571224\" xlink:href=\"#C0_0_81f7ffe6c6\" y=\"126.681953\"/>\r\n    </g>\r\n    <g clip-path=\"url(#p360e6e29aa)\">\r\n     <use style=\"fill:#440154;fill-opacity:0.793314;stroke:#440154;stroke-opacity:0.793314;\" x=\"169.429265\" xlink:href=\"#C0_0_81f7ffe6c6\" y=\"117.54012\"/>\r\n    </g>\r\n    <g clip-path=\"url(#p360e6e29aa)\">\r\n     <use style=\"fill:#440154;fill-opacity:0.775437;stroke:#440154;stroke-opacity:0.775437;\" x=\"161.584675\" xlink:href=\"#C0_0_81f7ffe6c6\" y=\"114.576663\"/>\r\n    </g>\r\n    <g clip-path=\"url(#p360e6e29aa)\">\r\n     <use style=\"fill:#440154;fill-opacity:0.724084;stroke:#440154;stroke-opacity:0.724084;\" x=\"170.134357\" xlink:href=\"#C0_0_81f7ffe6c6\" y=\"130.866474\"/>\r\n    </g>\r\n    <g clip-path=\"url(#p360e6e29aa)\">\r\n     <use style=\"fill:#440154;fill-opacity:0.760876;stroke:#440154;stroke-opacity:0.760876;\" x=\"192.185839\" xlink:href=\"#C0_0_81f7ffe6c6\" y=\"134.572569\"/>\r\n    </g>\r\n    <g clip-path=\"url(#p360e6e29aa)\">\r\n     <use style=\"fill:#440154;fill-opacity:0.94541;stroke:#440154;stroke-opacity:0.94541;\" x=\"166.757497\" xlink:href=\"#C0_0_81f7ffe6c6\" y=\"114.281483\"/>\r\n    </g>\r\n    <g clip-path=\"url(#p360e6e29aa)\">\r\n     <use style=\"fill:#440154;fill-opacity:0.87539;stroke:#440154;stroke-opacity:0.87539;\" x=\"178.961592\" xlink:href=\"#C0_0_81f7ffe6c6\" y=\"139.402166\"/>\r\n    </g>\r\n    <g clip-path=\"url(#p360e6e29aa)\">\r\n     <use style=\"fill:#440154;fill-opacity:0.803352;stroke:#440154;stroke-opacity:0.803352;\" x=\"189.004263\" xlink:href=\"#C0_0_81f7ffe6c6\" y=\"110.13398\"/>\r\n    </g>\r\n    <g clip-path=\"url(#p360e6e29aa)\">\r\n     <use style=\"fill:#440154;fill-opacity:0.76797;stroke:#440154;stroke-opacity:0.76797;\" x=\"208.872752\" xlink:href=\"#C0_0_81f7ffe6c6\" y=\"131.131433\"/>\r\n    </g>\r\n    <g clip-path=\"url(#p360e6e29aa)\">\r\n     <use style=\"fill:#440154;fill-opacity:0.681617;stroke:#440154;stroke-opacity:0.681617;\" x=\"184.543767\" xlink:href=\"#C0_0_81f7ffe6c6\" y=\"108.634871\"/>\r\n    </g>\r\n    <g clip-path=\"url(#p360e6e29aa)\">\r\n     <use style=\"fill:#440154;fill-opacity:0.627827;stroke:#440154;stroke-opacity:0.627827;\" x=\"187.799655\" xlink:href=\"#C0_0_81f7ffe6c6\" y=\"132.410965\"/>\r\n    </g>\r\n    <g clip-path=\"url(#p360e6e29aa)\">\r\n     <use style=\"fill:#440154;fill-opacity:0.656948;stroke:#440154;stroke-opacity:0.656948;\" x=\"176.875699\" xlink:href=\"#C0_0_81f7ffe6c6\" y=\"104.175812\"/>\r\n    </g>\r\n    <g clip-path=\"url(#p360e6e29aa)\">\r\n     <use style=\"fill:#440154;fill-opacity:0.82995;stroke:#440154;stroke-opacity:0.82995;\" x=\"187.22563\" xlink:href=\"#C0_0_81f7ffe6c6\" y=\"132.891417\"/>\r\n    </g>\r\n    <g clip-path=\"url(#p360e6e29aa)\">\r\n     <use style=\"fill:#440154;fill-opacity:0.795673;stroke:#440154;stroke-opacity:0.795673;\" x=\"194.353821\" xlink:href=\"#C0_0_81f7ffe6c6\" y=\"129.454696\"/>\r\n    </g>\r\n    <g clip-path=\"url(#p360e6e29aa)\">\r\n     <use style=\"fill:#21918c;fill-opacity:0.858506;stroke:#21918c;stroke-opacity:0.858506;\" x=\"107.913129\" xlink:href=\"#C0_0_81f7ffe6c6\" y=\"69.400069\"/>\r\n    </g>\r\n    <g clip-path=\"url(#p360e6e29aa)\">\r\n     <use style=\"fill:#21918c;fill-opacity:0.703545;stroke:#21918c;stroke-opacity:0.703545;\" x=\"135.577835\" xlink:href=\"#C0_0_81f7ffe6c6\" y=\"96.401012\"/>\r\n    </g>\r\n    <g clip-path=\"url(#p360e6e29aa)\">\r\n     <use style=\"fill:#21918c;fill-opacity:0.617485;stroke:#21918c;stroke-opacity:0.617485;\" x=\"115.631986\" xlink:href=\"#C0_0_81f7ffe6c6\" y=\"92.766548\"/>\r\n    </g>\r\n    <g clip-path=\"url(#p360e6e29aa)\">\r\n     <use style=\"fill:#21918c;fill-opacity:0.693157;stroke:#21918c;stroke-opacity:0.693157;\" x=\"124.66815\" xlink:href=\"#C0_0_81f7ffe6c6\" y=\"108.132086\"/>\r\n    </g>\r\n    <g clip-path=\"url(#p360e6e29aa)\">\r\n     <use style=\"fill:#21918c;fill-opacity:0.661594;stroke:#21918c;stroke-opacity:0.661594;\" x=\"100.302685\" xlink:href=\"#C0_0_81f7ffe6c6\" y=\"106.520829\"/>\r\n    </g>\r\n    <g clip-path=\"url(#p360e6e29aa)\">\r\n     <use style=\"fill:#21918c;fill-opacity:0.544452;stroke:#21918c;stroke-opacity:0.544452;\" x=\"112.003263\" xlink:href=\"#C0_0_81f7ffe6c6\" y=\"91.198787\"/>\r\n    </g>\r\n    <g clip-path=\"url(#p360e6e29aa)\">\r\n     <use style=\"fill:#21918c;fill-opacity:0.676527;stroke:#21918c;stroke-opacity:0.676527;\" x=\"132.739659\" xlink:href=\"#C0_0_81f7ffe6c6\" y=\"108.951621\"/>\r\n    </g>\r\n    <g clip-path=\"url(#p360e6e29aa)\">\r\n     <use style=\"fill:#21918c;fill-opacity:0.814946;stroke:#21918c;stroke-opacity:0.814946;\" x=\"97.104136\" xlink:href=\"#C0_0_81f7ffe6c6\" y=\"99.252302\"/>\r\n    </g>\r\n    <g clip-path=\"url(#p360e6e29aa)\">\r\n     <use style=\"fill:#21918c;fill-opacity:0.725863;stroke:#21918c;stroke-opacity:0.725863;\" x=\"98.732844\" xlink:href=\"#C0_0_81f7ffe6c6\" y=\"121.033834\"/>\r\n    </g>\r\n    <g clip-path=\"url(#p360e6e29aa)\">\r\n     <use style=\"fill:#21918c;fill-opacity:0.648978;stroke:#21918c;stroke-opacity:0.648978;\" x=\"150.462208\" xlink:href=\"#C0_0_81f7ffe6c6\" y=\"98.120318\"/>\r\n    </g>\r\n    <g clip-path=\"url(#p360e6e29aa)\">\r\n     <use style=\"fill:#21918c;fill-opacity:0.405171;stroke:#21918c;stroke-opacity:0.405171;\" x=\"186.815873\" xlink:href=\"#C0_0_81f7ffe6c6\" y=\"67.75009\"/>\r\n    </g>\r\n    <g clip-path=\"url(#p360e6e29aa)\">\r\n     <use style=\"fill:#21918c;fill-opacity:0.656157;stroke:#21918c;stroke-opacity:0.656157;\" x=\"154.020729\" xlink:href=\"#C0_0_81f7ffe6c6\" y=\"125.051317\"/>\r\n    </g>\r\n    <g clip-path=\"url(#p360e6e29aa)\">\r\n     <use style=\"fill:#21918c;fill-opacity:0.553865;stroke:#21918c;stroke-opacity:0.553865;\" x=\"99.647288\" xlink:href=\"#C0_0_81f7ffe6c6\" y=\"133.065293\"/>\r\n    </g>\r\n    <g clip-path=\"url(#p360e6e29aa)\">\r\n     <use style=\"fill:#21918c;fill-opacity:0.577396;stroke:#21918c;stroke-opacity:0.577396;\" x=\"105.578107\" xlink:href=\"#C0_0_81f7ffe6c6\" y=\"132.400512\"/>\r\n    </g>\r\n    <g clip-path=\"url(#p360e6e29aa)\">\r\n     <use style=\"fill:#21918c;fill-opacity:0.300575;stroke:#21918c;stroke-opacity:0.300575;\" x=\"197.783874\" xlink:href=\"#C0_0_81f7ffe6c6\" y=\"147.549809\"/>\r\n    </g>\r\n    <g clip-path=\"url(#p360e6e29aa)\">\r\n     <use style=\"fill:#21918c;fill-opacity:0.667375;stroke:#21918c;stroke-opacity:0.667375;\" x=\"153.444867\" xlink:href=\"#C0_0_81f7ffe6c6\" y=\"128.500645\"/>\r\n    </g>\r\n    <g clip-path=\"url(#p360e6e29aa)\">\r\n     <use style=\"fill:#21918c;fill-opacity:0.657545;stroke:#21918c;stroke-opacity:0.657545;\" x=\"110.53062\" xlink:href=\"#C0_0_81f7ffe6c6\" y=\"87.074776\"/>\r\n    </g>\r\n    <g clip-path=\"url(#p360e6e29aa)\">\r\n     <use style=\"fill:#21918c;fill-opacity:0.714886;stroke:#21918c;stroke-opacity:0.714886;\" x=\"96.366201\" xlink:href=\"#C0_0_81f7ffe6c6\" y=\"92.830334\"/>\r\n    </g>\r\n    <g clip-path=\"url(#p360e6e29aa)\">\r\n     <use style=\"fill:#21918c;fill-opacity:0.551236;stroke:#21918c;stroke-opacity:0.551236;\" x=\"131.69071\" xlink:href=\"#C0_0_81f7ffe6c6\" y=\"89.044512\"/>\r\n    </g>\r\n    <g clip-path=\"url(#p360e6e29aa)\">\r\n     <use style=\"fill:#21918c;fill-opacity:0.535432;stroke:#21918c;stroke-opacity:0.535432;\" x=\"175.3962\" xlink:href=\"#C0_0_81f7ffe6c6\" y=\"70.444205\"/>\r\n    </g>\r\n    <g clip-path=\"url(#p360e6e29aa)\">\r\n     <use style=\"fill:#21918c;fill-opacity:0.514891;stroke:#21918c;stroke-opacity:0.514891;\" x=\"118.548033\" xlink:href=\"#C0_0_81f7ffe6c6\" y=\"116.777887\"/>\r\n    </g>\r\n    <g clip-path=\"url(#p360e6e29aa)\">\r\n     <use style=\"fill:#21918c;fill-opacity:0.640361;stroke:#21918c;stroke-opacity:0.640361;\" x=\"87.443726\" xlink:href=\"#C0_0_81f7ffe6c6\" y=\"97.55454\"/>\r\n    </g>\r\n    <g clip-path=\"url(#p360e6e29aa)\">\r\n     <use style=\"fill:#21918c;fill-opacity:0.750863;stroke:#21918c;stroke-opacity:0.750863;\" x=\"123.792799\" xlink:href=\"#C0_0_81f7ffe6c6\" y=\"121.460377\"/>\r\n    </g>\r\n    <g clip-path=\"url(#p360e6e29aa)\">\r\n     <use style=\"fill:#21918c;fill-opacity:0.684917;stroke:#21918c;stroke-opacity:0.684917;\" x=\"109.444007\" xlink:href=\"#C0_0_81f7ffe6c6\" y=\"144.372707\"/>\r\n    </g>\r\n    <g clip-path=\"url(#p360e6e29aa)\">\r\n     <use style=\"fill:#21918c;fill-opacity:0.616178;stroke:#21918c;stroke-opacity:0.616178;\" x=\"106.959172\" xlink:href=\"#C0_0_81f7ffe6c6\" y=\"132.35066\"/>\r\n    </g>\r\n    <g clip-path=\"url(#p360e6e29aa)\">\r\n     <use style=\"fill:#21918c;fill-opacity:0.671311;stroke:#21918c;stroke-opacity:0.671311;\" x=\"115.423712\" xlink:href=\"#C0_0_81f7ffe6c6\" y=\"100.69956\"/>\r\n    </g>\r\n    <g clip-path=\"url(#p360e6e29aa)\">\r\n     <use style=\"fill:#21918c;fill-opacity:0.623948;stroke:#21918c;stroke-opacity:0.623948;\" x=\"114.610955\" xlink:href=\"#C0_0_81f7ffe6c6\" y=\"93.37571\"/>\r\n    </g>\r\n    <g clip-path=\"url(#p360e6e29aa)\">\r\n     <use style=\"fill:#21918c;fill-opacity:0.59578;stroke:#21918c;stroke-opacity:0.59578;\" x=\"110.173175\" xlink:href=\"#C0_0_81f7ffe6c6\" y=\"124.31333\"/>\r\n    </g>\r\n    <g clip-path=\"url(#p360e6e29aa)\">\r\n     <use style=\"fill:#21918c;fill-opacity:0.564435;stroke:#21918c;stroke-opacity:0.564435;\" x=\"114.249454\" xlink:href=\"#C0_0_81f7ffe6c6\" y=\"143.529582\"/>\r\n    </g>\r\n    <g clip-path=\"url(#p360e6e29aa)\">\r\n     <use style=\"fill:#21918c;fill-opacity:0.702441;stroke:#21918c;stroke-opacity:0.702441;\" x=\"119.318069\" xlink:href=\"#C0_0_81f7ffe6c6\" y=\"133.15832\"/>\r\n    </g>\r\n    <g clip-path=\"url(#p360e6e29aa)\">\r\n     <use style=\"fill:#21918c;fill-opacity:0.744505;stroke:#21918c;stroke-opacity:0.744505;\" x=\"100.751986\" xlink:href=\"#C0_0_81f7ffe6c6\" y=\"147.237683\"/>\r\n    </g>\r\n    <g clip-path=\"url(#p360e6e29aa)\">\r\n     <use style=\"fill:#21918c;fill-opacity:0.729856;stroke:#21918c;stroke-opacity:0.729856;\" x=\"98.970997\" xlink:href=\"#C0_0_81f7ffe6c6\" y=\"110.212543\"/>\r\n    </g>\r\n    <g clip-path=\"url(#p360e6e29aa)\">\r\n     <use style=\"fill:#21918c;fill-opacity:0.616181;stroke:#21918c;stroke-opacity:0.616181;\" x=\"102.370165\" xlink:href=\"#C0_0_81f7ffe6c6\" y=\"122.856594\"/>\r\n    </g>\r\n    <g clip-path=\"url(#p360e6e29aa)\">\r\n     <use style=\"fill:#21918c;fill-opacity:0.692805;stroke:#21918c;stroke-opacity:0.692805;\" x=\"99.700705\" xlink:href=\"#C0_0_81f7ffe6c6\" y=\"122.767057\"/>\r\n    </g>\r\n    <g clip-path=\"url(#p360e6e29aa)\">\r\n     <use style=\"fill:#21918c;fill-opacity:0.648099;stroke:#21918c;stroke-opacity:0.648099;\" x=\"90.275378\" xlink:href=\"#C0_0_81f7ffe6c6\" y=\"92.810527\"/>\r\n    </g>\r\n    <g clip-path=\"url(#p360e6e29aa)\">\r\n     <use style=\"fill:#21918c;fill-opacity:0.597176;stroke:#21918c;stroke-opacity:0.597176;\" x=\"104.998441\" xlink:href=\"#C0_0_81f7ffe6c6\" y=\"90.003649\"/>\r\n    </g>\r\n    <g clip-path=\"url(#p360e6e29aa)\">\r\n     <use style=\"fill:#21918c;fill-opacity:0.358615;stroke:#21918c;stroke-opacity:0.358615;\" x=\"215.003079\" xlink:href=\"#C0_0_81f7ffe6c6\" y=\"80.791522\"/>\r\n    </g>\r\n    <g clip-path=\"url(#p360e6e29aa)\">\r\n     <use style=\"fill:#21918c;fill-opacity:0.390578;stroke:#21918c;stroke-opacity:0.390578;\" x=\"163.442913\" xlink:href=\"#C0_0_81f7ffe6c6\" y=\"96.281404\"/>\r\n    </g>\r\n    <g clip-path=\"url(#p360e6e29aa)\">\r\n     <use style=\"fill:#21918c;fill-opacity:0.741951;stroke:#21918c;stroke-opacity:0.741951;\" x=\"98.207358\" xlink:href=\"#C0_0_81f7ffe6c6\" y=\"92.733699\"/>\r\n    </g>\r\n    <g clip-path=\"url(#p360e6e29aa)\">\r\n     <use style=\"fill:#21918c;fill-opacity:0.730765;stroke:#21918c;stroke-opacity:0.730765;\" x=\"121.224412\" xlink:href=\"#C0_0_81f7ffe6c6\" y=\"115.591767\"/>\r\n    </g>\r\n    <g clip-path=\"url(#p360e6e29aa)\">\r\n     <use style=\"fill:#21918c;fill-opacity:0.678793;stroke:#21918c;stroke-opacity:0.678793;\" x=\"99.861854\" xlink:href=\"#C0_0_81f7ffe6c6\" y=\"98.728242\"/>\r\n    </g>\r\n    <g clip-path=\"url(#p360e6e29aa)\">\r\n     <use style=\"fill:#21918c;fill-opacity:0.709619;stroke:#21918c;stroke-opacity:0.709619;\" x=\"134.292226\" xlink:href=\"#C0_0_81f7ffe6c6\" y=\"106.992143\"/>\r\n    </g>\r\n    <g clip-path=\"url(#p360e6e29aa)\">\r\n     <use style=\"fill:#21918c;fill-opacity:0.710002;stroke:#21918c;stroke-opacity:0.710002;\" x=\"112.935237\" xlink:href=\"#C0_0_81f7ffe6c6\" y=\"109.257387\"/>\r\n    </g>\r\n    <g clip-path=\"url(#p360e6e29aa)\">\r\n     <use style=\"fill:#21918c;fill-opacity:0.565171;stroke:#21918c;stroke-opacity:0.565171;\" x=\"113.178068\" xlink:href=\"#C0_0_81f7ffe6c6\" y=\"108.225757\"/>\r\n    </g>\r\n    <g clip-path=\"url(#p360e6e29aa)\">\r\n     <use style=\"fill:#21918c;fill-opacity:0.665802;stroke:#21918c;stroke-opacity:0.665802;\" x=\"98.851531\" xlink:href=\"#C0_0_81f7ffe6c6\" y=\"107.14433\"/>\r\n    </g>\r\n    <g clip-path=\"url(#p360e6e29aa)\">\r\n     <use style=\"fill:#21918c;fill-opacity:0.71786;stroke:#21918c;stroke-opacity:0.71786;\" x=\"119.462129\" xlink:href=\"#C0_0_81f7ffe6c6\" y=\"126.494075\"/>\r\n    </g>\r\n    <g clip-path=\"url(#p360e6e29aa)\">\r\n     <use style=\"fill:#21918c;fill-opacity:0.561272;stroke:#21918c;stroke-opacity:0.561272;\" x=\"95.287931\" xlink:href=\"#C0_0_81f7ffe6c6\" y=\"112.176787\"/>\r\n    </g>\r\n    <g clip-path=\"url(#p360e6e29aa)\">\r\n     <use style=\"fill:#21918c;fill-opacity:0.730928;stroke:#21918c;stroke-opacity:0.730928;\" x=\"100.592612\" xlink:href=\"#C0_0_81f7ffe6c6\" y=\"115.554973\"/>\r\n    </g>\r\n    <g clip-path=\"url(#p360e6e29aa)\">\r\n     <use style=\"fill:#21918c;fill-opacity:0.630307;stroke:#21918c;stroke-opacity:0.630307;\" x=\"103.562781\" xlink:href=\"#C0_0_81f7ffe6c6\" y=\"128.099257\"/>\r\n    </g>\r\n    <g clip-path=\"url(#p360e6e29aa)\">\r\n     <use style=\"fill:#21918c;fill-opacity:0.610127;stroke:#21918c;stroke-opacity:0.610127;\" x=\"96.382159\" xlink:href=\"#C0_0_81f7ffe6c6\" y=\"95.883226\"/>\r\n    </g>\r\n    <g clip-path=\"url(#p360e6e29aa)\">\r\n     <use style=\"fill:#21918c;fill-opacity:0.678552;stroke:#21918c;stroke-opacity:0.678552;\" x=\"129.068838\" xlink:href=\"#C0_0_81f7ffe6c6\" y=\"117.289266\"/>\r\n    </g>\r\n    <g clip-path=\"url(#p360e6e29aa)\">\r\n     <use style=\"fill:#21918c;fill-opacity:0.570829;stroke:#21918c;stroke-opacity:0.570829;\" x=\"132.107775\" xlink:href=\"#C0_0_81f7ffe6c6\" y=\"101.829173\"/>\r\n    </g>\r\n    <g clip-path=\"url(#p360e6e29aa)\">\r\n     <use style=\"fill:#21918c;fill-opacity:0.600298;stroke:#21918c;stroke-opacity:0.600298;\" x=\"93.804265\" xlink:href=\"#C0_0_81f7ffe6c6\" y=\"108.217996\"/>\r\n    </g>\r\n    <g clip-path=\"url(#p360e6e29aa)\">\r\n     <use style=\"fill:#21918c;fill-opacity:0.58959;stroke:#21918c;stroke-opacity:0.58959;\" x=\"132.009919\" xlink:href=\"#C0_0_81f7ffe6c6\" y=\"110.907879\"/>\r\n    </g>\r\n    <g clip-path=\"url(#p360e6e29aa)\">\r\n     <use style=\"fill:#21918c;fill-opacity:0.625837;stroke:#21918c;stroke-opacity:0.625837;\" x=\"102.804901\" xlink:href=\"#C0_0_81f7ffe6c6\" y=\"114.496569\"/>\r\n    </g>\r\n    <g clip-path=\"url(#p360e6e29aa)\">\r\n     <use style=\"fill:#21918c;fill-opacity:0.609093;stroke:#21918c;stroke-opacity:0.609093;\" x=\"95.023389\" xlink:href=\"#C0_0_81f7ffe6c6\" y=\"121.409739\"/>\r\n    </g>\r\n    <g clip-path=\"url(#p360e6e29aa)\">\r\n     <use style=\"fill:#21918c;fill-opacity:0.634611;stroke:#21918c;stroke-opacity:0.634611;\" x=\"97.55738\" xlink:href=\"#C0_0_81f7ffe6c6\" y=\"115.747236\"/>\r\n    </g>\r\n    <g clip-path=\"url(#p360e6e29aa)\">\r\n     <use style=\"fill:#21918c;fill-opacity:0.663978;stroke:#21918c;stroke-opacity:0.663978;\" x=\"105.711849\" xlink:href=\"#C0_0_81f7ffe6c6\" y=\"116.719706\"/>\r\n    </g>\r\n    <g clip-path=\"url(#p360e6e29aa)\">\r\n     <use style=\"fill:#21918c;fill-opacity:0.459585;stroke:#21918c;stroke-opacity:0.459585;\" x=\"115.672814\" xlink:href=\"#C0_0_81f7ffe6c6\" y=\"102.309459\"/>\r\n    </g>\r\n    <g clip-path=\"url(#p360e6e29aa)\">\r\n     <use style=\"fill:#21918c;fill-opacity:0.744807;stroke:#21918c;stroke-opacity:0.744807;\" x=\"88.525325\" xlink:href=\"#C0_0_81f7ffe6c6\" y=\"96.405215\"/>\r\n    </g>\r\n    <g clip-path=\"url(#p360e6e29aa)\">\r\n     <use style=\"fill:#21918c;fill-opacity:0.710437;stroke:#21918c;stroke-opacity:0.710437;\" x=\"112.138661\" xlink:href=\"#C0_0_81f7ffe6c6\" y=\"111.547723\"/>\r\n    </g>\r\n    <g clip-path=\"url(#p360e6e29aa)\">\r\n     <use style=\"fill:#21918c;fill-opacity:0.645317;stroke:#21918c;stroke-opacity:0.645317;\" x=\"126.511622\" xlink:href=\"#C0_0_81f7ffe6c6\" y=\"114.583042\"/>\r\n    </g>\r\n    <g clip-path=\"url(#p360e6e29aa)\">\r\n     <use style=\"fill:#21918c;fill-opacity:0.3;stroke:#21918c;stroke-opacity:0.3;\" x=\"136.993691\" xlink:href=\"#C0_0_81f7ffe6c6\" y=\"131.696065\"/>\r\n    </g>\r\n    <g clip-path=\"url(#p360e6e29aa)\">\r\n     <use style=\"fill:#21918c;fill-opacity:0.418824;stroke:#21918c;stroke-opacity:0.418824;\" x=\"112.147171\" xlink:href=\"#C0_0_81f7ffe6c6\" y=\"126.906668\"/>\r\n    </g>\r\n    <g clip-path=\"url(#p360e6e29aa)\">\r\n     <use style=\"fill:#21918c;fill-opacity:0.606662;stroke:#21918c;stroke-opacity:0.606662;\" x=\"96.517142\" xlink:href=\"#C0_0_81f7ffe6c6\" y=\"117.175207\"/>\r\n    </g>\r\n    <g clip-path=\"url(#p360e6e29aa)\">\r\n     <use style=\"fill:#21918c;fill-opacity:0.645408;stroke:#21918c;stroke-opacity:0.645408;\" x=\"92.295047\" xlink:href=\"#C0_0_81f7ffe6c6\" y=\"116.486908\"/>\r\n    </g>\r\n    <g clip-path=\"url(#p360e6e29aa)\">\r\n     <use style=\"fill:#21918c;fill-opacity:0.630235;stroke:#21918c;stroke-opacity:0.630235;\" x=\"95.137972\" xlink:href=\"#C0_0_81f7ffe6c6\" y=\"113.477623\"/>\r\n    </g>\r\n    <g clip-path=\"url(#p360e6e29aa)\">\r\n     <use style=\"fill:#21918c;fill-opacity:0.602318;stroke:#21918c;stroke-opacity:0.602318;\" x=\"94.202357\" xlink:href=\"#C0_0_81f7ffe6c6\" y=\"114.999534\"/>\r\n    </g>\r\n    <g clip-path=\"url(#p360e6e29aa)\">\r\n     <use style=\"fill:#21918c;fill-opacity:0.465372;stroke:#21918c;stroke-opacity:0.465372;\" x=\"110.851673\" xlink:href=\"#C0_0_81f7ffe6c6\" y=\"147.780138\"/>\r\n    </g>\r\n    <g clip-path=\"url(#p360e6e29aa)\">\r\n     <use style=\"fill:#21918c;fill-opacity:0.539638;stroke:#21918c;stroke-opacity:0.539638;\" x=\"95.933402\" xlink:href=\"#C0_0_81f7ffe6c6\" y=\"124.597434\"/>\r\n    </g>\r\n    <g clip-path=\"url(#p360e6e29aa)\">\r\n     <use style=\"fill:#21918c;fill-opacity:0.687759;stroke:#21918c;stroke-opacity:0.687759;\" x=\"107.038098\" xlink:href=\"#C0_0_81f7ffe6c6\" y=\"133.701518\"/>\r\n    </g>\r\n    <g clip-path=\"url(#p360e6e29aa)\">\r\n     <use style=\"fill:#fde725;fill-opacity:0.518049;stroke:#fde725;stroke-opacity:0.518049;\" x=\"152.226642\" xlink:href=\"#C0_0_81f7ffe6c6\" y=\"90.647912\"/>\r\n    </g>\r\n    <g clip-path=\"url(#p360e6e29aa)\">\r\n     <use style=\"fill:#fde725;fill-opacity:0.549747;stroke:#fde725;stroke-opacity:0.549747;\" x=\"126.734311\" xlink:href=\"#C0_0_81f7ffe6c6\" y=\"109.612809\"/>\r\n    </g>\r\n    <g clip-path=\"url(#p360e6e29aa)\">\r\n     <use style=\"fill:#fde725;fill-opacity:0.517264;stroke:#fde725;stroke-opacity:0.517264;\" x=\"123.886099\" xlink:href=\"#C0_0_81f7ffe6c6\" y=\"133.372038\"/>\r\n    </g>\r\n    <g clip-path=\"url(#p360e6e29aa)\">\r\n     <use style=\"fill:#fde725;fill-opacity:0.52891;stroke:#fde725;stroke-opacity:0.52891;\" x=\"134.65595\" xlink:href=\"#C0_0_81f7ffe6c6\" y=\"118.280906\"/>\r\n    </g>\r\n    <g clip-path=\"url(#p360e6e29aa)\">\r\n     <use style=\"fill:#fde725;fill-opacity:0.750654;stroke:#fde725;stroke-opacity:0.750654;\" x=\"117.307648\" xlink:href=\"#C0_0_81f7ffe6c6\" y=\"116.270723\"/>\r\n    </g>\r\n    <g clip-path=\"url(#p360e6e29aa)\">\r\n     <use style=\"fill:#fde725;fill-opacity:0.673748;stroke:#fde725;stroke-opacity:0.673748;\" x=\"130.402272\" xlink:href=\"#C0_0_81f7ffe6c6\" y=\"120.106921\"/>\r\n    </g>\r\n    <g clip-path=\"url(#p360e6e29aa)\">\r\n     <use style=\"fill:#fde725;fill-opacity:0.675345;stroke:#fde725;stroke-opacity:0.675345;\" x=\"127.737171\" xlink:href=\"#C0_0_81f7ffe6c6\" y=\"133.345165\"/>\r\n    </g>\r\n    <g clip-path=\"url(#p360e6e29aa)\">\r\n     <use style=\"fill:#fde725;fill-opacity:0.495201;stroke:#fde725;stroke-opacity:0.495201;\" x=\"118.412977\" xlink:href=\"#C0_0_81f7ffe6c6\" y=\"137.790723\"/>\r\n    </g>\r\n    <g clip-path=\"url(#p360e6e29aa)\">\r\n     <use style=\"fill:#fde725;fill-opacity:0.665811;stroke:#fde725;stroke-opacity:0.665811;\" x=\"114.891307\" xlink:href=\"#C0_0_81f7ffe6c6\" y=\"121.683554\"/>\r\n    </g>\r\n    <g clip-path=\"url(#p360e6e29aa)\">\r\n     <use style=\"fill:#fde725;fill-opacity:0.511253;stroke:#fde725;stroke-opacity:0.511253;\" x=\"129.254138\" xlink:href=\"#C0_0_81f7ffe6c6\" y=\"131.884689\"/>\r\n    </g>\r\n    <g clip-path=\"url(#p360e6e29aa)\">\r\n     <use style=\"fill:#fde725;fill-opacity:0.602193;stroke:#fde725;stroke-opacity:0.602193;\" x=\"124.709565\" xlink:href=\"#C0_0_81f7ffe6c6\" y=\"121.958226\"/>\r\n    </g>\r\n    <g clip-path=\"url(#p360e6e29aa)\">\r\n     <use style=\"fill:#fde725;fill-opacity:0.70744;stroke:#fde725;stroke-opacity:0.70744;\" x=\"132.673781\" xlink:href=\"#C0_0_81f7ffe6c6\" y=\"132.710329\"/>\r\n    </g>\r\n    <g clip-path=\"url(#p360e6e29aa)\">\r\n     <use style=\"fill:#fde725;fill-opacity:0.527806;stroke:#fde725;stroke-opacity:0.527806;\" x=\"119.486769\" xlink:href=\"#C0_0_81f7ffe6c6\" y=\"128.495294\"/>\r\n    </g>\r\n    <g clip-path=\"url(#p360e6e29aa)\">\r\n     <use style=\"fill:#fde725;fill-opacity:0.629245;stroke:#fde725;stroke-opacity:0.629245;\" x=\"116.445518\" xlink:href=\"#C0_0_81f7ffe6c6\" y=\"118.374806\"/>\r\n    </g>\r\n    <g clip-path=\"url(#p360e6e29aa)\">\r\n     <use style=\"fill:#fde725;fill-opacity:0.597039;stroke:#fde725;stroke-opacity:0.597039;\" x=\"161.53492\" xlink:href=\"#C0_0_81f7ffe6c6\" y=\"118.10345\"/>\r\n    </g>\r\n    <g clip-path=\"url(#p360e6e29aa)\">\r\n     <use style=\"fill:#fde725;fill-opacity:0.628151;stroke:#fde725;stroke-opacity:0.628151;\" x=\"149.78751\" xlink:href=\"#C0_0_81f7ffe6c6\" y=\"129.20705\"/>\r\n    </g>\r\n    <g clip-path=\"url(#p360e6e29aa)\">\r\n     <use style=\"fill:#fde725;fill-opacity:0.66046;stroke:#fde725;stroke-opacity:0.66046;\" x=\"93.205349\" xlink:href=\"#C0_0_81f7ffe6c6\" y=\"121.209234\"/>\r\n    </g>\r\n    <g clip-path=\"url(#p360e6e29aa)\">\r\n     <use style=\"fill:#fde725;fill-opacity:0.637078;stroke:#fde725;stroke-opacity:0.637078;\" x=\"117.095692\" xlink:href=\"#C0_0_81f7ffe6c6\" y=\"137.800791\"/>\r\n    </g>\r\n    <g clip-path=\"url(#p360e6e29aa)\">\r\n     <use style=\"fill:#fde725;fill-opacity:0.606153;stroke:#fde725;stroke-opacity:0.606153;\" x=\"125.172346\" xlink:href=\"#C0_0_81f7ffe6c6\" y=\"135.120092\"/>\r\n    </g>\r\n    <g clip-path=\"url(#p360e6e29aa)\">\r\n     <use style=\"fill:#fde725;fill-opacity:0.448293;stroke:#fde725;stroke-opacity:0.448293;\" x=\"137.550673\" xlink:href=\"#C0_0_81f7ffe6c6\" y=\"117.375636\"/>\r\n    </g>\r\n    <g clip-path=\"url(#p360e6e29aa)\">\r\n     <use style=\"fill:#fde725;fill-opacity:0.338895;stroke:#fde725;stroke-opacity:0.338895;\" x=\"143.289468\" xlink:href=\"#C0_0_81f7ffe6c6\" y=\"117.797276\"/>\r\n    </g>\r\n    <g clip-path=\"url(#p360e6e29aa)\">\r\n     <use style=\"fill:#fde725;fill-opacity:0.422236;stroke:#fde725;stroke-opacity:0.422236;\" x=\"130.98453\" xlink:href=\"#C0_0_81f7ffe6c6\" y=\"117.961662\"/>\r\n    </g>\r\n    <g clip-path=\"url(#p360e6e29aa)\">\r\n     <use style=\"fill:#fde725;fill-opacity:0.344729;stroke:#fde725;stroke-opacity:0.344729;\" x=\"130.657843\" xlink:href=\"#C0_0_81f7ffe6c6\" y=\"122.531885\"/>\r\n    </g>\r\n    <g clip-path=\"url(#p360e6e29aa)\">\r\n     <use style=\"fill:#fde725;fill-opacity:0.621477;stroke:#fde725;stroke-opacity:0.621477;\" x=\"132.886645\" xlink:href=\"#C0_0_81f7ffe6c6\" y=\"121.560387\"/>\r\n    </g>\r\n    <g clip-path=\"url(#p360e6e29aa)\">\r\n     <use style=\"fill:#fde725;fill-opacity:0.575356;stroke:#fde725;stroke-opacity:0.575356;\" x=\"134.926422\" xlink:href=\"#C0_0_81f7ffe6c6\" y=\"117.982325\"/>\r\n    </g>\r\n    <g clip-path=\"url(#p360e6e29aa)\">\r\n     <use style=\"fill:#fde725;fill-opacity:0.608226;stroke:#fde725;stroke-opacity:0.608226;\" x=\"132.470282\" xlink:href=\"#C0_0_81f7ffe6c6\" y=\"141.032445\"/>\r\n    </g>\r\n    <g clip-path=\"url(#p360e6e29aa)\">\r\n     <use style=\"fill:#fde725;fill-opacity:0.612133;stroke:#fde725;stroke-opacity:0.612133;\" x=\"107.839178\" xlink:href=\"#C0_0_81f7ffe6c6\" y=\"120.772802\"/>\r\n    </g>\r\n    <g clip-path=\"url(#p360e6e29aa)\">\r\n     <use style=\"fill:#fde725;fill-opacity:0.537423;stroke:#fde725;stroke-opacity:0.537423;\" x=\"149.764114\" xlink:href=\"#C0_0_81f7ffe6c6\" y=\"166.666207\"/>\r\n    </g>\r\n    <g clip-path=\"url(#p360e6e29aa)\">\r\n     <use style=\"fill:#fde725;fill-opacity:0.485503;stroke:#fde725;stroke-opacity:0.485503;\" x=\"132.576095\" xlink:href=\"#C0_0_81f7ffe6c6\" y=\"151.980234\"/>\r\n    </g>\r\n    <g clip-path=\"url(#p360e6e29aa)\">\r\n     <use style=\"fill:#fde725;fill-opacity:0.582711;stroke:#fde725;stroke-opacity:0.582711;\" x=\"120.013374\" xlink:href=\"#C0_0_81f7ffe6c6\" y=\"143.522282\"/>\r\n    </g>\r\n    <g clip-path=\"url(#p360e6e29aa)\">\r\n     <use style=\"fill:#fde725;fill-opacity:0.609588;stroke:#fde725;stroke-opacity:0.609588;\" x=\"110.30494\" xlink:href=\"#C0_0_81f7ffe6c6\" y=\"128.063899\"/>\r\n    </g>\r\n    <g clip-path=\"url(#p360e6e29aa)\">\r\n     <use style=\"fill:#fde725;fill-opacity:0.566874;stroke:#fde725;stroke-opacity:0.566874;\" x=\"142.116218\" xlink:href=\"#C0_0_81f7ffe6c6\" y=\"116.100979\"/>\r\n    </g>\r\n    <g clip-path=\"url(#p360e6e29aa)\">\r\n     <use style=\"fill:#fde725;fill-opacity:0.508839;stroke:#fde725;stroke-opacity:0.508839;\" x=\"132.271864\" xlink:href=\"#C0_0_81f7ffe6c6\" y=\"119.718503\"/>\r\n    </g>\r\n    <g clip-path=\"url(#p360e6e29aa)\">\r\n     <use style=\"fill:#fde725;fill-opacity:0.603536;stroke:#fde725;stroke-opacity:0.603536;\" x=\"140.531918\" xlink:href=\"#C0_0_81f7ffe6c6\" y=\"108.915953\"/>\r\n    </g>\r\n    <g clip-path=\"url(#p360e6e29aa)\">\r\n     <use style=\"fill:#fde725;fill-opacity:0.593082;stroke:#fde725;stroke-opacity:0.593082;\" x=\"120.420808\" xlink:href=\"#C0_0_81f7ffe6c6\" y=\"138.457235\"/>\r\n    </g>\r\n    <g clip-path=\"url(#p360e6e29aa)\">\r\n     <use style=\"fill:#fde725;fill-opacity:0.584174;stroke:#fde725;stroke-opacity:0.584174;\" x=\"110.534911\" xlink:href=\"#C0_0_81f7ffe6c6\" y=\"134.083932\"/>\r\n    </g>\r\n    <g clip-path=\"url(#p360e6e29aa)\">\r\n     <use style=\"fill:#fde725;fill-opacity:0.461857;stroke:#fde725;stroke-opacity:0.461857;\" x=\"147.723116\" xlink:href=\"#C0_0_81f7ffe6c6\" y=\"134.416275\"/>\r\n    </g>\r\n    <g clip-path=\"url(#p360e6e29aa)\">\r\n     <use style=\"fill:#fde725;fill-opacity:0.666967;stroke:#fde725;stroke-opacity:0.666967;\" x=\"123.897821\" xlink:href=\"#C0_0_81f7ffe6c6\" y=\"133.342574\"/>\r\n    </g>\r\n    <g clip-path=\"url(#p360e6e29aa)\">\r\n     <use style=\"fill:#fde725;fill-opacity:0.497703;stroke:#fde725;stroke-opacity:0.497703;\" x=\"146.536726\" xlink:href=\"#C0_0_81f7ffe6c6\" y=\"144.59047\"/>\r\n    </g>\r\n    <g clip-path=\"url(#p360e6e29aa)\">\r\n     <use style=\"fill:#fde725;fill-opacity:0.413435;stroke:#fde725;stroke-opacity:0.413435;\" x=\"143.481841\" xlink:href=\"#C0_0_81f7ffe6c6\" y=\"136.765972\"/>\r\n    </g>\r\n    <g clip-path=\"url(#p360e6e29aa)\">\r\n     <use style=\"fill:#fde725;fill-opacity:0.610555;stroke:#fde725;stroke-opacity:0.610555;\" x=\"116.999695\" xlink:href=\"#C0_0_81f7ffe6c6\" y=\"109.750018\"/>\r\n    </g>\r\n    <g clip-path=\"url(#p360e6e29aa)\">\r\n     <use style=\"fill:#fde725;fill-opacity:0.625827;stroke:#fde725;stroke-opacity:0.625827;\" x=\"104.010104\" xlink:href=\"#C0_0_81f7ffe6c6\" y=\"122.774015\"/>\r\n    </g>\r\n    <g clip-path=\"url(#p360e6e29aa)\">\r\n     <use style=\"fill:#fde725;fill-opacity:0.637342;stroke:#fde725;stroke-opacity:0.637342;\" x=\"124.846031\" xlink:href=\"#C0_0_81f7ffe6c6\" y=\"131.02977\"/>\r\n    </g>\r\n    <g clip-path=\"url(#p360e6e29aa)\">\r\n     <use style=\"fill:#fde725;fill-opacity:0.628746;stroke:#fde725;stroke-opacity:0.628746;\" x=\"135.501435\" xlink:href=\"#C0_0_81f7ffe6c6\" y=\"133.678427\"/>\r\n    </g>\r\n    <g clip-path=\"url(#p360e6e29aa)\">\r\n     <use style=\"fill:#fde725;fill-opacity:0.548417;stroke:#fde725;stroke-opacity:0.548417;\" x=\"143.441596\" xlink:href=\"#C0_0_81f7ffe6c6\" y=\"138.908716\"/>\r\n    </g>\r\n    <g clip-path=\"url(#p360e6e29aa)\">\r\n     <use style=\"fill:#fde725;fill-opacity:0.501822;stroke:#fde725;stroke-opacity:0.501822;\" x=\"167.669468\" xlink:href=\"#C0_0_81f7ffe6c6\" y=\"121.679398\"/>\r\n    </g>\r\n    <g clip-path=\"url(#p360e6e29aa)\">\r\n     <use style=\"fill:#fde725;fill-opacity:0.512554;stroke:#fde725;stroke-opacity:0.512554;\" x=\"168.057374\" xlink:href=\"#C0_0_81f7ffe6c6\" y=\"119.672789\"/>\r\n    </g>\r\n    <g clip-path=\"url(#p360e6e29aa)\">\r\n     <use style=\"fill:#fde725;fill-opacity:0.494694;stroke:#fde725;stroke-opacity:0.494694;\" x=\"122.224062\" xlink:href=\"#C0_0_81f7ffe6c6\" y=\"142.878476\"/>\r\n    </g>\r\n   </g>\r\n  </g>\r\n </g>\r\n <defs>\r\n  <clipPath id=\"p360e6e29aa\">\r\n   <rect height=\"217.44\" width=\"334.8\" x=\"7.2\" y=\"7.2\"/>\r\n  </clipPath>\r\n </defs>\r\n</svg>\r\n",
      "image/png": "[encoded data removed]"
     },
     "metadata": {
      "needs_background": "light"
     }
    }
   ],
   "source": [
    "from sklearn.decomposition import PCA\n",
    "\n",
    "X = df_wine.iloc[:, 0:-1]\n",
    "\n",
    "pca = PCA(n_components=3)\n",
    "pca_result = pca.fit_transform(X)\n",
    "#sns.scatterplot(x=pca_result[:, 0], y=pca_result[:,1], hue=df_wine['target'])\n",
    "fig = plt.figure()\n",
    "ax = fig.add_subplot(111, projection='3d')\n",
    "ax.scatter(xs=pca_result[:, 0], ys=pca_result[:,1], zs=pca_result[:,2], c=df_wine['target'])"
   ]
  },
  {
   "cell_type": "code",
   "execution_count": 5,
   "metadata": {},
   "outputs": [
    {
     "output_type": "display_data",
     "data": {
      "application/vnd.plotly.v1+json": {
       "config": {
        "plotlyServerURL": "https://plot.ly"
       },
       "data": [
        {
         "hoverlabel": {
          "namelength": 0
         },
         "hovertemplate": "x=%{x}<br>y=%{y}<br>z=%{z}<br>color=%{marker.color}",
         "legendgroup": "",
         "marker": {
          "color": [
           0,
           0,
           0,
           0,
           0,
           0,
           0,
           0,
           0,
           0,
           0,
           0,
           0,
           0,
           0,
           0,
           0,
           0,
           0,
           0,
           0,
           0,
           0,
           0,
           0,
           0,
           0,
           0,
           0,
           0,
           0,
           0,
           0,
           0,
           0,
           0,
           0,
           0,
           0,
           0,
           0,
           0,
           0,
           0,
           0,
           0,
           0,
           0,
           0,
           0,
           0,
           0,
           0,
           0,
           0,
           0,
           0,
           0,
           0,
           1,
           1,
           1,
           1,
           1,
           1,
           1,
           1,
           1,
           1,
           1,
           1,
           1,
           1,
           1,
           1,
           1,
           1,
           1,
           1,
           1,
           1,
           1,
           1,
           1,
           1,
           1,
           1,
           1,
           1,
           1,
           1,
           1,
           1,
           1,
           1,
           1,
           1,
           1,
           1,
           1,
           1,
           1,
           1,
           1,
           1,
           1,
           1,
           1,
           1,
           1,
           1,
           1,
           1,
           1,
           1,
           1,
           1,
           1,
           1,
           1,
           1,
           1,
           1,
           1,
           1,
           1,
           1,
           1,
           1,
           1,
           2,
           2,
           2,
           2,
           2,
           2,
           2,
           2,
           2,
           2,
           2,
           2,
           2,
           2,
           2,
           2,
           2,
           2,
           2,
           2,
           2,
           2,
           2,
           2,
           2,
           2,
           2,
           2,
           2,
           2,
           2,
           2,
           2,
           2,
           2,
           2,
           2,
           2,
           2,
           2,
           2,
           2,
           2,
           2,
           2,
           2,
           2,
           2
          ],
          "coloraxis": "coloraxis",
          "symbol": "circle"
         },
         "mode": "markers",
         "name": "",
         "scene": "scene",
         "showlegend": false,
         "type": "scatter3d",
         "x": [
          318.5629792879358,
          303.0974196593866,
          438.0611329172367,
          733.240139350811,
          -11.571428495905785,
          703.2311917377222,
          542.9715808665926,
          548.4018598404369,
          298.0368628006117,
          298.0495531354682,
          763.079711941247,
          532.9432277319978,
          572.8344103911644,
          402.9253582860967,
          800.0533938569715,
          563.2455779988173,
          533.3796506359126,
          383.31759107727527,
          933.1183874996059,
          98.40317747596004,
          33.59359400185367,
          23.146437540271165,
          288.0930302174046,
          267.98151253499145,
          98.01988577277814,
          83.49874396134206,
          447.9255962223426,
          537.9191650213772,
          168.21046760464955,
          288.00824708126447,
          538.0264521021907,
          768.0929388553867,
          243.15075090189157,
          488.60128004523574,
          348.23100699681953,
          173.07995742609634,
          133.28642354659155,
          358.0185591752665,
          273.0444315214036,
          13.643002113365121,
          48.42964224992994,
          287.8840921689909,
          348.09534818044665,
          -66.81465538610277,
          138.22700988344212,
          333.25480582916634,
          318.11184846663855,
          238.11148507872252,
          313.1199153878397,
          513.187748021228,
          402.93901715897346,
          517.9289632654715,
          443.2664112949329,
          628.2860709851129,
          313.39761267563216,
          373.3332912223799,
          223.4171063579503,
          523.072851396616,
          538.1820973229433,
          -227.03269045249678,
          -66.85012199724905,
          -296.82443689141564,
          -116.97047258185808,
          -327.0591255951514,
          -391.7524864360501,
          -68.90576044269481,
          -245.21252397707914,
          -237.24141029251678,
          3.296155990979953,
          -27.96612073053931,
          123.130138308563,
          -337.1041224880135,
          -275.0960258796877,
          238.71675654886124,
          139.094056639958,
          -318.8763289023295,
          -355.0602525141372,
          -246.63359745191585,
          3.7716896555327954,
          -283.84224764476625,
          -469.05935030926645,
          -33.13133924615624,
          -117.29039200980702,
          -232.13298838412308,
          -226.95329942011847,
          -296.8521517343859,
          -252.04639192844039,
          -185.1088573734926,
          -67.18075184447476,
          -122.43132640120467,
          -267.18533320304374,
          -297.1044146752862,
          -252.21388507177028,
          -457.0222149421968,
          -401.85127408999585,
          191.18339677250674,
          -121.27917775374141,
          -319.08827280468586,
          -87.08029256129828,
          -341.040900167349,
          -36.93161455099818,
          -185.07371349407924,
          -308.88238661249596,
          -332.0892963829008,
          -75.1531377520264,
          -432.00974192285366,
          -237.20669708725694,
          -259.14836773379625,
          -434.9577801123811,
          -66.99069577012942,
          -184.73643852532723,
          -422.0428736248792,
          -139.8186631613136,
          -313.0609481628969,
          -362.1296331136065,
          -340.1150062142456,
          -252.1094720610992,
          -401.69597348176717,
          -375.1710923664664,
          -183.09792918191027,
          -121.94524134844421,
          -281.53456911973217,
          -381.82677823426354,
          -367.08938004599435,
          -367.15717469661223,
          -369.1036009666214,
          -395.0788364569408,
          -281.0303687091009,
          -405.0612878028856,
          -167.23764181767578,
          -116.47300035905558,
          -216.78453997810763,
          -186.9151119656017,
          -146.76952962486226,
          -97.13297359792634,
          -51.982046867183485,
          -27.097930749853504,
          -231.9515340706208,
          -167.07624576452417,
          -156.8680445428576,
          -146.9464895805513,
          32.90429274889576,
          -226.9262096856647,
          -197.00434749401998,
          108.31267730325992,
          83.11826261248197,
          -332.19583999008915,
          -122.12609208783441,
          -97.01938926807355,
          -196.6248066040508,
          -246.4491992318415,
          -266.6287880497013,
          -321.57074093518077,
          -71.89765870622594,
          -106.81661780127244,
          -22.0202567985291,
          -267.03173230557627,
          132.99984125218964,
          -86.91399859078051,
          -127.06128965116442,
          -227.06883575173467,
          -66.75543117637756,
          -176.76509842511703,
          -71.76839793240188,
          -132.04824836043483,
          -227.0778445532604,
          -51.68950645984455,
          -62.08501112430395,
          3.182764653492917,
          -116.6748180494526,
          -236.9212079418377,
          -277.0835782560393,
          -87.0274026313734,
          -6.980210958028704,
          3.13160467875532,
          88.45807368612954,
          93.45624185410907,
          -186.94319027310954
         ],
         "y": [
          21.49213073453999,
          -5.364717683064041,
          -6.537309449440039,
          0.1927290320721456,
          18.489994608360355,
          -0.33215867425328466,
          -13.518966641596885,
          11.449432383558474,
          -8.18015783540833,
          -7.101542937561729,
          -8.334317226298756,
          -14.287633770471398,
          -21.00501433007111,
          -16.102635218597193,
          -12.118447191589329,
          2.214828664086274,
          10.804802233662496,
          8.477419817562929,
          -8.354478439743353,
          14.392659413302269,
          25.56795649775253,
          1.8174730862651147,
          -3.9630417496650274,
          -9.570704013405841,
          -5.495846062188413,
          22.891621549959417,
          -14.797331250759303,
          -15.38834606502355,
          4.255310963149659,
          -8.959731549015745,
          -8.212738820938174,
          -7.3798973746399525,
          -0.14391492761481176,
          23.565325043240634,
          4.03808014899822,
          -2.7929216497768667,
          7.772729575349445,
          -8.15798411812405,
          -6.725074307758919,
          27.846832147749087,
          16.321949760522187,
          -14.885118535217178,
          -5.043426088455582,
          4.384829918309574,
          4.7306883598040335,
          5.319331158248504,
          -3.4869449391169347,
          -3.051521001293949,
          -2.3053631635876335,
          -0.8637592352155246,
          -15.053302848806696,
          -14.99755488854645,
          3.2605020440732777,
          4.041145380795894,
          12.608913514882223,
          9.664198626315425,
          14.216892411736996,
          -7.096625255912909,
          -1.3567801281016345,
          -7.994967969134483,
          2.319866536222568,
          5.468475698009888,
          -3.7263834231551565,
          -6.9481308081421735,
          11.171678256222844,
          -0.5586205371242002,
          -17.493639299420558,
          -17.531025550917995,
          10.095811600653022,
          51.630125185926396,
          1.059834514550676,
          -7.623855122175791,
          -7.753152131800831,
          35.25182736823365,
          -1.2074761987360016,
          2.8107711323253137,
          -7.5307018318297265,
          16.5584366505584,
          36.031092363033515,
          6.361860804858206,
          -5.458923979087494,
          -13.1871049572164,
          -19.57861246799193,
          -10.53010325964803,
          -1.7760587915564798,
          4.452803088679313,
          -5.212617588104985,
          -8.318582024009322,
          -14.524690218444064,
          -27.50403869849134,
          -14.053890086022564,
          -8.415031614551143,
          -15.251570245283128,
          -3.697337926777123,
          5.331400215799386,
          58.793762379561805,
          36.4175148893171,
          -9.19307819529587,
          -10.226572689125996,
          -5.750565586578914,
          -2.1704159280460567,
          -8.520519018587825,
          3.7516565521730807,
          -7.883728753439611,
          -13.413827944810864,
          -2.0329467337495393,
          -15.561967932903482,
          -11.078816347723377,
          -0.05952602952399981,
          -4.571457640410528,
          10.516463160565266,
          -4.244921941762489,
          5.735552074296893,
          -6.167094011040843,
          -9.259295397921365,
          -8.689734429642709,
          -9.275870146862674,
          15.425890267706617,
          -13.185050253814754,
          -9.553544319548784,
          -1.588894278078244,
          24.508261186546683,
          9.189109755405713,
          -7.188215890256356,
          -11.196320221661297,
          -8.175804911790461,
          -6.679831873374487,
          -2.535860067717696,
          -4.45107366962921,
          -16.731185725058765,
          24.26602005979749,
          8.130449556224942,
          1.7100573556775907,
          8.92033411356218,
          -13.058283826880887,
          -4.812293096844397,
          -10.22999622396206,
          0.5349074098240286,
          -8.756723111031365,
          4.163162488055395,
          -1.0967289642032605,
          -11.305365635407664,
          1.3882783668811038,
          -4.228428695529218,
          10.351330443795753,
          0.8068696950290726,
          -13.813298892465184,
          -11.469925859637062,
          -5.906442575323516,
          16.873113924850287,
          27.81009537953359,
          17.150231997529264,
          22.164340097201016,
          -0.3996563997193613,
          5.2061230650887245,
          -6.229439254840835,
          -5.9230891440098405,
          -4.867705439544274,
          0.07963577715359763,
          -8.291416841194465,
          -7.618630299434804,
          8.47028989743515,
          9.473190002016782,
          7.510637841257727,
          -7.255030312061554,
          -7.593379303886886,
          12.358084974597835,
          -10.554015295801587,
          5.391361501575992,
          14.533370347154202,
          0.4630369975531697,
          -8.740331907970248,
          -7.104595748581727,
          -4.541136569158681,
          2.3351905113283635,
          18.776284558356135,
          18.670819123425392,
          -0.2133308031216591
         ],
         "z": [
          3.1307347048124385,
          6.822835495267988,
          -1.1132229813677692,
          -0.917257015615953,
          -0.5544220764538603,
          0.9493753343135388,
          2.126942829290758,
          0.04049242022917761,
          3.8809751711362006,
          1.5584553269055084,
          -1.8862903746692825,
          0.13033523958244403,
          0.37261485893017926,
          5.675139863234845,
          3.0465299070444685,
          -0.5255109845710298,
          -2.4765273440130198,
          -1.9897450127087377,
          -1.932912759319101,
          4.103746161566867,
          4.033586149690672,
          0.8871608409161831,
          2.0537138085203117,
          0.758411831583847,
          -0.38729766079058037,
          -4.2788365265849055,
          1.2198344514939707,
          0.16469232934215042,
          -0.10338440781075849,
          2.161498205662694,
          -5.168396279208264,
          -3.229962413129037,
          1.680802728019923,
          -1.1716264175969948,
          -0.4476749952054129,
          -1.5097919841869465,
          3.7192660754711664,
          0.0732006054661137,
          3.034792370820779,
          6.640550726108906,
          3.361210127078716,
          -0.8069365283241674,
          2.8389683690284073,
          2.3665429800657187,
          2.1931658420629137,
          -0.783758129154614,
          1.9938573800045456,
          2.2273271441802835,
          -0.8559035268130578,
          -0.9638927665023332,
          4.25268054239648,
          -0.29543347718324997,
          3.2253348673124895,
          -0.35793152753207585,
          2.0046993641622097,
          -2.2920457516603965,
          2.3878650381890663,
          0.12928836917025133,
          0.23097851091683771,
          9.947131337767148,
          4.1268993326466825,
          3.661755221543909,
          2.219998841499901,
          2.0857080285212044,
          3.024744638723453,
          1.8950692219499556,
          4.993235932280129,
          0.6560142273250323,
          3.2177922543832764,
          4.999461281198772,
          -0.8110228828001218,
          -3.335576259631289,
          -2.9311772376189085,
          -9.00507573715864,
          -1.198254678334234,
          5.007321550644146,
          4.801951375096378,
          3.440159403620585,
          6.131874734582492,
          -1.3088627653246137,
          3.201314861820329,
          0.8942199036692959,
          -3.397196627503816,
          -2.430109110116493,
          3.0905958793243316,
          3.6454550080961794,
          -1.4523108311782411,
          -4.815931293586858,
          -1.4714870295045628,
          -3.0803859615490508,
          2.3435504155541773,
          -0.9727154519195639,
          -0.010559973631025395,
          4.019284914658161,
          3.8437198057476447,
          2.368811543771212,
          0.3231710329592394,
          5.131485634540789,
          1.5397074203801846,
          3.480188977223778,
          2.5903095818237722,
          2.250976706118113,
          0.645735749933423,
          2.0412984683884052,
          -0.269440609994354,
          -0.012978552046816388,
          1.5472466138607381,
          -1.5999728457364568,
          3.0950524791575726,
          0.6490086918742891,
          1.7028908621079792,
          1.0798031835078419,
          0.5340291891297364,
          0.4295837386826613,
          -0.8390443466870983,
          0.3459305702058618,
          0.5577057418652148,
          0.24785618801489967,
          4.609454691510663,
          1.908483163353473,
          0.6556354295327361,
          -6.485045869937717,
          -4.13334204648106,
          -0.2186550266388436,
          0.3655088712389244,
          0.6398487191912685,
          0.061894557072465446,
          -6.785925299912549,
          -2.2072153631847513,
          -1.7368791369547898,
          2.789249502173853,
          0.2399268102054068,
          -3.8561465240976562,
          -1.3644812992645412,
          1.6758577178581164,
          0.1607301223929286,
          -1.837655835959199,
          -4.831493112675994,
          -0.17737762526841278,
          -3.7030765864158868,
          -1.009602536078917,
          -1.3413769751850275,
          -2.9629536749922605,
          -0.1228740416914801,
          -0.4810854297583365,
          -1.7968429693435595,
          -0.17093583700297607,
          -3.000643710628029,
          -2.9828262935565704,
          -2.253899631311594,
          -3.7507492905304654,
          -2.6831192631387766,
          -4.424342787525046,
          -0.7077531625493144,
          -0.7332940172726444,
          -3.8648328232759344,
          -0.7032844576440146,
          -8.753798412442483,
          -7.171313675163071,
          -4.577280887569154,
          -1.8550854337306197,
          -0.5491365352489386,
          -1.8428729242424664,
          1.0122258512645879,
          -3.663328099463397,
          -3.104006297213649,
          -4.743612647166002,
          -1.9421360432113828,
          -5.857239690699438,
          -5.754956502189564,
          0.9701937431228047,
          -0.8396936183760326,
          -1.960515821904544,
          -2.4747068615946133,
          -4.30993060969634,
          -2.2375765094484827,
          -1.7883915219577453,
          -5.630509838777156
         ]
        }
       ],
       "layout": {
        "coloraxis": {
         "colorbar": {
          "title": {
           "text": "color"
          }
         },
         "colorscale": [
          [
           0,
           "#0d0887"
          ],
          [
           0.1111111111111111,
           "#46039f"
          ],
          [
           0.2222222222222222,
           "#7201a8"
          ],
          [
           0.3333333333333333,
           "#9c179e"
          ],
          [
           0.4444444444444444,
           "#bd3786"
          ],
          [
           0.5555555555555556,
           "#d8576b"
          ],
          [
           0.6666666666666666,
           "#ed7953"
          ],
          [
           0.7777777777777778,
           "#fb9f3a"
          ],
          [
           0.8888888888888888,
           "#fdca26"
          ],
          [
           1,
           "#f0f921"
          ]
         ]
        },
        "legend": {
         "tracegroupgap": 0
        },
        "margin": {
         "t": 60
        },
        "scene": {
         "domain": {
          "x": [
           0,
           1
          ],
          "y": [
           0,
           1
          ]
         },
         "xaxis": {
          "title": {
           "text": "x"
          }
         },
         "yaxis": {
          "title": {
           "text": "y"
          }
         },
         "zaxis": {
          "title": {
           "text": "z"
          }
         }
        },
        "template": {
         "data": {
          "bar": [
           {
            "error_x": {
             "color": "#2a3f5f"
            },
            "error_y": {
             "color": "#2a3f5f"
            },
            "marker": {
             "line": {
              "color": "#E5ECF6",
              "width": 0.5
             }
            },
            "type": "bar"
           }
          ],
          "barpolar": [
           {
            "marker": {
             "line": {
              "color": "#E5ECF6",
              "width": 0.5
             }
            },
            "type": "barpolar"
           }
          ],
          "carpet": [
           {
            "aaxis": {
             "endlinecolor": "#2a3f5f",
             "gridcolor": "white",
             "linecolor": "white",
             "minorgridcolor": "white",
             "startlinecolor": "#2a3f5f"
            },
            "baxis": {
             "endlinecolor": "#2a3f5f",
             "gridcolor": "white",
             "linecolor": "white",
             "minorgridcolor": "white",
             "startlinecolor": "#2a3f5f"
            },
            "type": "carpet"
           }
          ],
          "choropleth": [
           {
            "colorbar": {
             "outlinewidth": 0,
             "ticks": ""
            },
            "type": "choropleth"
           }
          ],
          "contour": [
           {
            "colorbar": {
             "outlinewidth": 0,
             "ticks": ""
            },
            "colorscale": [
             [
              0,
              "#0d0887"
             ],
             [
              0.1111111111111111,
              "#46039f"
             ],
             [
              0.2222222222222222,
              "#7201a8"
             ],
             [
              0.3333333333333333,
              "#9c179e"
             ],
             [
              0.4444444444444444,
              "#bd3786"
             ],
             [
              0.5555555555555556,
              "#d8576b"
             ],
             [
              0.6666666666666666,
              "#ed7953"
             ],
             [
              0.7777777777777778,
              "#fb9f3a"
             ],
             [
              0.8888888888888888,
              "#fdca26"
             ],
             [
              1,
              "#f0f921"
             ]
            ],
            "type": "contour"
           }
          ],
          "contourcarpet": [
           {
            "colorbar": {
             "outlinewidth": 0,
             "ticks": ""
            },
            "type": "contourcarpet"
           }
          ],
          "heatmap": [
           {
            "colorbar": {
             "outlinewidth": 0,
             "ticks": ""
            },
            "colorscale": [
             [
              0,
              "#0d0887"
             ],
             [
              0.1111111111111111,
              "#46039f"
             ],
             [
              0.2222222222222222,
              "#7201a8"
             ],
             [
              0.3333333333333333,
              "#9c179e"
             ],
             [
              0.4444444444444444,
              "#bd3786"
             ],
             [
              0.5555555555555556,
              "#d8576b"
             ],
             [
              0.6666666666666666,
              "#ed7953"
             ],
             [
              0.7777777777777778,
              "#fb9f3a"
             ],
             [
              0.8888888888888888,
              "#fdca26"
             ],
             [
              1,
              "#f0f921"
             ]
            ],
            "type": "heatmap"
           }
          ],
          "heatmapgl": [
           {
            "colorbar": {
             "outlinewidth": 0,
             "ticks": ""
            },
            "colorscale": [
             [
              0,
              "#0d0887"
             ],
             [
              0.1111111111111111,
              "#46039f"
             ],
             [
              0.2222222222222222,
              "#7201a8"
             ],
             [
              0.3333333333333333,
              "#9c179e"
             ],
             [
              0.4444444444444444,
              "#bd3786"
             ],
             [
              0.5555555555555556,
              "#d8576b"
             ],
             [
              0.6666666666666666,
              "#ed7953"
             ],
             [
              0.7777777777777778,
              "#fb9f3a"
             ],
             [
              0.8888888888888888,
              "#fdca26"
             ],
             [
              1,
              "#f0f921"
             ]
            ],
            "type": "heatmapgl"
           }
          ],
          "histogram": [
           {
            "marker": {
             "colorbar": {
              "outlinewidth": 0,
              "ticks": ""
             }
            },
            "type": "histogram"
           }
          ],
          "histogram2d": [
           {
            "colorbar": {
             "outlinewidth": 0,
             "ticks": ""
            },
            "colorscale": [
             [
              0,
              "#0d0887"
             ],
             [
              0.1111111111111111,
              "#46039f"
             ],
             [
              0.2222222222222222,
              "#7201a8"
             ],
             [
              0.3333333333333333,
              "#9c179e"
             ],
             [
              0.4444444444444444,
              "#bd3786"
             ],
             [
              0.5555555555555556,
              "#d8576b"
             ],
             [
              0.6666666666666666,
              "#ed7953"
             ],
             [
              0.7777777777777778,
              "#fb9f3a"
             ],
             [
              0.8888888888888888,
              "#fdca26"
             ],
             [
              1,
              "#f0f921"
             ]
            ],
            "type": "histogram2d"
           }
          ],
          "histogram2dcontour": [
           {
            "colorbar": {
             "outlinewidth": 0,
             "ticks": ""
            },
            "colorscale": [
             [
              0,
              "#0d0887"
             ],
             [
              0.1111111111111111,
              "#46039f"
             ],
             [
              0.2222222222222222,
              "#7201a8"
             ],
             [
              0.3333333333333333,
              "#9c179e"
             ],
             [
              0.4444444444444444,
              "#bd3786"
             ],
             [
              0.5555555555555556,
              "#d8576b"
             ],
             [
              0.6666666666666666,
              "#ed7953"
             ],
             [
              0.7777777777777778,
              "#fb9f3a"
             ],
             [
              0.8888888888888888,
              "#fdca26"
             ],
             [
              1,
              "#f0f921"
             ]
            ],
            "type": "histogram2dcontour"
           }
          ],
          "mesh3d": [
           {
            "colorbar": {
             "outlinewidth": 0,
             "ticks": ""
            },
            "type": "mesh3d"
           }
          ],
          "parcoords": [
           {
            "line": {
             "colorbar": {
              "outlinewidth": 0,
              "ticks": ""
             }
            },
            "type": "parcoords"
           }
          ],
          "pie": [
           {
            "automargin": true,
            "type": "pie"
           }
          ],
          "scatter": [
           {
            "marker": {
             "colorbar": {
              "outlinewidth": 0,
              "ticks": ""
             }
            },
            "type": "scatter"
           }
          ],
          "scatter3d": [
           {
            "line": {
             "colorbar": {
              "outlinewidth": 0,
              "ticks": ""
             }
            },
            "marker": {
             "colorbar": {
              "outlinewidth": 0,
              "ticks": ""
             }
            },
            "type": "scatter3d"
           }
          ],
          "scattercarpet": [
           {
            "marker": {
             "colorbar": {
              "outlinewidth": 0,
              "ticks": ""
             }
            },
            "type": "scattercarpet"
           }
          ],
          "scattergeo": [
           {
            "marker": {
             "colorbar": {
              "outlinewidth": 0,
              "ticks": ""
             }
            },
            "type": "scattergeo"
           }
          ],
          "scattergl": [
           {
            "marker": {
             "colorbar": {
              "outlinewidth": 0,
              "ticks": ""
             }
            },
            "type": "scattergl"
           }
          ],
          "scattermapbox": [
           {
            "marker": {
             "colorbar": {
              "outlinewidth": 0,
              "ticks": ""
             }
            },
            "type": "scattermapbox"
           }
          ],
          "scatterpolar": [
           {
            "marker": {
             "colorbar": {
              "outlinewidth": 0,
              "ticks": ""
             }
            },
            "type": "scatterpolar"
           }
          ],
          "scatterpolargl": [
           {
            "marker": {
             "colorbar": {
              "outlinewidth": 0,
              "ticks": ""
             }
            },
            "type": "scatterpolargl"
           }
          ],
          "scatterternary": [
           {
            "marker": {
             "colorbar": {
              "outlinewidth": 0,
              "ticks": ""
             }
            },
            "type": "scatterternary"
           }
          ],
          "surface": [
           {
            "colorbar": {
             "outlinewidth": 0,
             "ticks": ""
            },
            "colorscale": [
             [
              0,
              "#0d0887"
             ],
             [
              0.1111111111111111,
              "#46039f"
             ],
             [
              0.2222222222222222,
              "#7201a8"
             ],
             [
              0.3333333333333333,
              "#9c179e"
             ],
             [
              0.4444444444444444,
              "#bd3786"
             ],
             [
              0.5555555555555556,
              "#d8576b"
             ],
             [
              0.6666666666666666,
              "#ed7953"
             ],
             [
              0.7777777777777778,
              "#fb9f3a"
             ],
             [
              0.8888888888888888,
              "#fdca26"
             ],
             [
              1,
              "#f0f921"
             ]
            ],
            "type": "surface"
           }
          ],
          "table": [
           {
            "cells": {
             "fill": {
              "color": "#EBF0F8"
             },
             "line": {
              "color": "white"
             }
            },
            "header": {
             "fill": {
              "color": "#C8D4E3"
             },
             "line": {
              "color": "white"
             }
            },
            "type": "table"
           }
          ]
         },
         "layout": {
          "annotationdefaults": {
           "arrowcolor": "#2a3f5f",
           "arrowhead": 0,
           "arrowwidth": 1
          },
          "coloraxis": {
           "colorbar": {
            "outlinewidth": 0,
            "ticks": ""
           }
          },
          "colorscale": {
           "diverging": [
            [
             0,
             "#8e0152"
            ],
            [
             0.1,
             "#c51b7d"
            ],
            [
             0.2,
             "#de77ae"
            ],
            [
             0.3,
             "#f1b6da"
            ],
            [
             0.4,
             "#fde0ef"
            ],
            [
             0.5,
             "#f7f7f7"
            ],
            [
             0.6,
             "#e6f5d0"
            ],
            [
             0.7,
             "#b8e186"
            ],
            [
             0.8,
             "#7fbc41"
            ],
            [
             0.9,
             "#4d9221"
            ],
            [
             1,
             "#276419"
            ]
           ],
           "sequential": [
            [
             0,
             "#0d0887"
            ],
            [
             0.1111111111111111,
             "#46039f"
            ],
            [
             0.2222222222222222,
             "#7201a8"
            ],
            [
             0.3333333333333333,
             "#9c179e"
            ],
            [
             0.4444444444444444,
             "#bd3786"
            ],
            [
             0.5555555555555556,
             "#d8576b"
            ],
            [
             0.6666666666666666,
             "#ed7953"
            ],
            [
             0.7777777777777778,
             "#fb9f3a"
            ],
            [
             0.8888888888888888,
             "#fdca26"
            ],
            [
             1,
             "#f0f921"
            ]
           ],
           "sequentialminus": [
            [
             0,
             "#0d0887"
            ],
            [
             0.1111111111111111,
             "#46039f"
            ],
            [
             0.2222222222222222,
             "#7201a8"
            ],
            [
             0.3333333333333333,
             "#9c179e"
            ],
            [
             0.4444444444444444,
             "#bd3786"
            ],
            [
             0.5555555555555556,
             "#d8576b"
            ],
            [
             0.6666666666666666,
             "#ed7953"
            ],
            [
             0.7777777777777778,
             "#fb9f3a"
            ],
            [
             0.8888888888888888,
             "#fdca26"
            ],
            [
             1,
             "#f0f921"
            ]
           ]
          },
          "colorway": [
           "#636efa",
           "#EF553B",
           "#00cc96",
           "#ab63fa",
           "#FFA15A",
           "#19d3f3",
           "#FF6692",
           "#B6E880",
           "#FF97FF",
           "#FECB52"
          ],
          "font": {
           "color": "#2a3f5f"
          },
          "geo": {
           "bgcolor": "white",
           "lakecolor": "white",
           "landcolor": "#E5ECF6",
           "showlakes": true,
           "showland": true,
           "subunitcolor": "white"
          },
          "hoverlabel": {
           "align": "left"
          },
          "hovermode": "closest",
          "mapbox": {
           "style": "light"
          },
          "paper_bgcolor": "white",
          "plot_bgcolor": "#E5ECF6",
          "polar": {
           "angularaxis": {
            "gridcolor": "white",
            "linecolor": "white",
            "ticks": ""
           },
           "bgcolor": "#E5ECF6",
           "radialaxis": {
            "gridcolor": "white",
            "linecolor": "white",
            "ticks": ""
           }
          },
          "scene": {
           "xaxis": {
            "backgroundcolor": "#E5ECF6",
            "gridcolor": "white",
            "gridwidth": 2,
            "linecolor": "white",
            "showbackground": true,
            "ticks": "",
            "zerolinecolor": "white"
           },
           "yaxis": {
            "backgroundcolor": "#E5ECF6",
            "gridcolor": "white",
            "gridwidth": 2,
            "linecolor": "white",
            "showbackground": true,
            "ticks": "",
            "zerolinecolor": "white"
           },
           "zaxis": {
            "backgroundcolor": "#E5ECF6",
            "gridcolor": "white",
            "gridwidth": 2,
            "linecolor": "white",
            "showbackground": true,
            "ticks": "",
            "zerolinecolor": "white"
           }
          },
          "shapedefaults": {
           "line": {
            "color": "#2a3f5f"
           }
          },
          "ternary": {
           "aaxis": {
            "gridcolor": "white",
            "linecolor": "white",
            "ticks": ""
           },
           "baxis": {
            "gridcolor": "white",
            "linecolor": "white",
            "ticks": ""
           },
           "bgcolor": "#E5ECF6",
           "caxis": {
            "gridcolor": "white",
            "linecolor": "white",
            "ticks": ""
           }
          },
          "title": {
           "x": 0.05
          },
          "xaxis": {
           "automargin": true,
           "gridcolor": "white",
           "linecolor": "white",
           "ticks": "",
           "title": {
            "standoff": 15
           },
           "zerolinecolor": "white",
           "zerolinewidth": 2
          },
          "yaxis": {
           "automargin": true,
           "gridcolor": "white",
           "linecolor": "white",
           "ticks": "",
           "title": {
            "standoff": 15
           },
           "zerolinecolor": "white",
           "zerolinewidth": 2
          }
         }
        }
       }
      }
     },
     "metadata": {}
    }
   ],
   "source": [
    "import plotly.express as px\n",
    "fig = px.scatter_3d( x=pca_result[:,0], y=pca_result[:,1], z=pca_result[:,2],\n",
    "                    color=df_wine['target'])\n",
    "fig.show()"
   ]
  },
  {
   "cell_type": "code",
   "execution_count": 85,
   "metadata": {},
   "outputs": [
    {
     "output_type": "display_data",
     "data": {
      "application/vnd.plotly.v1+json": {
       "config": {
        "plotlyServerURL": "https://plot.ly"
       },
       "data": [
        {
         "marker": {
          "color": [
           0,
           0,
           0,
           0,
           0,
           0,
           0,
           0,
           0,
           0,
           0,
           0,
           0,
           0,
           0,
           0,
           0,
           0,
           0,
           0,
           0,
           0,
           0,
           0,
           0,
           0,
           0,
           0,
           0,
           0,
           0,
           0,
           0,
           0,
           0,
           0,
           0,
           0,
           0,
           0,
           0,
           0,
           0,
           0,
           0,
           0,
           0,
           0,
           0,
           0,
           0,
           0,
           0,
           0,
           0,
           0,
           0,
           0,
           0,
           1,
           1,
           1,
           1,
           1,
           1,
           1,
           1,
           1,
           1,
           1,
           1,
           1,
           1,
           1,
           1,
           1,
           1,
           1,
           1,
           1,
           1,
           1,
           1,
           1,
           1,
           1,
           1,
           1,
           1,
           1,
           1,
           1,
           1,
           1,
           1,
           1,
           1,
           1,
           1,
           1,
           1,
           1,
           1,
           1,
           1,
           1,
           1,
           1,
           1,
           1,
           1,
           1,
           1,
           1,
           1,
           1,
           1,
           1,
           1,
           1,
           1,
           1,
           1,
           1,
           1,
           1,
           1,
           1,
           1,
           1,
           2,
           2,
           2,
           2,
           2,
           2,
           2,
           2,
           2,
           2,
           2,
           2,
           2,
           2,
           2,
           2,
           2,
           2,
           2,
           2,
           2,
           2,
           2,
           2,
           2,
           2,
           2,
           2,
           2,
           2,
           2,
           2,
           2,
           2,
           2,
           2,
           2,
           2,
           2,
           2,
           2,
           2,
           2,
           2,
           2,
           2,
           2,
           2
          ],
          "size": 2
         },
         "mode": "markers",
         "type": "scatter3d",
         "x": [
          318.5629792879358,
          303.0974196593866,
          438.0611329172367,
          733.240139350811,
          -11.571428495905785,
          703.2311917377222,
          542.9715808665926,
          548.4018598404369,
          298.0368628006117,
          298.0495531354682,
          763.079711941247,
          532.9432277319978,
          572.8344103911644,
          402.9253582860967,
          800.0533938569715,
          563.2455779988173,
          533.3796506359126,
          383.31759107727527,
          933.1183874996059,
          98.40317747596004,
          33.59359400185367,
          23.146437540271165,
          288.0930302174046,
          267.98151253499145,
          98.01988577277814,
          83.49874396134206,
          447.9255962223426,
          537.9191650213772,
          168.21046760464955,
          288.00824708126447,
          538.0264521021907,
          768.0929388553867,
          243.15075090189157,
          488.60128004523574,
          348.23100699681953,
          173.07995742609634,
          133.28642354659155,
          358.0185591752665,
          273.0444315214036,
          13.643002113365121,
          48.42964224992994,
          287.8840921689909,
          348.09534818044665,
          -66.81465538610277,
          138.22700988344212,
          333.25480582916634,
          318.11184846663855,
          238.11148507872252,
          313.1199153878397,
          513.187748021228,
          402.93901715897346,
          517.9289632654715,
          443.2664112949329,
          628.2860709851129,
          313.39761267563216,
          373.3332912223799,
          223.4171063579503,
          523.072851396616,
          538.1820973229433,
          -227.03269045249678,
          -66.85012199724905,
          -296.82443689141564,
          -116.97047258185808,
          -327.0591255951514,
          -391.7524864360501,
          -68.90576044269481,
          -245.21252397707914,
          -237.24141029251678,
          3.296155990979953,
          -27.96612073053931,
          123.130138308563,
          -337.1041224880135,
          -275.0960258796877,
          238.71675654886124,
          139.094056639958,
          -318.8763289023295,
          -355.0602525141372,
          -246.63359745191585,
          3.7716896555327954,
          -283.84224764476625,
          -469.05935030926645,
          -33.13133924615624,
          -117.29039200980702,
          -232.13298838412308,
          -226.95329942011847,
          -296.8521517343859,
          -252.04639192844039,
          -185.1088573734926,
          -67.18075184447476,
          -122.43132640120467,
          -267.18533320304374,
          -297.1044146752862,
          -252.21388507177028,
          -457.0222149421968,
          -401.85127408999585,
          191.18339677250674,
          -121.27917775374141,
          -319.08827280468586,
          -87.08029256129828,
          -341.040900167349,
          -36.93161455099818,
          -185.07371349407924,
          -308.88238661249596,
          -332.0892963829008,
          -75.1531377520264,
          -432.00974192285366,
          -237.20669708725694,
          -259.14836773379625,
          -434.9577801123811,
          -66.99069577012942,
          -184.73643852532723,
          -422.0428736248792,
          -139.8186631613136,
          -313.0609481628969,
          -362.1296331136065,
          -340.1150062142456,
          -252.1094720610992,
          -401.69597348176717,
          -375.1710923664664,
          -183.09792918191027,
          -121.94524134844421,
          -281.53456911973217,
          -381.82677823426354,
          -367.08938004599435,
          -367.15717469661223,
          -369.1036009666214,
          -395.0788364569408,
          -281.0303687091009,
          -405.0612878028856,
          -167.23764181767578,
          -116.47300035905558,
          -216.78453997810763,
          -186.9151119656017,
          -146.76952962486226,
          -97.13297359792634,
          -51.982046867183485,
          -27.097930749853504,
          -231.9515340706208,
          -167.07624576452417,
          -156.8680445428576,
          -146.9464895805513,
          32.90429274889576,
          -226.9262096856647,
          -197.00434749401998,
          108.31267730325992,
          83.11826261248197,
          -332.19583999008915,
          -122.12609208783441,
          -97.01938926807355,
          -196.6248066040508,
          -246.4491992318415,
          -266.6287880497013,
          -321.57074093518077,
          -71.89765870622594,
          -106.81661780127244,
          -22.0202567985291,
          -267.03173230557627,
          132.99984125218964,
          -86.91399859078051,
          -127.06128965116442,
          -227.06883575173467,
          -66.75543117637756,
          -176.76509842511703,
          -71.76839793240188,
          -132.04824836043483,
          -227.0778445532604,
          -51.68950645984455,
          -62.08501112430395,
          3.182764653492917,
          -116.6748180494526,
          -236.9212079418377,
          -277.0835782560393,
          -87.0274026313734,
          -6.980210958028704,
          3.13160467875532,
          88.45807368612954,
          93.45624185410907,
          -186.94319027310954
         ],
         "y": [
          21.49213073453999,
          -5.364717683064041,
          -6.537309449440039,
          0.1927290320721456,
          18.489994608360355,
          -0.33215867425328466,
          -13.518966641596885,
          11.449432383558474,
          -8.18015783540833,
          -7.101542937561729,
          -8.334317226298756,
          -14.287633770471398,
          -21.00501433007111,
          -16.102635218597193,
          -12.118447191589329,
          2.214828664086274,
          10.804802233662496,
          8.477419817562929,
          -8.354478439743353,
          14.392659413302269,
          25.56795649775253,
          1.8174730862651147,
          -3.9630417496650274,
          -9.570704013405841,
          -5.495846062188413,
          22.891621549959417,
          -14.797331250759303,
          -15.38834606502355,
          4.255310963149659,
          -8.959731549015745,
          -8.212738820938174,
          -7.3798973746399525,
          -0.14391492761481176,
          23.565325043240634,
          4.03808014899822,
          -2.7929216497768667,
          7.772729575349445,
          -8.15798411812405,
          -6.725074307758919,
          27.846832147749087,
          16.321949760522187,
          -14.885118535217178,
          -5.043426088455582,
          4.384829918309574,
          4.7306883598040335,
          5.319331158248504,
          -3.4869449391169347,
          -3.051521001293949,
          -2.3053631635876335,
          -0.8637592352155246,
          -15.053302848806696,
          -14.99755488854645,
          3.2605020440732777,
          4.041145380795894,
          12.608913514882223,
          9.664198626315425,
          14.216892411736996,
          -7.096625255912909,
          -1.3567801281016345,
          -7.994967969134483,
          2.319866536222568,
          5.468475698009888,
          -3.7263834231551565,
          -6.9481308081421735,
          11.171678256222844,
          -0.5586205371242002,
          -17.493639299420558,
          -17.531025550917995,
          10.095811600653022,
          51.630125185926396,
          1.059834514550676,
          -7.623855122175791,
          -7.753152131800831,
          35.25182736823365,
          -1.2074761987360016,
          2.8107711323253137,
          -7.5307018318297265,
          16.5584366505584,
          36.031092363033515,
          6.361860804858206,
          -5.458923979087494,
          -13.1871049572164,
          -19.57861246799193,
          -10.53010325964803,
          -1.7760587915564798,
          4.452803088679313,
          -5.212617588104985,
          -8.318582024009322,
          -14.524690218444064,
          -27.50403869849134,
          -14.053890086022564,
          -8.415031614551143,
          -15.251570245283128,
          -3.697337926777123,
          5.331400215799386,
          58.793762379561805,
          36.4175148893171,
          -9.19307819529587,
          -10.226572689125996,
          -5.750565586578914,
          -2.1704159280460567,
          -8.520519018587825,
          3.7516565521730807,
          -7.883728753439611,
          -13.413827944810864,
          -2.0329467337495393,
          -15.561967932903482,
          -11.078816347723377,
          -0.05952602952399981,
          -4.571457640410528,
          10.516463160565266,
          -4.244921941762489,
          5.735552074296893,
          -6.167094011040843,
          -9.259295397921365,
          -8.689734429642709,
          -9.275870146862674,
          15.425890267706617,
          -13.185050253814754,
          -9.553544319548784,
          -1.588894278078244,
          24.508261186546683,
          9.189109755405713,
          -7.188215890256356,
          -11.196320221661297,
          -8.175804911790461,
          -6.679831873374487,
          -2.535860067717696,
          -4.45107366962921,
          -16.731185725058765,
          24.26602005979749,
          8.130449556224942,
          1.7100573556775907,
          8.92033411356218,
          -13.058283826880887,
          -4.812293096844397,
          -10.22999622396206,
          0.5349074098240286,
          -8.756723111031365,
          4.163162488055395,
          -1.0967289642032605,
          -11.305365635407664,
          1.3882783668811038,
          -4.228428695529218,
          10.351330443795753,
          0.8068696950290726,
          -13.813298892465184,
          -11.469925859637062,
          -5.906442575323516,
          16.873113924850287,
          27.81009537953359,
          17.150231997529264,
          22.164340097201016,
          -0.3996563997193613,
          5.2061230650887245,
          -6.229439254840835,
          -5.9230891440098405,
          -4.867705439544274,
          0.07963577715359763,
          -8.291416841194465,
          -7.618630299434804,
          8.47028989743515,
          9.473190002016782,
          7.510637841257727,
          -7.255030312061554,
          -7.593379303886886,
          12.358084974597835,
          -10.554015295801587,
          5.391361501575992,
          14.533370347154202,
          0.4630369975531697,
          -8.740331907970248,
          -7.104595748581727,
          -4.541136569158681,
          2.3351905113283635,
          18.776284558356135,
          18.670819123425392,
          -0.2133308031216591
         ],
         "z": [
          3.1307347048124385,
          6.822835495267988,
          -1.1132229813677692,
          -0.917257015615953,
          -0.5544220764538603,
          0.9493753343135388,
          2.126942829290758,
          0.04049242022917761,
          3.8809751711362006,
          1.5584553269055084,
          -1.8862903746692825,
          0.13033523958244403,
          0.37261485893017926,
          5.675139863234845,
          3.0465299070444685,
          -0.5255109845710298,
          -2.4765273440130198,
          -1.9897450127087377,
          -1.932912759319101,
          4.103746161566867,
          4.033586149690672,
          0.8871608409161831,
          2.0537138085203117,
          0.758411831583847,
          -0.38729766079058037,
          -4.2788365265849055,
          1.2198344514939707,
          0.16469232934215042,
          -0.10338440781075849,
          2.161498205662694,
          -5.168396279208264,
          -3.229962413129037,
          1.680802728019923,
          -1.1716264175969948,
          -0.4476749952054129,
          -1.5097919841869465,
          3.7192660754711664,
          0.0732006054661137,
          3.034792370820779,
          6.640550726108906,
          3.361210127078716,
          -0.8069365283241674,
          2.8389683690284073,
          2.3665429800657187,
          2.1931658420629137,
          -0.783758129154614,
          1.9938573800045456,
          2.2273271441802835,
          -0.8559035268130578,
          -0.9638927665023332,
          4.25268054239648,
          -0.29543347718324997,
          3.2253348673124895,
          -0.35793152753207585,
          2.0046993641622097,
          -2.2920457516603965,
          2.3878650381890663,
          0.12928836917025133,
          0.23097851091683771,
          9.947131337767148,
          4.1268993326466825,
          3.661755221543909,
          2.219998841499901,
          2.0857080285212044,
          3.024744638723453,
          1.8950692219499556,
          4.993235932280129,
          0.6560142273250323,
          3.2177922543832764,
          4.999461281198772,
          -0.8110228828001218,
          -3.335576259631289,
          -2.9311772376189085,
          -9.00507573715864,
          -1.198254678334234,
          5.007321550644146,
          4.801951375096378,
          3.440159403620585,
          6.131874734582492,
          -1.3088627653246137,
          3.201314861820329,
          0.8942199036692959,
          -3.397196627503816,
          -2.430109110116493,
          3.0905958793243316,
          3.6454550080961794,
          -1.4523108311782411,
          -4.815931293586858,
          -1.4714870295045628,
          -3.0803859615490508,
          2.3435504155541773,
          -0.9727154519195639,
          -0.010559973631025395,
          4.019284914658161,
          3.8437198057476447,
          2.368811543771212,
          0.3231710329592394,
          5.131485634540789,
          1.5397074203801846,
          3.480188977223778,
          2.5903095818237722,
          2.250976706118113,
          0.645735749933423,
          2.0412984683884052,
          -0.269440609994354,
          -0.012978552046816388,
          1.5472466138607381,
          -1.5999728457364568,
          3.0950524791575726,
          0.6490086918742891,
          1.7028908621079792,
          1.0798031835078419,
          0.5340291891297364,
          0.4295837386826613,
          -0.8390443466870983,
          0.3459305702058618,
          0.5577057418652148,
          0.24785618801489967,
          4.609454691510663,
          1.908483163353473,
          0.6556354295327361,
          -6.485045869937717,
          -4.13334204648106,
          -0.2186550266388436,
          0.3655088712389244,
          0.6398487191912685,
          0.061894557072465446,
          -6.785925299912549,
          -2.2072153631847513,
          -1.7368791369547898,
          2.789249502173853,
          0.2399268102054068,
          -3.8561465240976562,
          -1.3644812992645412,
          1.6758577178581164,
          0.1607301223929286,
          -1.837655835959199,
          -4.831493112675994,
          -0.17737762526841278,
          -3.7030765864158868,
          -1.009602536078917,
          -1.3413769751850275,
          -2.9629536749922605,
          -0.1228740416914801,
          -0.4810854297583365,
          -1.7968429693435595,
          -0.17093583700297607,
          -3.000643710628029,
          -2.9828262935565704,
          -2.253899631311594,
          -3.7507492905304654,
          -2.6831192631387766,
          -4.424342787525046,
          -0.7077531625493144,
          -0.7332940172726444,
          -3.8648328232759344,
          -0.7032844576440146,
          -8.753798412442483,
          -7.171313675163071,
          -4.577280887569154,
          -1.8550854337306197,
          -0.5491365352489386,
          -1.8428729242424664,
          1.0122258512645879,
          -3.663328099463397,
          -3.104006297213649,
          -4.743612647166002,
          -1.9421360432113828,
          -5.857239690699438,
          -5.754956502189564,
          0.9701937431228047,
          -0.8396936183760326,
          -1.960515821904544,
          -2.4747068615946133,
          -4.30993060969634,
          -2.2375765094484827,
          -1.7883915219577453,
          -5.630509838777156
         ]
        }
       ],
       "layout": {
        "template": {
         "data": {
          "bar": [
           {
            "error_x": {
             "color": "#2a3f5f"
            },
            "error_y": {
             "color": "#2a3f5f"
            },
            "marker": {
             "line": {
              "color": "#E5ECF6",
              "width": 0.5
             }
            },
            "type": "bar"
           }
          ],
          "barpolar": [
           {
            "marker": {
             "line": {
              "color": "#E5ECF6",
              "width": 0.5
             }
            },
            "type": "barpolar"
           }
          ],
          "carpet": [
           {
            "aaxis": {
             "endlinecolor": "#2a3f5f",
             "gridcolor": "white",
             "linecolor": "white",
             "minorgridcolor": "white",
             "startlinecolor": "#2a3f5f"
            },
            "baxis": {
             "endlinecolor": "#2a3f5f",
             "gridcolor": "white",
             "linecolor": "white",
             "minorgridcolor": "white",
             "startlinecolor": "#2a3f5f"
            },
            "type": "carpet"
           }
          ],
          "choropleth": [
           {
            "colorbar": {
             "outlinewidth": 0,
             "ticks": ""
            },
            "type": "choropleth"
           }
          ],
          "contour": [
           {
            "colorbar": {
             "outlinewidth": 0,
             "ticks": ""
            },
            "colorscale": [
             [
              0,
              "#0d0887"
             ],
             [
              0.1111111111111111,
              "#46039f"
             ],
             [
              0.2222222222222222,
              "#7201a8"
             ],
             [
              0.3333333333333333,
              "#9c179e"
             ],
             [
              0.4444444444444444,
              "#bd3786"
             ],
             [
              0.5555555555555556,
              "#d8576b"
             ],
             [
              0.6666666666666666,
              "#ed7953"
             ],
             [
              0.7777777777777778,
              "#fb9f3a"
             ],
             [
              0.8888888888888888,
              "#fdca26"
             ],
             [
              1,
              "#f0f921"
             ]
            ],
            "type": "contour"
           }
          ],
          "contourcarpet": [
           {
            "colorbar": {
             "outlinewidth": 0,
             "ticks": ""
            },
            "type": "contourcarpet"
           }
          ],
          "heatmap": [
           {
            "colorbar": {
             "outlinewidth": 0,
             "ticks": ""
            },
            "colorscale": [
             [
              0,
              "#0d0887"
             ],
             [
              0.1111111111111111,
              "#46039f"
             ],
             [
              0.2222222222222222,
              "#7201a8"
             ],
             [
              0.3333333333333333,
              "#9c179e"
             ],
             [
              0.4444444444444444,
              "#bd3786"
             ],
             [
              0.5555555555555556,
              "#d8576b"
             ],
             [
              0.6666666666666666,
              "#ed7953"
             ],
             [
              0.7777777777777778,
              "#fb9f3a"
             ],
             [
              0.8888888888888888,
              "#fdca26"
             ],
             [
              1,
              "#f0f921"
             ]
            ],
            "type": "heatmap"
           }
          ],
          "heatmapgl": [
           {
            "colorbar": {
             "outlinewidth": 0,
             "ticks": ""
            },
            "colorscale": [
             [
              0,
              "#0d0887"
             ],
             [
              0.1111111111111111,
              "#46039f"
             ],
             [
              0.2222222222222222,
              "#7201a8"
             ],
             [
              0.3333333333333333,
              "#9c179e"
             ],
             [
              0.4444444444444444,
              "#bd3786"
             ],
             [
              0.5555555555555556,
              "#d8576b"
             ],
             [
              0.6666666666666666,
              "#ed7953"
             ],
             [
              0.7777777777777778,
              "#fb9f3a"
             ],
             [
              0.8888888888888888,
              "#fdca26"
             ],
             [
              1,
              "#f0f921"
             ]
            ],
            "type": "heatmapgl"
           }
          ],
          "histogram": [
           {
            "marker": {
             "colorbar": {
              "outlinewidth": 0,
              "ticks": ""
             }
            },
            "type": "histogram"
           }
          ],
          "histogram2d": [
           {
            "colorbar": {
             "outlinewidth": 0,
             "ticks": ""
            },
            "colorscale": [
             [
              0,
              "#0d0887"
             ],
             [
              0.1111111111111111,
              "#46039f"
             ],
             [
              0.2222222222222222,
              "#7201a8"
             ],
             [
              0.3333333333333333,
              "#9c179e"
             ],
             [
              0.4444444444444444,
              "#bd3786"
             ],
             [
              0.5555555555555556,
              "#d8576b"
             ],
             [
              0.6666666666666666,
              "#ed7953"
             ],
             [
              0.7777777777777778,
              "#fb9f3a"
             ],
             [
              0.8888888888888888,
              "#fdca26"
             ],
             [
              1,
              "#f0f921"
             ]
            ],
            "type": "histogram2d"
           }
          ],
          "histogram2dcontour": [
           {
            "colorbar": {
             "outlinewidth": 0,
             "ticks": ""
            },
            "colorscale": [
             [
              0,
              "#0d0887"
             ],
             [
              0.1111111111111111,
              "#46039f"
             ],
             [
              0.2222222222222222,
              "#7201a8"
             ],
             [
              0.3333333333333333,
              "#9c179e"
             ],
             [
              0.4444444444444444,
              "#bd3786"
             ],
             [
              0.5555555555555556,
              "#d8576b"
             ],
             [
              0.6666666666666666,
              "#ed7953"
             ],
             [
              0.7777777777777778,
              "#fb9f3a"
             ],
             [
              0.8888888888888888,
              "#fdca26"
             ],
             [
              1,
              "#f0f921"
             ]
            ],
            "type": "histogram2dcontour"
           }
          ],
          "mesh3d": [
           {
            "colorbar": {
             "outlinewidth": 0,
             "ticks": ""
            },
            "type": "mesh3d"
           }
          ],
          "parcoords": [
           {
            "line": {
             "colorbar": {
              "outlinewidth": 0,
              "ticks": ""
             }
            },
            "type": "parcoords"
           }
          ],
          "pie": [
           {
            "automargin": true,
            "type": "pie"
           }
          ],
          "scatter": [
           {
            "marker": {
             "colorbar": {
              "outlinewidth": 0,
              "ticks": ""
             }
            },
            "type": "scatter"
           }
          ],
          "scatter3d": [
           {
            "line": {
             "colorbar": {
              "outlinewidth": 0,
              "ticks": ""
             }
            },
            "marker": {
             "colorbar": {
              "outlinewidth": 0,
              "ticks": ""
             }
            },
            "type": "scatter3d"
           }
          ],
          "scattercarpet": [
           {
            "marker": {
             "colorbar": {
              "outlinewidth": 0,
              "ticks": ""
             }
            },
            "type": "scattercarpet"
           }
          ],
          "scattergeo": [
           {
            "marker": {
             "colorbar": {
              "outlinewidth": 0,
              "ticks": ""
             }
            },
            "type": "scattergeo"
           }
          ],
          "scattergl": [
           {
            "marker": {
             "colorbar": {
              "outlinewidth": 0,
              "ticks": ""
             }
            },
            "type": "scattergl"
           }
          ],
          "scattermapbox": [
           {
            "marker": {
             "colorbar": {
              "outlinewidth": 0,
              "ticks": ""
             }
            },
            "type": "scattermapbox"
           }
          ],
          "scatterpolar": [
           {
            "marker": {
             "colorbar": {
              "outlinewidth": 0,
              "ticks": ""
             }
            },
            "type": "scatterpolar"
           }
          ],
          "scatterpolargl": [
           {
            "marker": {
             "colorbar": {
              "outlinewidth": 0,
              "ticks": ""
             }
            },
            "type": "scatterpolargl"
           }
          ],
          "scatterternary": [
           {
            "marker": {
             "colorbar": {
              "outlinewidth": 0,
              "ticks": ""
             }
            },
            "type": "scatterternary"
           }
          ],
          "surface": [
           {
            "colorbar": {
             "outlinewidth": 0,
             "ticks": ""
            },
            "colorscale": [
             [
              0,
              "#0d0887"
             ],
             [
              0.1111111111111111,
              "#46039f"
             ],
             [
              0.2222222222222222,
              "#7201a8"
             ],
             [
              0.3333333333333333,
              "#9c179e"
             ],
             [
              0.4444444444444444,
              "#bd3786"
             ],
             [
              0.5555555555555556,
              "#d8576b"
             ],
             [
              0.6666666666666666,
              "#ed7953"
             ],
             [
              0.7777777777777778,
              "#fb9f3a"
             ],
             [
              0.8888888888888888,
              "#fdca26"
             ],
             [
              1,
              "#f0f921"
             ]
            ],
            "type": "surface"
           }
          ],
          "table": [
           {
            "cells": {
             "fill": {
              "color": "#EBF0F8"
             },
             "line": {
              "color": "white"
             }
            },
            "header": {
             "fill": {
              "color": "#C8D4E3"
             },
             "line": {
              "color": "white"
             }
            },
            "type": "table"
           }
          ]
         },
         "layout": {
          "annotationdefaults": {
           "arrowcolor": "#2a3f5f",
           "arrowhead": 0,
           "arrowwidth": 1
          },
          "coloraxis": {
           "colorbar": {
            "outlinewidth": 0,
            "ticks": ""
           }
          },
          "colorscale": {
           "diverging": [
            [
             0,
             "#8e0152"
            ],
            [
             0.1,
             "#c51b7d"
            ],
            [
             0.2,
             "#de77ae"
            ],
            [
             0.3,
             "#f1b6da"
            ],
            [
             0.4,
             "#fde0ef"
            ],
            [
             0.5,
             "#f7f7f7"
            ],
            [
             0.6,
             "#e6f5d0"
            ],
            [
             0.7,
             "#b8e186"
            ],
            [
             0.8,
             "#7fbc41"
            ],
            [
             0.9,
             "#4d9221"
            ],
            [
             1,
             "#276419"
            ]
           ],
           "sequential": [
            [
             0,
             "#0d0887"
            ],
            [
             0.1111111111111111,
             "#46039f"
            ],
            [
             0.2222222222222222,
             "#7201a8"
            ],
            [
             0.3333333333333333,
             "#9c179e"
            ],
            [
             0.4444444444444444,
             "#bd3786"
            ],
            [
             0.5555555555555556,
             "#d8576b"
            ],
            [
             0.6666666666666666,
             "#ed7953"
            ],
            [
             0.7777777777777778,
             "#fb9f3a"
            ],
            [
             0.8888888888888888,
             "#fdca26"
            ],
            [
             1,
             "#f0f921"
            ]
           ],
           "sequentialminus": [
            [
             0,
             "#0d0887"
            ],
            [
             0.1111111111111111,
             "#46039f"
            ],
            [
             0.2222222222222222,
             "#7201a8"
            ],
            [
             0.3333333333333333,
             "#9c179e"
            ],
            [
             0.4444444444444444,
             "#bd3786"
            ],
            [
             0.5555555555555556,
             "#d8576b"
            ],
            [
             0.6666666666666666,
             "#ed7953"
            ],
            [
             0.7777777777777778,
             "#fb9f3a"
            ],
            [
             0.8888888888888888,
             "#fdca26"
            ],
            [
             1,
             "#f0f921"
            ]
           ]
          },
          "colorway": [
           "#636efa",
           "#EF553B",
           "#00cc96",
           "#ab63fa",
           "#FFA15A",
           "#19d3f3",
           "#FF6692",
           "#B6E880",
           "#FF97FF",
           "#FECB52"
          ],
          "font": {
           "color": "#2a3f5f"
          },
          "geo": {
           "bgcolor": "white",
           "lakecolor": "white",
           "landcolor": "#E5ECF6",
           "showlakes": true,
           "showland": true,
           "subunitcolor": "white"
          },
          "hoverlabel": {
           "align": "left"
          },
          "hovermode": "closest",
          "mapbox": {
           "style": "light"
          },
          "paper_bgcolor": "white",
          "plot_bgcolor": "#E5ECF6",
          "polar": {
           "angularaxis": {
            "gridcolor": "white",
            "linecolor": "white",
            "ticks": ""
           },
           "bgcolor": "#E5ECF6",
           "radialaxis": {
            "gridcolor": "white",
            "linecolor": "white",
            "ticks": ""
           }
          },
          "scene": {
           "xaxis": {
            "backgroundcolor": "#E5ECF6",
            "gridcolor": "white",
            "gridwidth": 2,
            "linecolor": "white",
            "showbackground": true,
            "ticks": "",
            "zerolinecolor": "white"
           },
           "yaxis": {
            "backgroundcolor": "#E5ECF6",
            "gridcolor": "white",
            "gridwidth": 2,
            "linecolor": "white",
            "showbackground": true,
            "ticks": "",
            "zerolinecolor": "white"
           },
           "zaxis": {
            "backgroundcolor": "#E5ECF6",
            "gridcolor": "white",
            "gridwidth": 2,
            "linecolor": "white",
            "showbackground": true,
            "ticks": "",
            "zerolinecolor": "white"
           }
          },
          "shapedefaults": {
           "line": {
            "color": "#2a3f5f"
           }
          },
          "ternary": {
           "aaxis": {
            "gridcolor": "white",
            "linecolor": "white",
            "ticks": ""
           },
           "baxis": {
            "gridcolor": "white",
            "linecolor": "white",
            "ticks": ""
           },
           "bgcolor": "#E5ECF6",
           "caxis": {
            "gridcolor": "white",
            "linecolor": "white",
            "ticks": ""
           }
          },
          "title": {
           "x": 0.05
          },
          "xaxis": {
           "automargin": true,
           "gridcolor": "white",
           "linecolor": "white",
           "ticks": "",
           "title": {
            "standoff": 15
           },
           "zerolinecolor": "white",
           "zerolinewidth": 2
          },
          "yaxis": {
           "automargin": true,
           "gridcolor": "white",
           "linecolor": "white",
           "ticks": "",
           "title": {
            "standoff": 15
           },
           "zerolinecolor": "white",
           "zerolinewidth": 2
          }
         }
        }
       }
      }
     },
     "metadata": {}
    }
   ],
   "source": [
    "import plotly.graph_objects as go\n",
    "fig = go.Figure(\n",
    "    data= [go.Scatter3d(\n",
    "        x=pca_result[:,0],\n",
    "        y=pca_result[:,1],\n",
    "        z=pca_result[:,2],\n",
    "        mode='markers',\n",
    "        marker=dict(\n",
    "            size=2,\n",
    "            color=df_wine['target']\n",
    "        )\n",
    "    )\n",
    "    ]\n",
    ")\n",
    "fig.show()"
   ]
  },
  {
   "cell_type": "code",
   "execution_count": 69,
   "metadata": {},
   "outputs": [
    {
     "output_type": "display_data",
     "data": {
      "application/vnd.plotly.v1+json": {
       "config": {
        "plotlyServerURL": "https://plot.ly"
       },
       "data": [
        {
         "hoverlabel": {
          "namelength": 0
         },
         "hovertemplate": "species=setosa<br>sepal_length=%{x}<br>sepal_width=%{y}<br>petal_width=%{z}<br>petal_length=%{marker.color}",
         "legendgroup": "setosa",
         "marker": {
          "color": [
           1.4,
           1.4,
           1.3,
           1.5,
           1.4,
           1.7,
           1.4,
           1.5,
           1.4,
           1.5,
           1.5,
           1.6,
           1.4,
           1.1,
           1.2,
           1.5,
           1.3,
           1.4,
           1.7,
           1.5,
           1.7,
           1.5,
           1,
           1.7,
           1.9,
           1.6,
           1.6,
           1.5,
           1.4,
           1.6,
           1.6,
           1.5,
           1.5,
           1.4,
           1.5,
           1.2,
           1.3,
           1.5,
           1.3,
           1.5,
           1.3,
           1.3,
           1.3,
           1.6,
           1.9,
           1.4,
           1.6,
           1.4,
           1.5,
           1.4
          ],
          "coloraxis": "coloraxis",
          "symbol": "circle"
         },
         "mode": "markers",
         "name": "setosa",
         "scene": "scene",
         "showlegend": true,
         "type": "scatter3d",
         "x": [
          5.1,
          4.9,
          4.7,
          4.6,
          5,
          5.4,
          4.6,
          5,
          4.4,
          4.9,
          5.4,
          4.8,
          4.8,
          4.3,
          5.8,
          5.7,
          5.4,
          5.1,
          5.7,
          5.1,
          5.4,
          5.1,
          4.6,
          5.1,
          4.8,
          5,
          5,
          5.2,
          5.2,
          4.7,
          4.8,
          5.4,
          5.2,
          5.5,
          4.9,
          5,
          5.5,
          4.9,
          4.4,
          5.1,
          5,
          4.5,
          4.4,
          5,
          5.1,
          4.8,
          5.1,
          4.6,
          5.3,
          5
         ],
         "y": [
          3.5,
          3,
          3.2,
          3.1,
          3.6,
          3.9,
          3.4,
          3.4,
          2.9,
          3.1,
          3.7,
          3.4,
          3,
          3,
          4,
          4.4,
          3.9,
          3.5,
          3.8,
          3.8,
          3.4,
          3.7,
          3.6,
          3.3,
          3.4,
          3,
          3.4,
          3.5,
          3.4,
          3.2,
          3.1,
          3.4,
          4.1,
          4.2,
          3.1,
          3.2,
          3.5,
          3.1,
          3,
          3.4,
          3.5,
          2.3,
          3.2,
          3.5,
          3.8,
          3,
          3.8,
          3.2,
          3.7,
          3.3
         ],
         "z": [
          0.2,
          0.2,
          0.2,
          0.2,
          0.2,
          0.4,
          0.3,
          0.2,
          0.2,
          0.1,
          0.2,
          0.2,
          0.1,
          0.1,
          0.2,
          0.4,
          0.4,
          0.3,
          0.3,
          0.3,
          0.2,
          0.4,
          0.2,
          0.5,
          0.2,
          0.2,
          0.4,
          0.2,
          0.2,
          0.2,
          0.2,
          0.4,
          0.1,
          0.2,
          0.1,
          0.2,
          0.2,
          0.1,
          0.2,
          0.2,
          0.3,
          0.3,
          0.2,
          0.6,
          0.4,
          0.3,
          0.2,
          0.2,
          0.2,
          0.2
         ]
        },
        {
         "hoverlabel": {
          "namelength": 0
         },
         "hovertemplate": "species=versicolor<br>sepal_length=%{x}<br>sepal_width=%{y}<br>petal_width=%{z}<br>petal_length=%{marker.color}",
         "legendgroup": "versicolor",
         "marker": {
          "color": [
           4.7,
           4.5,
           4.9,
           4,
           4.6,
           4.5,
           4.7,
           3.3,
           4.6,
           3.9,
           3.5,
           4.2,
           4,
           4.7,
           3.6,
           4.4,
           4.5,
           4.1,
           4.5,
           3.9,
           4.8,
           4,
           4.9,
           4.7,
           4.3,
           4.4,
           4.8,
           5,
           4.5,
           3.5,
           3.8,
           3.7,
           3.9,
           5.1,
           4.5,
           4.5,
           4.7,
           4.4,
           4.1,
           4,
           4.4,
           4.6,
           4,
           3.3,
           4.2,
           4.2,
           4.2,
           4.3,
           3,
           4.1
          ],
          "coloraxis": "coloraxis",
          "symbol": "diamond"
         },
         "mode": "markers",
         "name": "versicolor",
         "scene": "scene",
         "showlegend": true,
         "type": "scatter3d",
         "x": [
          7,
          6.4,
          6.9,
          5.5,
          6.5,
          5.7,
          6.3,
          4.9,
          6.6,
          5.2,
          5,
          5.9,
          6,
          6.1,
          5.6,
          6.7,
          5.6,
          5.8,
          6.2,
          5.6,
          5.9,
          6.1,
          6.3,
          6.1,
          6.4,
          6.6,
          6.8,
          6.7,
          6,
          5.7,
          5.5,
          5.5,
          5.8,
          6,
          5.4,
          6,
          6.7,
          6.3,
          5.6,
          5.5,
          5.5,
          6.1,
          5.8,
          5,
          5.6,
          5.7,
          5.7,
          6.2,
          5.1,
          5.7
         ],
         "y": [
          3.2,
          3.2,
          3.1,
          2.3,
          2.8,
          2.8,
          3.3,
          2.4,
          2.9,
          2.7,
          2,
          3,
          2.2,
          2.9,
          2.9,
          3.1,
          3,
          2.7,
          2.2,
          2.5,
          3.2,
          2.8,
          2.5,
          2.8,
          2.9,
          3,
          2.8,
          3,
          2.9,
          2.6,
          2.4,
          2.4,
          2.7,
          2.7,
          3,
          3.4,
          3.1,
          2.3,
          3,
          2.5,
          2.6,
          3,
          2.6,
          2.3,
          2.7,
          3,
          2.9,
          2.9,
          2.5,
          2.8
         ],
         "z": [
          1.4,
          1.5,
          1.5,
          1.3,
          1.5,
          1.3,
          1.6,
          1,
          1.3,
          1.4,
          1,
          1.5,
          1,
          1.4,
          1.3,
          1.4,
          1.5,
          1,
          1.5,
          1.1,
          1.8,
          1.3,
          1.5,
          1.2,
          1.3,
          1.4,
          1.4,
          1.7,
          1.5,
          1,
          1.1,
          1,
          1.2,
          1.6,
          1.5,
          1.6,
          1.5,
          1.3,
          1.3,
          1.3,
          1.2,
          1.4,
          1.2,
          1,
          1.3,
          1.2,
          1.3,
          1.3,
          1.1,
          1.3
         ]
        },
        {
         "hoverlabel": {
          "namelength": 0
         },
         "hovertemplate": "species=virginica<br>sepal_length=%{x}<br>sepal_width=%{y}<br>petal_width=%{z}<br>petal_length=%{marker.color}",
         "legendgroup": "virginica",
         "marker": {
          "color": [
           6,
           5.1,
           5.9,
           5.6,
           5.8,
           6.6,
           4.5,
           6.3,
           5.8,
           6.1,
           5.1,
           5.3,
           5.5,
           5,
           5.1,
           5.3,
           5.5,
           6.7,
           6.9,
           5,
           5.7,
           4.9,
           6.7,
           4.9,
           5.7,
           6,
           4.8,
           4.9,
           5.6,
           5.8,
           6.1,
           6.4,
           5.6,
           5.1,
           5.6,
           6.1,
           5.6,
           5.5,
           4.8,
           5.4,
           5.6,
           5.1,
           5.1,
           5.9,
           5.7,
           5.2,
           5,
           5.2,
           5.4,
           5.1
          ],
          "coloraxis": "coloraxis",
          "symbol": "square"
         },
         "mode": "markers",
         "name": "virginica",
         "scene": "scene",
         "showlegend": true,
         "type": "scatter3d",
         "x": [
          6.3,
          5.8,
          7.1,
          6.3,
          6.5,
          7.6,
          4.9,
          7.3,
          6.7,
          7.2,
          6.5,
          6.4,
          6.8,
          5.7,
          5.8,
          6.4,
          6.5,
          7.7,
          7.7,
          6,
          6.9,
          5.6,
          7.7,
          6.3,
          6.7,
          7.2,
          6.2,
          6.1,
          6.4,
          7.2,
          7.4,
          7.9,
          6.4,
          6.3,
          6.1,
          7.7,
          6.3,
          6.4,
          6,
          6.9,
          6.7,
          6.9,
          5.8,
          6.8,
          6.7,
          6.7,
          6.3,
          6.5,
          6.2,
          5.9
         ],
         "y": [
          3.3,
          2.7,
          3,
          2.9,
          3,
          3,
          2.5,
          2.9,
          2.5,
          3.6,
          3.2,
          2.7,
          3,
          2.5,
          2.8,
          3.2,
          3,
          3.8,
          2.6,
          2.2,
          3.2,
          2.8,
          2.8,
          2.7,
          3.3,
          3.2,
          2.8,
          3,
          2.8,
          3,
          2.8,
          3.8,
          2.8,
          2.8,
          2.6,
          3,
          3.4,
          3.1,
          3,
          3.1,
          3.1,
          3.1,
          2.7,
          3.2,
          3.3,
          3,
          2.5,
          3,
          3.4,
          3
         ],
         "z": [
          2.5,
          1.9,
          2.1,
          1.8,
          2.2,
          2.1,
          1.7,
          1.8,
          1.8,
          2.5,
          2,
          1.9,
          2.1,
          2,
          2.4,
          2.3,
          1.8,
          2.2,
          2.3,
          1.5,
          2.3,
          2,
          2,
          1.8,
          2.1,
          1.8,
          1.8,
          1.8,
          2.1,
          1.6,
          1.9,
          2,
          2.2,
          1.5,
          1.4,
          2.3,
          2.4,
          1.8,
          1.8,
          2.1,
          2.4,
          2.3,
          1.9,
          2.3,
          2.5,
          2.3,
          1.9,
          2,
          2.3,
          1.8
         ]
        }
       ],
       "layout": {
        "coloraxis": {
         "colorbar": {
          "title": {
           "text": "petal_length"
          }
         },
         "colorscale": [
          [
           0,
           "#0d0887"
          ],
          [
           0.1111111111111111,
           "#46039f"
          ],
          [
           0.2222222222222222,
           "#7201a8"
          ],
          [
           0.3333333333333333,
           "#9c179e"
          ],
          [
           0.4444444444444444,
           "#bd3786"
          ],
          [
           0.5555555555555556,
           "#d8576b"
          ],
          [
           0.6666666666666666,
           "#ed7953"
          ],
          [
           0.7777777777777778,
           "#fb9f3a"
          ],
          [
           0.8888888888888888,
           "#fdca26"
          ],
          [
           1,
           "#f0f921"
          ]
         ]
        },
        "legend": {
         "title": {
          "text": "species"
         },
         "tracegroupgap": 0
        },
        "margin": {
         "t": 60
        },
        "scene": {
         "domain": {
          "x": [
           0,
           1
          ],
          "y": [
           0,
           1
          ]
         },
         "xaxis": {
          "title": {
           "text": "sepal_length"
          }
         },
         "yaxis": {
          "title": {
           "text": "sepal_width"
          }
         },
         "zaxis": {
          "title": {
           "text": "petal_width"
          }
         }
        },
        "template": {
         "data": {
          "bar": [
           {
            "error_x": {
             "color": "#2a3f5f"
            },
            "error_y": {
             "color": "#2a3f5f"
            },
            "marker": {
             "line": {
              "color": "#E5ECF6",
              "width": 0.5
             }
            },
            "type": "bar"
           }
          ],
          "barpolar": [
           {
            "marker": {
             "line": {
              "color": "#E5ECF6",
              "width": 0.5
             }
            },
            "type": "barpolar"
           }
          ],
          "carpet": [
           {
            "aaxis": {
             "endlinecolor": "#2a3f5f",
             "gridcolor": "white",
             "linecolor": "white",
             "minorgridcolor": "white",
             "startlinecolor": "#2a3f5f"
            },
            "baxis": {
             "endlinecolor": "#2a3f5f",
             "gridcolor": "white",
             "linecolor": "white",
             "minorgridcolor": "white",
             "startlinecolor": "#2a3f5f"
            },
            "type": "carpet"
           }
          ],
          "choropleth": [
           {
            "colorbar": {
             "outlinewidth": 0,
             "ticks": ""
            },
            "type": "choropleth"
           }
          ],
          "contour": [
           {
            "colorbar": {
             "outlinewidth": 0,
             "ticks": ""
            },
            "colorscale": [
             [
              0,
              "#0d0887"
             ],
             [
              0.1111111111111111,
              "#46039f"
             ],
             [
              0.2222222222222222,
              "#7201a8"
             ],
             [
              0.3333333333333333,
              "#9c179e"
             ],
             [
              0.4444444444444444,
              "#bd3786"
             ],
             [
              0.5555555555555556,
              "#d8576b"
             ],
             [
              0.6666666666666666,
              "#ed7953"
             ],
             [
              0.7777777777777778,
              "#fb9f3a"
             ],
             [
              0.8888888888888888,
              "#fdca26"
             ],
             [
              1,
              "#f0f921"
             ]
            ],
            "type": "contour"
           }
          ],
          "contourcarpet": [
           {
            "colorbar": {
             "outlinewidth": 0,
             "ticks": ""
            },
            "type": "contourcarpet"
           }
          ],
          "heatmap": [
           {
            "colorbar": {
             "outlinewidth": 0,
             "ticks": ""
            },
            "colorscale": [
             [
              0,
              "#0d0887"
             ],
             [
              0.1111111111111111,
              "#46039f"
             ],
             [
              0.2222222222222222,
              "#7201a8"
             ],
             [
              0.3333333333333333,
              "#9c179e"
             ],
             [
              0.4444444444444444,
              "#bd3786"
             ],
             [
              0.5555555555555556,
              "#d8576b"
             ],
             [
              0.6666666666666666,
              "#ed7953"
             ],
             [
              0.7777777777777778,
              "#fb9f3a"
             ],
             [
              0.8888888888888888,
              "#fdca26"
             ],
             [
              1,
              "#f0f921"
             ]
            ],
            "type": "heatmap"
           }
          ],
          "heatmapgl": [
           {
            "colorbar": {
             "outlinewidth": 0,
             "ticks": ""
            },
            "colorscale": [
             [
              0,
              "#0d0887"
             ],
             [
              0.1111111111111111,
              "#46039f"
             ],
             [
              0.2222222222222222,
              "#7201a8"
             ],
             [
              0.3333333333333333,
              "#9c179e"
             ],
             [
              0.4444444444444444,
              "#bd3786"
             ],
             [
              0.5555555555555556,
              "#d8576b"
             ],
             [
              0.6666666666666666,
              "#ed7953"
             ],
             [
              0.7777777777777778,
              "#fb9f3a"
             ],
             [
              0.8888888888888888,
              "#fdca26"
             ],
             [
              1,
              "#f0f921"
             ]
            ],
            "type": "heatmapgl"
           }
          ],
          "histogram": [
           {
            "marker": {
             "colorbar": {
              "outlinewidth": 0,
              "ticks": ""
             }
            },
            "type": "histogram"
           }
          ],
          "histogram2d": [
           {
            "colorbar": {
             "outlinewidth": 0,
             "ticks": ""
            },
            "colorscale": [
             [
              0,
              "#0d0887"
             ],
             [
              0.1111111111111111,
              "#46039f"
             ],
             [
              0.2222222222222222,
              "#7201a8"
             ],
             [
              0.3333333333333333,
              "#9c179e"
             ],
             [
              0.4444444444444444,
              "#bd3786"
             ],
             [
              0.5555555555555556,
              "#d8576b"
             ],
             [
              0.6666666666666666,
              "#ed7953"
             ],
             [
              0.7777777777777778,
              "#fb9f3a"
             ],
             [
              0.8888888888888888,
              "#fdca26"
             ],
             [
              1,
              "#f0f921"
             ]
            ],
            "type": "histogram2d"
           }
          ],
          "histogram2dcontour": [
           {
            "colorbar": {
             "outlinewidth": 0,
             "ticks": ""
            },
            "colorscale": [
             [
              0,
              "#0d0887"
             ],
             [
              0.1111111111111111,
              "#46039f"
             ],
             [
              0.2222222222222222,
              "#7201a8"
             ],
             [
              0.3333333333333333,
              "#9c179e"
             ],
             [
              0.4444444444444444,
              "#bd3786"
             ],
             [
              0.5555555555555556,
              "#d8576b"
             ],
             [
              0.6666666666666666,
              "#ed7953"
             ],
             [
              0.7777777777777778,
              "#fb9f3a"
             ],
             [
              0.8888888888888888,
              "#fdca26"
             ],
             [
              1,
              "#f0f921"
             ]
            ],
            "type": "histogram2dcontour"
           }
          ],
          "mesh3d": [
           {
            "colorbar": {
             "outlinewidth": 0,
             "ticks": ""
            },
            "type": "mesh3d"
           }
          ],
          "parcoords": [
           {
            "line": {
             "colorbar": {
              "outlinewidth": 0,
              "ticks": ""
             }
            },
            "type": "parcoords"
           }
          ],
          "pie": [
           {
            "automargin": true,
            "type": "pie"
           }
          ],
          "scatter": [
           {
            "marker": {
             "colorbar": {
              "outlinewidth": 0,
              "ticks": ""
             }
            },
            "type": "scatter"
           }
          ],
          "scatter3d": [
           {
            "line": {
             "colorbar": {
              "outlinewidth": 0,
              "ticks": ""
             }
            },
            "marker": {
             "colorbar": {
              "outlinewidth": 0,
              "ticks": ""
             }
            },
            "type": "scatter3d"
           }
          ],
          "scattercarpet": [
           {
            "marker": {
             "colorbar": {
              "outlinewidth": 0,
              "ticks": ""
             }
            },
            "type": "scattercarpet"
           }
          ],
          "scattergeo": [
           {
            "marker": {
             "colorbar": {
              "outlinewidth": 0,
              "ticks": ""
             }
            },
            "type": "scattergeo"
           }
          ],
          "scattergl": [
           {
            "marker": {
             "colorbar": {
              "outlinewidth": 0,
              "ticks": ""
             }
            },
            "type": "scattergl"
           }
          ],
          "scattermapbox": [
           {
            "marker": {
             "colorbar": {
              "outlinewidth": 0,
              "ticks": ""
             }
            },
            "type": "scattermapbox"
           }
          ],
          "scatterpolar": [
           {
            "marker": {
             "colorbar": {
              "outlinewidth": 0,
              "ticks": ""
             }
            },
            "type": "scatterpolar"
           }
          ],
          "scatterpolargl": [
           {
            "marker": {
             "colorbar": {
              "outlinewidth": 0,
              "ticks": ""
             }
            },
            "type": "scatterpolargl"
           }
          ],
          "scatterternary": [
           {
            "marker": {
             "colorbar": {
              "outlinewidth": 0,
              "ticks": ""
             }
            },
            "type": "scatterternary"
           }
          ],
          "surface": [
           {
            "colorbar": {
             "outlinewidth": 0,
             "ticks": ""
            },
            "colorscale": [
             [
              0,
              "#0d0887"
             ],
             [
              0.1111111111111111,
              "#46039f"
             ],
             [
              0.2222222222222222,
              "#7201a8"
             ],
             [
              0.3333333333333333,
              "#9c179e"
             ],
             [
              0.4444444444444444,
              "#bd3786"
             ],
             [
              0.5555555555555556,
              "#d8576b"
             ],
             [
              0.6666666666666666,
              "#ed7953"
             ],
             [
              0.7777777777777778,
              "#fb9f3a"
             ],
             [
              0.8888888888888888,
              "#fdca26"
             ],
             [
              1,
              "#f0f921"
             ]
            ],
            "type": "surface"
           }
          ],
          "table": [
           {
            "cells": {
             "fill": {
              "color": "#EBF0F8"
             },
             "line": {
              "color": "white"
             }
            },
            "header": {
             "fill": {
              "color": "#C8D4E3"
             },
             "line": {
              "color": "white"
             }
            },
            "type": "table"
           }
          ]
         },
         "layout": {
          "annotationdefaults": {
           "arrowcolor": "#2a3f5f",
           "arrowhead": 0,
           "arrowwidth": 1
          },
          "coloraxis": {
           "colorbar": {
            "outlinewidth": 0,
            "ticks": ""
           }
          },
          "colorscale": {
           "diverging": [
            [
             0,
             "#8e0152"
            ],
            [
             0.1,
             "#c51b7d"
            ],
            [
             0.2,
             "#de77ae"
            ],
            [
             0.3,
             "#f1b6da"
            ],
            [
             0.4,
             "#fde0ef"
            ],
            [
             0.5,
             "#f7f7f7"
            ],
            [
             0.6,
             "#e6f5d0"
            ],
            [
             0.7,
             "#b8e186"
            ],
            [
             0.8,
             "#7fbc41"
            ],
            [
             0.9,
             "#4d9221"
            ],
            [
             1,
             "#276419"
            ]
           ],
           "sequential": [
            [
             0,
             "#0d0887"
            ],
            [
             0.1111111111111111,
             "#46039f"
            ],
            [
             0.2222222222222222,
             "#7201a8"
            ],
            [
             0.3333333333333333,
             "#9c179e"
            ],
            [
             0.4444444444444444,
             "#bd3786"
            ],
            [
             0.5555555555555556,
             "#d8576b"
            ],
            [
             0.6666666666666666,
             "#ed7953"
            ],
            [
             0.7777777777777778,
             "#fb9f3a"
            ],
            [
             0.8888888888888888,
             "#fdca26"
            ],
            [
             1,
             "#f0f921"
            ]
           ],
           "sequentialminus": [
            [
             0,
             "#0d0887"
            ],
            [
             0.1111111111111111,
             "#46039f"
            ],
            [
             0.2222222222222222,
             "#7201a8"
            ],
            [
             0.3333333333333333,
             "#9c179e"
            ],
            [
             0.4444444444444444,
             "#bd3786"
            ],
            [
             0.5555555555555556,
             "#d8576b"
            ],
            [
             0.6666666666666666,
             "#ed7953"
            ],
            [
             0.7777777777777778,
             "#fb9f3a"
            ],
            [
             0.8888888888888888,
             "#fdca26"
            ],
            [
             1,
             "#f0f921"
            ]
           ]
          },
          "colorway": [
           "#636efa",
           "#EF553B",
           "#00cc96",
           "#ab63fa",
           "#FFA15A",
           "#19d3f3",
           "#FF6692",
           "#B6E880",
           "#FF97FF",
           "#FECB52"
          ],
          "font": {
           "color": "#2a3f5f"
          },
          "geo": {
           "bgcolor": "white",
           "lakecolor": "white",
           "landcolor": "#E5ECF6",
           "showlakes": true,
           "showland": true,
           "subunitcolor": "white"
          },
          "hoverlabel": {
           "align": "left"
          },
          "hovermode": "closest",
          "mapbox": {
           "style": "light"
          },
          "paper_bgcolor": "white",
          "plot_bgcolor": "#E5ECF6",
          "polar": {
           "angularaxis": {
            "gridcolor": "white",
            "linecolor": "white",
            "ticks": ""
           },
           "bgcolor": "#E5ECF6",
           "radialaxis": {
            "gridcolor": "white",
            "linecolor": "white",
            "ticks": ""
           }
          },
          "scene": {
           "xaxis": {
            "backgroundcolor": "#E5ECF6",
            "gridcolor": "white",
            "gridwidth": 2,
            "linecolor": "white",
            "showbackground": true,
            "ticks": "",
            "zerolinecolor": "white"
           },
           "yaxis": {
            "backgroundcolor": "#E5ECF6",
            "gridcolor": "white",
            "gridwidth": 2,
            "linecolor": "white",
            "showbackground": true,
            "ticks": "",
            "zerolinecolor": "white"
           },
           "zaxis": {
            "backgroundcolor": "#E5ECF6",
            "gridcolor": "white",
            "gridwidth": 2,
            "linecolor": "white",
            "showbackground": true,
            "ticks": "",
            "zerolinecolor": "white"
           }
          },
          "shapedefaults": {
           "line": {
            "color": "#2a3f5f"
           }
          },
          "ternary": {
           "aaxis": {
            "gridcolor": "white",
            "linecolor": "white",
            "ticks": ""
           },
           "baxis": {
            "gridcolor": "white",
            "linecolor": "white",
            "ticks": ""
           },
           "bgcolor": "#E5ECF6",
           "caxis": {
            "gridcolor": "white",
            "linecolor": "white",
            "ticks": ""
           }
          },
          "title": {
           "x": 0.05
          },
          "xaxis": {
           "automargin": true,
           "gridcolor": "white",
           "linecolor": "white",
           "ticks": "",
           "title": {
            "standoff": 15
           },
           "zerolinecolor": "white",
           "zerolinewidth": 2
          },
          "yaxis": {
           "automargin": true,
           "gridcolor": "white",
           "linecolor": "white",
           "ticks": "",
           "title": {
            "standoff": 15
           },
           "zerolinecolor": "white",
           "zerolinewidth": 2
          }
         }
        }
       }
      }
     },
     "metadata": {}
    }
   ],
   "source": [
    "import plotly.express as px\n",
    "df = px.data.iris()\n",
    "fig = px.scatter_3d(df, x='sepal_length', y='sepal_width', z='petal_width',\n",
    "                    color='petal_length', symbol='species')\n",
    "fig.show()"
   ]
  },
  {
   "source": [
    "### Diabetes"
   ],
   "cell_type": "markdown",
   "metadata": {}
  },
  {
   "cell_type": "code",
   "execution_count": 30,
   "metadata": {},
   "outputs": [],
   "source": [
    "ds_diabetes = load_diabetes()"
   ]
  },
  {
   "cell_type": "code",
   "execution_count": 31,
   "metadata": {},
   "outputs": [
    {
     "output_type": "execute_result",
     "data": {
      "text/plain": [
       "['age', 'sex', 'bmi', 'bp', 's1', 's2', 's3', 's4', 's5', 's6']"
      ]
     },
     "metadata": {},
     "execution_count": 31
    }
   ],
   "source": [
    "ds_diabetes.feature_names"
   ]
  },
  {
   "cell_type": "code",
   "execution_count": 40,
   "metadata": {},
   "outputs": [
    {
     "output_type": "execute_result",
     "data": {
      "text/plain": [
       "          age       sex       bmi        bp        s1        s2        s3  \\\n",
       "0    0.038076  0.050680  0.061696  0.021872 -0.044223 -0.034821 -0.043401   \n",
       "1   -0.001882 -0.044642 -0.051474 -0.026328 -0.008449 -0.019163  0.074412   \n",
       "2    0.085299  0.050680  0.044451 -0.005671 -0.045599 -0.034194 -0.032356   \n",
       "3   -0.089063 -0.044642 -0.011595 -0.036656  0.012191  0.024991 -0.036038   \n",
       "4    0.005383 -0.044642 -0.036385  0.021872  0.003935  0.015596  0.008142   \n",
       "..        ...       ...       ...       ...       ...       ...       ...   \n",
       "437  0.041708  0.050680  0.019662  0.059744 -0.005697 -0.002566 -0.028674   \n",
       "438 -0.005515  0.050680 -0.015906 -0.067642  0.049341  0.079165 -0.028674   \n",
       "439  0.041708  0.050680 -0.015906  0.017282 -0.037344 -0.013840 -0.024993   \n",
       "440 -0.045472 -0.044642  0.039062  0.001215  0.016318  0.015283 -0.028674   \n",
       "441 -0.045472 -0.044642 -0.073030 -0.081414  0.083740  0.027809  0.173816   \n",
       "\n",
       "           s4        s5        s6  target  \n",
       "0   -0.002592  0.019908 -0.017646   151.0  \n",
       "1   -0.039493 -0.068330 -0.092204    75.0  \n",
       "2   -0.002592  0.002864 -0.025930   141.0  \n",
       "3    0.034309  0.022692 -0.009362   206.0  \n",
       "4   -0.002592 -0.031991 -0.046641   135.0  \n",
       "..        ...       ...       ...     ...  \n",
       "437 -0.002592  0.031193  0.007207   178.0  \n",
       "438  0.034309 -0.018118  0.044485   104.0  \n",
       "439 -0.011080 -0.046879  0.015491   132.0  \n",
       "440  0.026560  0.044528 -0.025930   220.0  \n",
       "441 -0.039493 -0.004220  0.003064    57.0  \n",
       "\n",
       "[442 rows x 11 columns]"
      ],
      "text/html": "<div>\n<style scoped>\n    .dataframe tbody tr th:only-of-type {\n        vertical-align: middle;\n    }\n\n    .dataframe tbody tr th {\n        vertical-align: top;\n    }\n\n    .dataframe thead th {\n        text-align: right;\n    }\n</style>\n<table border=\"1\" class=\"dataframe\">\n  <thead>\n    <tr style=\"text-align: right;\">\n      <th></th>\n      <th>age</th>\n      <th>sex</th>\n      <th>bmi</th>\n      <th>bp</th>\n      <th>s1</th>\n      <th>s2</th>\n      <th>s3</th>\n      <th>s4</th>\n      <th>s5</th>\n      <th>s6</th>\n      <th>target</th>\n    </tr>\n  </thead>\n  <tbody>\n    <tr>\n      <th>0</th>\n      <td>0.038076</td>\n      <td>0.050680</td>\n      <td>0.061696</td>\n      <td>0.021872</td>\n      <td>-0.044223</td>\n      <td>-0.034821</td>\n      <td>-0.043401</td>\n      <td>-0.002592</td>\n      <td>0.019908</td>\n      <td>-0.017646</td>\n      <td>151.0</td>\n    </tr>\n    <tr>\n      <th>1</th>\n      <td>-0.001882</td>\n      <td>-0.044642</td>\n      <td>-0.051474</td>\n      <td>-0.026328</td>\n      <td>-0.008449</td>\n      <td>-0.019163</td>\n      <td>0.074412</td>\n      <td>-0.039493</td>\n      <td>-0.068330</td>\n      <td>-0.092204</td>\n      <td>75.0</td>\n    </tr>\n    <tr>\n      <th>2</th>\n      <td>0.085299</td>\n      <td>0.050680</td>\n      <td>0.044451</td>\n      <td>-0.005671</td>\n      <td>-0.045599</td>\n      <td>-0.034194</td>\n      <td>-0.032356</td>\n      <td>-0.002592</td>\n      <td>0.002864</td>\n      <td>-0.025930</td>\n      <td>141.0</td>\n    </tr>\n    <tr>\n      <th>3</th>\n      <td>-0.089063</td>\n      <td>-0.044642</td>\n      <td>-0.011595</td>\n      <td>-0.036656</td>\n      <td>0.012191</td>\n      <td>0.024991</td>\n      <td>-0.036038</td>\n      <td>0.034309</td>\n      <td>0.022692</td>\n      <td>-0.009362</td>\n      <td>206.0</td>\n    </tr>\n    <tr>\n      <th>4</th>\n      <td>0.005383</td>\n      <td>-0.044642</td>\n      <td>-0.036385</td>\n      <td>0.021872</td>\n      <td>0.003935</td>\n      <td>0.015596</td>\n      <td>0.008142</td>\n      <td>-0.002592</td>\n      <td>-0.031991</td>\n      <td>-0.046641</td>\n      <td>135.0</td>\n    </tr>\n    <tr>\n      <th>...</th>\n      <td>...</td>\n      <td>...</td>\n      <td>...</td>\n      <td>...</td>\n      <td>...</td>\n      <td>...</td>\n      <td>...</td>\n      <td>...</td>\n      <td>...</td>\n      <td>...</td>\n      <td>...</td>\n    </tr>\n    <tr>\n      <th>437</th>\n      <td>0.041708</td>\n      <td>0.050680</td>\n      <td>0.019662</td>\n      <td>0.059744</td>\n      <td>-0.005697</td>\n      <td>-0.002566</td>\n      <td>-0.028674</td>\n      <td>-0.002592</td>\n      <td>0.031193</td>\n      <td>0.007207</td>\n      <td>178.0</td>\n    </tr>\n    <tr>\n      <th>438</th>\n      <td>-0.005515</td>\n      <td>0.050680</td>\n      <td>-0.015906</td>\n      <td>-0.067642</td>\n      <td>0.049341</td>\n      <td>0.079165</td>\n      <td>-0.028674</td>\n      <td>0.034309</td>\n      <td>-0.018118</td>\n      <td>0.044485</td>\n      <td>104.0</td>\n    </tr>\n    <tr>\n      <th>439</th>\n      <td>0.041708</td>\n      <td>0.050680</td>\n      <td>-0.015906</td>\n      <td>0.017282</td>\n      <td>-0.037344</td>\n      <td>-0.013840</td>\n      <td>-0.024993</td>\n      <td>-0.011080</td>\n      <td>-0.046879</td>\n      <td>0.015491</td>\n      <td>132.0</td>\n    </tr>\n    <tr>\n      <th>440</th>\n      <td>-0.045472</td>\n      <td>-0.044642</td>\n      <td>0.039062</td>\n      <td>0.001215</td>\n      <td>0.016318</td>\n      <td>0.015283</td>\n      <td>-0.028674</td>\n      <td>0.026560</td>\n      <td>0.044528</td>\n      <td>-0.025930</td>\n      <td>220.0</td>\n    </tr>\n    <tr>\n      <th>441</th>\n      <td>-0.045472</td>\n      <td>-0.044642</td>\n      <td>-0.073030</td>\n      <td>-0.081414</td>\n      <td>0.083740</td>\n      <td>0.027809</td>\n      <td>0.173816</td>\n      <td>-0.039493</td>\n      <td>-0.004220</td>\n      <td>0.003064</td>\n      <td>57.0</td>\n    </tr>\n  </tbody>\n</table>\n<p>442 rows × 11 columns</p>\n</div>"
     },
     "metadata": {},
     "execution_count": 40
    }
   ],
   "source": [
    "# build data frame\n",
    "df_diabetes = pd.DataFrame(ds_diabetes.data, columns= ds_diabetes.feature_names)\n",
    "df_diabetes = pd.concat([df_diabetes, pd.DataFrame({'target':ds_diabetes.target})], axis=1)\n",
    "df_diabetes"
   ]
  },
  {
   "cell_type": "code",
   "execution_count": 44,
   "metadata": {},
   "outputs": [
    {
     "output_type": "execute_result",
     "data": {
      "text/plain": [
       "<matplotlib.axes._subplots.AxesSubplot at 0x253f0802ac8>"
      ]
     },
     "metadata": {},
     "execution_count": 44
    },
    {
     "output_type": "display_data",
     "data": {
      "text/plain": "<Figure size 432x288 with 1 Axes>",
      "image/svg+xml": "<?xml version=\"1.0\" encoding=\"utf-8\" standalone=\"no\"?>\r\n<!DOCTYPE svg PUBLIC \"-//W3C//DTD SVG 1.1//EN\"\r\n  \"http://www.w3.org/Graphics/SVG/1.1/DTD/svg11.dtd\">\r\n<!-- Created with matplotlib (https://matplotlib.org/) -->\r\n<svg height=\"266.374219pt\" version=\"1.1\" viewBox=\"0 0 392.025469 266.374219\" width=\"392.025469pt\" xmlns=\"http://www.w3.org/2000/svg\" xmlns:xlink=\"http://www.w3.org/1999/xlink\">\r\n <defs>\r\n  <style type=\"text/css\">\r\n*{stroke-linecap:butt;stroke-linejoin:round;}\r\n  </style>\r\n </defs>\r\n <g id=\"figure_1\">\r\n  <g id=\"patch_1\">\r\n   <path d=\"M 0 266.374219 \r\nL 392.025469 266.374219 \r\nL 392.025469 0 \r\nL 0 0 \r\nz\r\n\" style=\"fill:#ffffff;\"/>\r\n  </g>\r\n  <g id=\"axes_1\">\r\n   <g id=\"patch_2\">\r\n    <path d=\"M 50.025469 224.64 \r\nL 384.825469 224.64 \r\nL 384.825469 7.2 \r\nL 50.025469 7.2 \r\nz\r\n\" style=\"fill:#eaeaf2;\"/>\r\n   </g>\r\n   <g id=\"matplotlib.axis_1\">\r\n    <g id=\"xtick_1\">\r\n     <g id=\"line2d_1\">\r\n      <path clip-path=\"url(#p2ec7c3d7d1)\" d=\"M 65.386779 224.64 \r\nL 65.386779 7.2 \r\n\" style=\"fill:none;stroke:#ffffff;stroke-linecap:round;\"/>\r\n     </g>\r\n     <g id=\"text_1\">\r\n      <!-- −0.10 -->\r\n      <defs>\r\n       <path d=\"M 52.828125 31.203125 \r\nL 5.5625 31.203125 \r\nL 5.5625 39.40625 \r\nL 52.828125 39.40625 \r\nz\r\n\" id=\"ArialMT-8722\"/>\r\n       <path d=\"M 4.15625 35.296875 \r\nQ 4.15625 48 6.765625 55.734375 \r\nQ 9.375 63.484375 14.515625 67.671875 \r\nQ 19.671875 71.875 27.484375 71.875 \r\nQ 33.25 71.875 37.59375 69.546875 \r\nQ 41.9375 67.234375 44.765625 62.859375 \r\nQ 47.609375 58.5 49.21875 52.21875 \r\nQ 50.828125 45.953125 50.828125 35.296875 \r\nQ 50.828125 22.703125 48.234375 14.96875 \r\nQ 45.65625 7.234375 40.5 3 \r\nQ 35.359375 -1.21875 27.484375 -1.21875 \r\nQ 17.140625 -1.21875 11.234375 6.203125 \r\nQ 4.15625 15.140625 4.15625 35.296875 \r\nz\r\nM 13.1875 35.296875 \r\nQ 13.1875 17.671875 17.3125 11.828125 \r\nQ 21.4375 6 27.484375 6 \r\nQ 33.546875 6 37.671875 11.859375 \r\nQ 41.796875 17.71875 41.796875 35.296875 \r\nQ 41.796875 52.984375 37.671875 58.78125 \r\nQ 33.546875 64.59375 27.390625 64.59375 \r\nQ 21.34375 64.59375 17.71875 59.46875 \r\nQ 13.1875 52.9375 13.1875 35.296875 \r\nz\r\n\" id=\"ArialMT-48\"/>\r\n       <path d=\"M 9.078125 0 \r\nL 9.078125 10.015625 \r\nL 19.09375 10.015625 \r\nL 19.09375 0 \r\nz\r\n\" id=\"ArialMT-46\"/>\r\n       <path d=\"M 37.25 0 \r\nL 28.46875 0 \r\nL 28.46875 56 \r\nQ 25.296875 52.984375 20.140625 49.953125 \r\nQ 14.984375 46.921875 10.890625 45.40625 \r\nL 10.890625 53.90625 \r\nQ 18.265625 57.375 23.78125 62.296875 \r\nQ 29.296875 67.234375 31.59375 71.875 \r\nL 37.25 71.875 \r\nz\r\n\" id=\"ArialMT-49\"/>\r\n      </defs>\r\n      <g style=\"fill:#262626;\" transform=\"translate(51.470919 242.013594)scale(0.11 -0.11)\">\r\n       <use xlink:href=\"#ArialMT-8722\"/>\r\n       <use x=\"58.398438\" xlink:href=\"#ArialMT-48\"/>\r\n       <use x=\"114.013672\" xlink:href=\"#ArialMT-46\"/>\r\n       <use x=\"141.796875\" xlink:href=\"#ArialMT-49\"/>\r\n       <use x=\"197.412109\" xlink:href=\"#ArialMT-48\"/>\r\n      </g>\r\n     </g>\r\n    </g>\r\n    <g id=\"xtick_2\">\r\n     <g id=\"line2d_2\">\r\n      <path clip-path=\"url(#p2ec7c3d7d1)\" d=\"M 119.632079 224.64 \r\nL 119.632079 7.2 \r\n\" style=\"fill:none;stroke:#ffffff;stroke-linecap:round;\"/>\r\n     </g>\r\n     <g id=\"text_2\">\r\n      <!-- −0.05 -->\r\n      <defs>\r\n       <path d=\"M 4.15625 18.75 \r\nL 13.375 19.53125 \r\nQ 14.40625 12.796875 18.140625 9.390625 \r\nQ 21.875 6 27.15625 6 \r\nQ 33.5 6 37.890625 10.78125 \r\nQ 42.28125 15.578125 42.28125 23.484375 \r\nQ 42.28125 31 38.0625 35.34375 \r\nQ 33.84375 39.703125 27 39.703125 \r\nQ 22.75 39.703125 19.328125 37.765625 \r\nQ 15.921875 35.84375 13.96875 32.765625 \r\nL 5.71875 33.84375 \r\nL 12.640625 70.609375 \r\nL 48.25 70.609375 \r\nL 48.25 62.203125 \r\nL 19.671875 62.203125 \r\nL 15.828125 42.96875 \r\nQ 22.265625 47.46875 29.34375 47.46875 \r\nQ 38.71875 47.46875 45.15625 40.96875 \r\nQ 51.609375 34.46875 51.609375 24.265625 \r\nQ 51.609375 14.546875 45.953125 7.46875 \r\nQ 39.0625 -1.21875 27.15625 -1.21875 \r\nQ 17.390625 -1.21875 11.203125 4.25 \r\nQ 5.03125 9.71875 4.15625 18.75 \r\nz\r\n\" id=\"ArialMT-53\"/>\r\n      </defs>\r\n      <g style=\"fill:#262626;\" transform=\"translate(105.71622 242.013594)scale(0.11 -0.11)\">\r\n       <use xlink:href=\"#ArialMT-8722\"/>\r\n       <use x=\"58.398438\" xlink:href=\"#ArialMT-48\"/>\r\n       <use x=\"114.013672\" xlink:href=\"#ArialMT-46\"/>\r\n       <use x=\"141.796875\" xlink:href=\"#ArialMT-48\"/>\r\n       <use x=\"197.412109\" xlink:href=\"#ArialMT-53\"/>\r\n      </g>\r\n     </g>\r\n    </g>\r\n    <g id=\"xtick_3\">\r\n     <g id=\"line2d_3\">\r\n      <path clip-path=\"url(#p2ec7c3d7d1)\" d=\"M 173.87738 224.64 \r\nL 173.87738 7.2 \r\n\" style=\"fill:none;stroke:#ffffff;stroke-linecap:round;\"/>\r\n     </g>\r\n     <g id=\"text_3\">\r\n      <!-- 0.00 -->\r\n      <g style=\"fill:#262626;\" transform=\"translate(163.173864 242.013594)scale(0.11 -0.11)\">\r\n       <use xlink:href=\"#ArialMT-48\"/>\r\n       <use x=\"55.615234\" xlink:href=\"#ArialMT-46\"/>\r\n       <use x=\"83.398438\" xlink:href=\"#ArialMT-48\"/>\r\n       <use x=\"139.013672\" xlink:href=\"#ArialMT-48\"/>\r\n      </g>\r\n     </g>\r\n    </g>\r\n    <g id=\"xtick_4\">\r\n     <g id=\"line2d_4\">\r\n      <path clip-path=\"url(#p2ec7c3d7d1)\" d=\"M 228.12268 224.64 \r\nL 228.12268 7.2 \r\n\" style=\"fill:none;stroke:#ffffff;stroke-linecap:round;\"/>\r\n     </g>\r\n     <g id=\"text_4\">\r\n      <!-- 0.05 -->\r\n      <g style=\"fill:#262626;\" transform=\"translate(217.419164 242.013594)scale(0.11 -0.11)\">\r\n       <use xlink:href=\"#ArialMT-48\"/>\r\n       <use x=\"55.615234\" xlink:href=\"#ArialMT-46\"/>\r\n       <use x=\"83.398438\" xlink:href=\"#ArialMT-48\"/>\r\n       <use x=\"139.013672\" xlink:href=\"#ArialMT-53\"/>\r\n      </g>\r\n     </g>\r\n    </g>\r\n    <g id=\"xtick_5\">\r\n     <g id=\"line2d_5\">\r\n      <path clip-path=\"url(#p2ec7c3d7d1)\" d=\"M 282.36798 224.64 \r\nL 282.36798 7.2 \r\n\" style=\"fill:none;stroke:#ffffff;stroke-linecap:round;\"/>\r\n     </g>\r\n     <g id=\"text_5\">\r\n      <!-- 0.10 -->\r\n      <g style=\"fill:#262626;\" transform=\"translate(271.664465 242.013594)scale(0.11 -0.11)\">\r\n       <use xlink:href=\"#ArialMT-48\"/>\r\n       <use x=\"55.615234\" xlink:href=\"#ArialMT-46\"/>\r\n       <use x=\"83.398438\" xlink:href=\"#ArialMT-49\"/>\r\n       <use x=\"139.013672\" xlink:href=\"#ArialMT-48\"/>\r\n      </g>\r\n     </g>\r\n    </g>\r\n    <g id=\"xtick_6\">\r\n     <g id=\"line2d_6\">\r\n      <path clip-path=\"url(#p2ec7c3d7d1)\" d=\"M 336.613281 224.64 \r\nL 336.613281 7.2 \r\n\" style=\"fill:none;stroke:#ffffff;stroke-linecap:round;\"/>\r\n     </g>\r\n     <g id=\"text_6\">\r\n      <!-- 0.15 -->\r\n      <g style=\"fill:#262626;\" transform=\"translate(325.909765 242.013594)scale(0.11 -0.11)\">\r\n       <use xlink:href=\"#ArialMT-48\"/>\r\n       <use x=\"55.615234\" xlink:href=\"#ArialMT-46\"/>\r\n       <use x=\"83.398438\" xlink:href=\"#ArialMT-49\"/>\r\n       <use x=\"139.013672\" xlink:href=\"#ArialMT-53\"/>\r\n      </g>\r\n     </g>\r\n    </g>\r\n    <g id=\"text_7\">\r\n     <!-- bmi -->\r\n     <defs>\r\n      <path d=\"M 14.703125 0 \r\nL 6.546875 0 \r\nL 6.546875 71.578125 \r\nL 15.328125 71.578125 \r\nL 15.328125 46.046875 \r\nQ 20.90625 53.03125 29.546875 53.03125 \r\nQ 34.328125 53.03125 38.59375 51.09375 \r\nQ 42.875 49.171875 45.625 45.671875 \r\nQ 48.390625 42.1875 49.953125 37.25 \r\nQ 51.515625 32.328125 51.515625 26.703125 \r\nQ 51.515625 13.375 44.921875 6.09375 \r\nQ 38.328125 -1.171875 29.109375 -1.171875 \r\nQ 19.921875 -1.171875 14.703125 6.5 \r\nz\r\nM 14.59375 26.3125 \r\nQ 14.59375 17 17.140625 12.84375 \r\nQ 21.296875 6.0625 28.375 6.0625 \r\nQ 34.125 6.0625 38.328125 11.0625 \r\nQ 42.53125 16.0625 42.53125 25.984375 \r\nQ 42.53125 36.140625 38.5 40.96875 \r\nQ 34.46875 45.796875 28.765625 45.796875 \r\nQ 23 45.796875 18.796875 40.796875 \r\nQ 14.59375 35.796875 14.59375 26.3125 \r\nz\r\n\" id=\"ArialMT-98\"/>\r\n      <path d=\"M 6.59375 0 \r\nL 6.59375 51.859375 \r\nL 14.453125 51.859375 \r\nL 14.453125 44.578125 \r\nQ 16.890625 48.390625 20.9375 50.703125 \r\nQ 25 53.03125 30.171875 53.03125 \r\nQ 35.9375 53.03125 39.625 50.640625 \r\nQ 43.3125 48.25 44.828125 43.953125 \r\nQ 50.984375 53.03125 60.84375 53.03125 \r\nQ 68.5625 53.03125 72.703125 48.75 \r\nQ 76.859375 44.484375 76.859375 35.59375 \r\nL 76.859375 0 \r\nL 68.109375 0 \r\nL 68.109375 32.671875 \r\nQ 68.109375 37.9375 67.25 40.25 \r\nQ 66.40625 42.578125 64.15625 43.984375 \r\nQ 61.921875 45.40625 58.890625 45.40625 \r\nQ 53.421875 45.40625 49.796875 41.765625 \r\nQ 46.1875 38.140625 46.1875 30.125 \r\nL 46.1875 0 \r\nL 37.40625 0 \r\nL 37.40625 33.6875 \r\nQ 37.40625 39.546875 35.25 42.46875 \r\nQ 33.109375 45.40625 28.21875 45.40625 \r\nQ 24.515625 45.40625 21.359375 43.453125 \r\nQ 18.21875 41.5 16.796875 37.734375 \r\nQ 15.375 33.984375 15.375 26.90625 \r\nL 15.375 0 \r\nz\r\n\" id=\"ArialMT-109\"/>\r\n      <path d=\"M 6.640625 61.46875 \r\nL 6.640625 71.578125 \r\nL 15.4375 71.578125 \r\nL 15.4375 61.46875 \r\nz\r\nM 6.640625 0 \r\nL 6.640625 51.859375 \r\nL 15.4375 51.859375 \r\nL 15.4375 0 \r\nz\r\n\" id=\"ArialMT-105\"/>\r\n     </defs>\r\n     <g style=\"fill:#262626;\" transform=\"translate(207.757969 256.789219)scale(0.12 -0.12)\">\r\n      <use xlink:href=\"#ArialMT-98\"/>\r\n      <use x=\"55.615234\" xlink:href=\"#ArialMT-109\"/>\r\n      <use x=\"138.916016\" xlink:href=\"#ArialMT-105\"/>\r\n     </g>\r\n    </g>\r\n   </g>\r\n   <g id=\"matplotlib.axis_2\">\r\n    <g id=\"ytick_1\">\r\n     <g id=\"line2d_7\">\r\n      <path clip-path=\"url(#p2ec7c3d7d1)\" d=\"M 50.025469 199.353402 \r\nL 384.825469 199.353402 \r\n\" style=\"fill:none;stroke:#ffffff;stroke-linecap:round;\"/>\r\n     </g>\r\n     <g id=\"text_8\">\r\n      <!-- 50 -->\r\n      <g style=\"fill:#262626;\" transform=\"translate(28.291406 203.290199)scale(0.11 -0.11)\">\r\n       <use xlink:href=\"#ArialMT-53\"/>\r\n       <use x=\"55.615234\" xlink:href=\"#ArialMT-48\"/>\r\n      </g>\r\n     </g>\r\n    </g>\r\n    <g id=\"ytick_2\">\r\n     <g id=\"line2d_8\">\r\n      <path clip-path=\"url(#p2ec7c3d7d1)\" d=\"M 50.025469 168.566169 \r\nL 384.825469 168.566169 \r\n\" style=\"fill:none;stroke:#ffffff;stroke-linecap:round;\"/>\r\n     </g>\r\n     <g id=\"text_9\">\r\n      <!-- 100 -->\r\n      <g style=\"fill:#262626;\" transform=\"translate(22.174375 172.502966)scale(0.11 -0.11)\">\r\n       <use xlink:href=\"#ArialMT-49\"/>\r\n       <use x=\"55.615234\" xlink:href=\"#ArialMT-48\"/>\r\n       <use x=\"111.230469\" xlink:href=\"#ArialMT-48\"/>\r\n      </g>\r\n     </g>\r\n    </g>\r\n    <g id=\"ytick_3\">\r\n     <g id=\"line2d_9\">\r\n      <path clip-path=\"url(#p2ec7c3d7d1)\" d=\"M 50.025469 137.778936 \r\nL 384.825469 137.778936 \r\n\" style=\"fill:none;stroke:#ffffff;stroke-linecap:round;\"/>\r\n     </g>\r\n     <g id=\"text_10\">\r\n      <!-- 150 -->\r\n      <g style=\"fill:#262626;\" transform=\"translate(22.174375 141.715732)scale(0.11 -0.11)\">\r\n       <use xlink:href=\"#ArialMT-49\"/>\r\n       <use x=\"55.615234\" xlink:href=\"#ArialMT-53\"/>\r\n       <use x=\"111.230469\" xlink:href=\"#ArialMT-48\"/>\r\n      </g>\r\n     </g>\r\n    </g>\r\n    <g id=\"ytick_4\">\r\n     <g id=\"line2d_10\">\r\n      <path clip-path=\"url(#p2ec7c3d7d1)\" d=\"M 50.025469 106.991702 \r\nL 384.825469 106.991702 \r\n\" style=\"fill:none;stroke:#ffffff;stroke-linecap:round;\"/>\r\n     </g>\r\n     <g id=\"text_11\">\r\n      <!-- 200 -->\r\n      <defs>\r\n       <path d=\"M 50.34375 8.453125 \r\nL 50.34375 0 \r\nL 3.03125 0 \r\nQ 2.9375 3.171875 4.046875 6.109375 \r\nQ 5.859375 10.9375 9.828125 15.625 \r\nQ 13.8125 20.3125 21.34375 26.46875 \r\nQ 33.015625 36.03125 37.109375 41.625 \r\nQ 41.21875 47.21875 41.21875 52.203125 \r\nQ 41.21875 57.421875 37.46875 61 \r\nQ 33.734375 64.59375 27.734375 64.59375 \r\nQ 21.390625 64.59375 17.578125 60.78125 \r\nQ 13.765625 56.984375 13.71875 50.25 \r\nL 4.6875 51.171875 \r\nQ 5.609375 61.28125 11.65625 66.578125 \r\nQ 17.71875 71.875 27.9375 71.875 \r\nQ 38.234375 71.875 44.234375 66.15625 \r\nQ 50.25 60.453125 50.25 52 \r\nQ 50.25 47.703125 48.484375 43.546875 \r\nQ 46.734375 39.40625 42.65625 34.8125 \r\nQ 38.578125 30.21875 29.109375 22.21875 \r\nQ 21.1875 15.578125 18.9375 13.203125 \r\nQ 16.703125 10.84375 15.234375 8.453125 \r\nz\r\n\" id=\"ArialMT-50\"/>\r\n      </defs>\r\n      <g style=\"fill:#262626;\" transform=\"translate(22.174375 110.928499)scale(0.11 -0.11)\">\r\n       <use xlink:href=\"#ArialMT-50\"/>\r\n       <use x=\"55.615234\" xlink:href=\"#ArialMT-48\"/>\r\n       <use x=\"111.230469\" xlink:href=\"#ArialMT-48\"/>\r\n      </g>\r\n     </g>\r\n    </g>\r\n    <g id=\"ytick_5\">\r\n     <g id=\"line2d_11\">\r\n      <path clip-path=\"url(#p2ec7c3d7d1)\" d=\"M 50.025469 76.204469 \r\nL 384.825469 76.204469 \r\n\" style=\"fill:none;stroke:#ffffff;stroke-linecap:round;\"/>\r\n     </g>\r\n     <g id=\"text_12\">\r\n      <!-- 250 -->\r\n      <g style=\"fill:#262626;\" transform=\"translate(22.174375 80.141266)scale(0.11 -0.11)\">\r\n       <use xlink:href=\"#ArialMT-50\"/>\r\n       <use x=\"55.615234\" xlink:href=\"#ArialMT-53\"/>\r\n       <use x=\"111.230469\" xlink:href=\"#ArialMT-48\"/>\r\n      </g>\r\n     </g>\r\n    </g>\r\n    <g id=\"ytick_6\">\r\n     <g id=\"line2d_12\">\r\n      <path clip-path=\"url(#p2ec7c3d7d1)\" d=\"M 50.025469 45.417236 \r\nL 384.825469 45.417236 \r\n\" style=\"fill:none;stroke:#ffffff;stroke-linecap:round;\"/>\r\n     </g>\r\n     <g id=\"text_13\">\r\n      <!-- 300 -->\r\n      <defs>\r\n       <path d=\"M 4.203125 18.890625 \r\nL 12.984375 20.0625 \r\nQ 14.5 12.59375 18.140625 9.296875 \r\nQ 21.78125 6 27 6 \r\nQ 33.203125 6 37.46875 10.296875 \r\nQ 41.75 14.59375 41.75 20.953125 \r\nQ 41.75 27 37.796875 30.921875 \r\nQ 33.84375 34.859375 27.734375 34.859375 \r\nQ 25.25 34.859375 21.53125 33.890625 \r\nL 22.515625 41.609375 \r\nQ 23.390625 41.5 23.921875 41.5 \r\nQ 29.546875 41.5 34.03125 44.421875 \r\nQ 38.53125 47.359375 38.53125 53.46875 \r\nQ 38.53125 58.296875 35.25 61.46875 \r\nQ 31.984375 64.65625 26.8125 64.65625 \r\nQ 21.6875 64.65625 18.265625 61.421875 \r\nQ 14.84375 58.203125 13.875 51.765625 \r\nL 5.078125 53.328125 \r\nQ 6.6875 62.15625 12.390625 67.015625 \r\nQ 18.109375 71.875 26.609375 71.875 \r\nQ 32.46875 71.875 37.390625 69.359375 \r\nQ 42.328125 66.84375 44.9375 62.5 \r\nQ 47.5625 58.15625 47.5625 53.265625 \r\nQ 47.5625 48.640625 45.0625 44.828125 \r\nQ 42.578125 41.015625 37.703125 38.765625 \r\nQ 44.046875 37.3125 47.5625 32.6875 \r\nQ 51.078125 28.078125 51.078125 21.140625 \r\nQ 51.078125 11.765625 44.234375 5.25 \r\nQ 37.40625 -1.265625 26.953125 -1.265625 \r\nQ 17.53125 -1.265625 11.296875 4.34375 \r\nQ 5.078125 9.96875 4.203125 18.890625 \r\nz\r\n\" id=\"ArialMT-51\"/>\r\n      </defs>\r\n      <g style=\"fill:#262626;\" transform=\"translate(22.174375 49.354033)scale(0.11 -0.11)\">\r\n       <use xlink:href=\"#ArialMT-51\"/>\r\n       <use x=\"55.615234\" xlink:href=\"#ArialMT-48\"/>\r\n       <use x=\"111.230469\" xlink:href=\"#ArialMT-48\"/>\r\n      </g>\r\n     </g>\r\n    </g>\r\n    <g id=\"ytick_7\">\r\n     <g id=\"line2d_13\">\r\n      <path clip-path=\"url(#p2ec7c3d7d1)\" d=\"M 50.025469 14.630003 \r\nL 384.825469 14.630003 \r\n\" style=\"fill:none;stroke:#ffffff;stroke-linecap:round;\"/>\r\n     </g>\r\n     <g id=\"text_14\">\r\n      <!-- 350 -->\r\n      <g style=\"fill:#262626;\" transform=\"translate(22.174375 18.566799)scale(0.11 -0.11)\">\r\n       <use xlink:href=\"#ArialMT-51\"/>\r\n       <use x=\"55.615234\" xlink:href=\"#ArialMT-53\"/>\r\n       <use x=\"111.230469\" xlink:href=\"#ArialMT-48\"/>\r\n      </g>\r\n     </g>\r\n    </g>\r\n    <g id=\"text_15\">\r\n     <!-- target -->\r\n     <defs>\r\n      <path d=\"M 25.78125 7.859375 \r\nL 27.046875 0.09375 \r\nQ 23.34375 -0.6875 20.40625 -0.6875 \r\nQ 15.625 -0.6875 12.984375 0.828125 \r\nQ 10.359375 2.34375 9.28125 4.8125 \r\nQ 8.203125 7.28125 8.203125 15.1875 \r\nL 8.203125 45.015625 \r\nL 1.765625 45.015625 \r\nL 1.765625 51.859375 \r\nL 8.203125 51.859375 \r\nL 8.203125 64.703125 \r\nL 16.9375 69.96875 \r\nL 16.9375 51.859375 \r\nL 25.78125 51.859375 \r\nL 25.78125 45.015625 \r\nL 16.9375 45.015625 \r\nL 16.9375 14.703125 \r\nQ 16.9375 10.9375 17.40625 9.859375 \r\nQ 17.875 8.796875 18.921875 8.15625 \r\nQ 19.96875 7.515625 21.921875 7.515625 \r\nQ 23.390625 7.515625 25.78125 7.859375 \r\nz\r\n\" id=\"ArialMT-116\"/>\r\n      <path d=\"M 40.4375 6.390625 \r\nQ 35.546875 2.25 31.03125 0.53125 \r\nQ 26.515625 -1.171875 21.34375 -1.171875 \r\nQ 12.796875 -1.171875 8.203125 3 \r\nQ 3.609375 7.171875 3.609375 13.671875 \r\nQ 3.609375 17.484375 5.34375 20.625 \r\nQ 7.078125 23.78125 9.890625 25.6875 \r\nQ 12.703125 27.59375 16.21875 28.5625 \r\nQ 18.796875 29.25 24.03125 29.890625 \r\nQ 34.671875 31.15625 39.703125 32.90625 \r\nQ 39.75 34.71875 39.75 35.203125 \r\nQ 39.75 40.578125 37.25 42.78125 \r\nQ 33.890625 45.75 27.25 45.75 \r\nQ 21.046875 45.75 18.09375 43.578125 \r\nQ 15.140625 41.40625 13.71875 35.890625 \r\nL 5.125 37.0625 \r\nQ 6.296875 42.578125 8.984375 45.96875 \r\nQ 11.671875 49.359375 16.75 51.1875 \r\nQ 21.828125 53.03125 28.515625 53.03125 \r\nQ 35.15625 53.03125 39.296875 51.46875 \r\nQ 43.453125 49.90625 45.40625 47.53125 \r\nQ 47.359375 45.171875 48.140625 41.546875 \r\nQ 48.578125 39.3125 48.578125 33.453125 \r\nL 48.578125 21.734375 \r\nQ 48.578125 9.46875 49.140625 6.21875 \r\nQ 49.703125 2.984375 51.375 0 \r\nL 42.1875 0 \r\nQ 40.828125 2.734375 40.4375 6.390625 \r\nz\r\nM 39.703125 26.03125 \r\nQ 34.90625 24.078125 25.34375 22.703125 \r\nQ 19.921875 21.921875 17.671875 20.9375 \r\nQ 15.4375 19.96875 14.203125 18.09375 \r\nQ 12.984375 16.21875 12.984375 13.921875 \r\nQ 12.984375 10.40625 15.640625 8.0625 \r\nQ 18.3125 5.71875 23.4375 5.71875 \r\nQ 28.515625 5.71875 32.46875 7.9375 \r\nQ 36.421875 10.15625 38.28125 14.015625 \r\nQ 39.703125 17 39.703125 22.796875 \r\nz\r\n\" id=\"ArialMT-97\"/>\r\n      <path d=\"M 6.5 0 \r\nL 6.5 51.859375 \r\nL 14.40625 51.859375 \r\nL 14.40625 44 \r\nQ 17.4375 49.515625 20 51.265625 \r\nQ 22.5625 53.03125 25.640625 53.03125 \r\nQ 30.078125 53.03125 34.671875 50.203125 \r\nL 31.640625 42.046875 \r\nQ 28.421875 43.953125 25.203125 43.953125 \r\nQ 22.3125 43.953125 20.015625 42.21875 \r\nQ 17.71875 40.484375 16.75 37.40625 \r\nQ 15.28125 32.71875 15.28125 27.15625 \r\nL 15.28125 0 \r\nz\r\n\" id=\"ArialMT-114\"/>\r\n      <path d=\"M 4.984375 -4.296875 \r\nL 13.53125 -5.5625 \r\nQ 14.0625 -9.515625 16.5 -11.328125 \r\nQ 19.78125 -13.765625 25.4375 -13.765625 \r\nQ 31.546875 -13.765625 34.859375 -11.328125 \r\nQ 38.1875 -8.890625 39.359375 -4.5 \r\nQ 40.046875 -1.8125 39.984375 6.78125 \r\nQ 34.234375 0 25.640625 0 \r\nQ 14.9375 0 9.078125 7.71875 \r\nQ 3.21875 15.4375 3.21875 26.21875 \r\nQ 3.21875 33.640625 5.90625 39.90625 \r\nQ 8.59375 46.1875 13.6875 49.609375 \r\nQ 18.796875 53.03125 25.6875 53.03125 \r\nQ 34.859375 53.03125 40.828125 45.609375 \r\nL 40.828125 51.859375 \r\nL 48.921875 51.859375 \r\nL 48.921875 7.03125 \r\nQ 48.921875 -5.078125 46.453125 -10.125 \r\nQ 44 -15.1875 38.640625 -18.109375 \r\nQ 33.296875 -21.046875 25.484375 -21.046875 \r\nQ 16.21875 -21.046875 10.5 -16.875 \r\nQ 4.78125 -12.703125 4.984375 -4.296875 \r\nz\r\nM 12.25 26.859375 \r\nQ 12.25 16.65625 16.296875 11.96875 \r\nQ 20.359375 7.28125 26.46875 7.28125 \r\nQ 32.515625 7.28125 36.609375 11.9375 \r\nQ 40.71875 16.609375 40.71875 26.5625 \r\nQ 40.71875 36.078125 36.5 40.90625 \r\nQ 32.28125 45.75 26.3125 45.75 \r\nQ 20.453125 45.75 16.34375 40.984375 \r\nQ 12.25 36.234375 12.25 26.859375 \r\nz\r\n\" id=\"ArialMT-103\"/>\r\n      <path d=\"M 42.09375 16.703125 \r\nL 51.171875 15.578125 \r\nQ 49.03125 7.625 43.21875 3.21875 \r\nQ 37.40625 -1.171875 28.375 -1.171875 \r\nQ 17 -1.171875 10.328125 5.828125 \r\nQ 3.65625 12.84375 3.65625 25.484375 \r\nQ 3.65625 38.578125 10.390625 45.796875 \r\nQ 17.140625 53.03125 27.875 53.03125 \r\nQ 38.28125 53.03125 44.875 45.953125 \r\nQ 51.46875 38.875 51.46875 26.03125 \r\nQ 51.46875 25.25 51.421875 23.6875 \r\nL 12.75 23.6875 \r\nQ 13.234375 15.140625 17.578125 10.59375 \r\nQ 21.921875 6.0625 28.421875 6.0625 \r\nQ 33.25 6.0625 36.671875 8.59375 \r\nQ 40.09375 11.140625 42.09375 16.703125 \r\nz\r\nM 13.234375 30.90625 \r\nL 42.1875 30.90625 \r\nQ 41.609375 37.453125 38.875 40.71875 \r\nQ 34.671875 45.796875 27.984375 45.796875 \r\nQ 21.921875 45.796875 17.796875 41.75 \r\nQ 13.671875 37.703125 13.234375 30.90625 \r\nz\r\n\" id=\"ArialMT-101\"/>\r\n     </defs>\r\n     <g style=\"fill:#262626;\" transform=\"translate(15.64875 131.26125)rotate(-90)scale(0.12 -0.12)\">\r\n      <use xlink:href=\"#ArialMT-116\"/>\r\n      <use x=\"27.783203\" xlink:href=\"#ArialMT-97\"/>\r\n      <use x=\"83.398438\" xlink:href=\"#ArialMT-114\"/>\r\n      <use x=\"116.699219\" xlink:href=\"#ArialMT-103\"/>\r\n      <use x=\"172.314453\" xlink:href=\"#ArialMT-101\"/>\r\n      <use x=\"227.929688\" xlink:href=\"#ArialMT-116\"/>\r\n     </g>\r\n    </g>\r\n   </g>\r\n   <g id=\"PathCollection_1\">\r\n    <defs>\r\n     <path d=\"M 0 3 \r\nC 0.795609 3 1.55874 2.683901 2.12132 2.12132 \r\nC 2.683901 1.55874 3 0.795609 3 0 \r\nC 3 -0.795609 2.683901 -1.55874 2.12132 -2.12132 \r\nC 1.55874 -2.683901 0.795609 -3 0 -3 \r\nC -0.795609 -3 -1.55874 -2.683901 -2.12132 -2.12132 \r\nC -2.683901 -1.55874 -3 -0.795609 -3 0 \r\nC -3 0.795609 -2.683901 1.55874 -2.12132 2.12132 \r\nC -1.55874 2.683901 -0.795609 3 0 3 \r\nz\r\n\" id=\"m06e9063cd1\" style=\"stroke:#ffffff;stroke-width:0.75;\"/>\r\n    </defs>\r\n    <g clip-path=\"url(#p2ec7c3d7d1)\">\r\n     <use style=\"fill:#4c72b0;stroke:#ffffff;stroke-width:0.75;\" x=\"240.811965\" xlink:href=\"#m06e9063cd1\" y=\"137.163191\"/>\r\n     <use style=\"fill:#4c72b0;stroke:#ffffff;stroke-width:0.75;\" x=\"118.032861\" xlink:href=\"#m06e9063cd1\" y=\"183.959785\"/>\r\n     <use style=\"fill:#4c72b0;stroke:#ffffff;stroke-width:0.75;\" x=\"222.102768\" xlink:href=\"#m06e9063cd1\" y=\"143.320638\"/>\r\n     <use style=\"fill:#4c72b0;stroke:#ffffff;stroke-width:0.75;\" x=\"161.297879\" xlink:href=\"#m06e9063cd1\" y=\"103.297234\"/>\r\n     <use style=\"fill:#4c72b0;stroke:#ffffff;stroke-width:0.75;\" x=\"134.403408\" xlink:href=\"#m06e9063cd1\" y=\"147.015106\"/>\r\n     <use style=\"fill:#4c72b0;stroke:#ffffff;stroke-width:0.75;\" x=\"129.726109\" xlink:href=\"#m06e9063cd1\" y=\"170.413403\"/>\r\n     <use style=\"fill:#4c72b0;stroke:#ffffff;stroke-width:0.75;\" x=\"122.71016\" xlink:href=\"#m06e9063cd1\" y=\"145.167872\"/>\r\n     <use style=\"fill:#4c72b0;stroke:#ffffff;stroke-width:0.75;\" x=\"171.821802\" xlink:href=\"#m06e9063cd1\" y=\"191.348721\"/>\r\n     <use style=\"fill:#4c72b0;stroke:#ffffff;stroke-width:0.75;\" x=\"240.811965\" xlink:href=\"#m06e9063cd1\" y=\"162.408722\"/>\r\n     <use style=\"fill:#4c72b0;stroke:#ffffff;stroke-width:0.75;\" x=\"216.256144\" xlink:href=\"#m06e9063cd1\" y=\"39.259789\"/>\r\n     <use style=\"fill:#4c72b0;stroke:#ffffff;stroke-width:0.75;\" x=\"82.953117\" xlink:href=\"#m06e9063cd1\" y=\"167.950424\"/>\r\n     <use style=\"fill:#4c72b0;stroke:#ffffff;stroke-width:0.75;\" x=\"192.869648\" xlink:href=\"#m06e9063cd1\" y=\"187.654253\"/>\r\n     <use style=\"fill:#4c72b0;stroke:#ffffff;stroke-width:0.75;\" x=\"142.588682\" xlink:href=\"#m06e9063cd1\" y=\"119.92234\"/>\r\n     <use style=\"fill:#4c72b0;stroke:#ffffff;stroke-width:0.75;\" x=\"171.821802\" xlink:href=\"#m06e9063cd1\" y=\"116.227872\"/>\r\n     <use style=\"fill:#4c72b0;stroke:#ffffff;stroke-width:0.75;\" x=\"146.096656\" xlink:href=\"#m06e9063cd1\" y=\"157.482765\"/>\r\n     <use style=\"fill:#4c72b0;stroke:#ffffff;stroke-width:0.75;\" x=\"154.28193\" xlink:href=\"#m06e9063cd1\" y=\"124.848298\"/>\r\n     <use style=\"fill:#4c72b0;stroke:#ffffff;stroke-width:0.75;\" x=\"219.764118\" xlink:href=\"#m06e9063cd1\" y=\"127.927021\"/>\r\n     <use style=\"fill:#4c72b0;stroke:#ffffff;stroke-width:0.75;\" x=\"187.023024\" xlink:href=\"#m06e9063cd1\" y=\"141.473404\"/>\r\n     <use style=\"fill:#4c72b0;stroke:#ffffff;stroke-width:0.75;\" x=\"162.467203\" xlink:href=\"#m06e9063cd1\" y=\"170.413403\"/>\r\n     <use style=\"fill:#4c72b0;stroke:#ffffff;stroke-width:0.75;\" x=\"154.28193\" xlink:href=\"#m06e9063cd1\" y=\"126.695532\"/>\r\n     <use style=\"fill:#4c72b0;stroke:#ffffff;stroke-width:0.75;\" x=\"112.186237\" xlink:href=\"#m06e9063cd1\" y=\"188.269998\"/>\r\n     <use style=\"fill:#4c72b0;stroke:#ffffff;stroke-width:0.75;\" x=\"149.604631\" xlink:href=\"#m06e9063cd1\" y=\"199.969147\"/>\r\n     <use style=\"fill:#4c72b0;stroke:#ffffff;stroke-width:0.75;\" x=\"169.483152\" xlink:href=\"#m06e9063cd1\" y=\"188.269998\"/>\r\n     <use style=\"fill:#4c72b0;stroke:#ffffff;stroke-width:0.75;\" x=\"239.64264\" xlink:href=\"#m06e9063cd1\" y=\"79.283192\"/>\r\n     <use style=\"fill:#4c72b0;stroke:#ffffff;stroke-width:0.75;\" x=\"212.74817\" xlink:href=\"#m06e9063cd1\" y=\"116.843617\"/>\r\n     <use style=\"fill:#4c72b0;stroke:#ffffff;stroke-width:0.75;\" x=\"160.128554\" xlink:href=\"#m06e9063cd1\" y=\"105.760213\"/>\r\n     <use style=\"fill:#4c72b0;stroke:#ffffff;stroke-width:0.75;\" x=\"89.969066\" xlink:href=\"#m06e9063cd1\" y=\"145.783616\"/>\r\n     <use style=\"fill:#4c72b0;stroke:#ffffff;stroke-width:0.75;\" x=\"238.473315\" xlink:href=\"#m06e9063cd1\" y=\"177.802339\"/>\r\n     <use style=\"fill:#4c72b0;stroke:#ffffff;stroke-width:0.75;\" x=\"150.773955\" xlink:href=\"#m06e9063cd1\" y=\"149.478084\"/>\r\n     <use style=\"fill:#4c72b0;stroke:#ffffff;stroke-width:0.75;\" x=\"167.144503\" xlink:href=\"#m06e9063cd1\" y=\"55.884895\"/>\r\n     <use style=\"fill:#4c72b0;stroke:#ffffff;stroke-width:0.75;\" x=\"222.102768\" xlink:href=\"#m06e9063cd1\" y=\"150.709574\"/>\r\n     <use style=\"fill:#4c72b0;stroke:#ffffff;stroke-width:0.75;\" x=\"102.831639\" xlink:href=\"#m06e9063cd1\" y=\"193.8117\"/>\r\n     <use style=\"fill:#4c72b0;stroke:#ffffff;stroke-width:0.75;\" x=\"309.802128\" xlink:href=\"#m06e9063cd1\" y=\"20.171705\"/>\r\n     <use style=\"fill:#4c72b0;stroke:#ffffff;stroke-width:0.75;\" x=\"119.202186\" xlink:href=\"#m06e9063cd1\" y=\"176.570849\"/>\r\n     <use style=\"fill:#4c72b0;stroke:#ffffff;stroke-width:0.75;\" x=\"105.170288\" xlink:href=\"#m06e9063cd1\" y=\"190.117232\"/>\r\n     <use style=\"fill:#4c72b0;stroke:#ffffff;stroke-width:0.75;\" x=\"140.250032\" xlink:href=\"#m06e9063cd1\" y=\"167.33468\"/>\r\n     <use style=\"fill:#4c72b0;stroke:#ffffff;stroke-width:0.75;\" x=\"198.716272\" xlink:href=\"#m06e9063cd1\" y=\"66.968299\"/>\r\n     <use style=\"fill:#4c72b0;stroke:#ffffff;stroke-width:0.75;\" x=\"185.853699\" xlink:href=\"#m06e9063cd1\" y=\"60.195108\"/>\r\n     <use style=\"fill:#4c72b0;stroke:#ffffff;stroke-width:0.75;\" x=\"251.335888\" xlink:href=\"#m06e9063cd1\" y=\"74.97298\"/>\r\n     <use style=\"fill:#4c72b0;stroke:#ffffff;stroke-width:0.75;\" x=\"189.361674\" xlink:href=\"#m06e9063cd1\" y=\"174.723616\"/>\r\n     <use style=\"fill:#4c72b0;stroke:#ffffff;stroke-width:0.75;\" x=\"164.805853\" xlink:href=\"#m06e9063cd1\" y=\"168.566169\"/>\r\n     <use style=\"fill:#4c72b0;stroke:#ffffff;stroke-width:0.75;\" x=\"100.492989\" xlink:href=\"#m06e9063cd1\" y=\"196.274679\"/>\r\n     <use style=\"fill:#4c72b0;stroke:#ffffff;stroke-width:0.75;\" x=\"162.467203\" xlink:href=\"#m06e9063cd1\" y=\"192.580211\"/>\r\n     <use style=\"fill:#4c72b0;stroke:#ffffff;stroke-width:0.75;\" x=\"148.435306\" xlink:href=\"#m06e9063cd1\" y=\"173.492126\"/>\r\n     <use style=\"fill:#4c72b0;stroke:#ffffff;stroke-width:0.75;\" x=\"247.827913\" xlink:href=\"#m06e9063cd1\" y=\"70.662767\"/>\r\n     <use style=\"fill:#4c72b0;stroke:#ffffff;stroke-width:0.75;\" x=\"135.572733\" xlink:href=\"#m06e9063cd1\" y=\"197.506168\"/>\r\n     <use style=\"fill:#4c72b0;stroke:#ffffff;stroke-width:0.75;\" x=\"161.297879\" xlink:href=\"#m06e9063cd1\" y=\"113.149149\"/>\r\n     <use style=\"fill:#4c72b0;stroke:#ffffff;stroke-width:0.75;\" x=\"94.646365\" xlink:href=\"#m06e9063cd1\" y=\"142.704893\"/>\r\n     <use style=\"fill:#4c72b0;stroke:#ffffff;stroke-width:0.75;\" x=\"128.556784\" xlink:href=\"#m06e9063cd1\" y=\"183.959785\"/>\r\n     <use style=\"fill:#4c72b0;stroke:#ffffff;stroke-width:0.75;\" x=\"189.361674\" xlink:href=\"#m06e9063cd1\" y=\"142.704893\"/>\r\n     <use style=\"fill:#4c72b0;stroke:#ffffff;stroke-width:0.75;\" x=\"165.975178\" xlink:href=\"#m06e9063cd1\" y=\"134.700212\"/>\r\n     <use style=\"fill:#4c72b0;stroke:#ffffff;stroke-width:0.75;\" x=\"191.700323\" xlink:href=\"#m06e9063cd1\" y=\"91.598086\"/>\r\n     <use style=\"fill:#4c72b0;stroke:#ffffff;stroke-width:0.75;\" x=\"163.636528\" xlink:href=\"#m06e9063cd1\" y=\"193.8117\"/>\r\n     <use style=\"fill:#4c72b0;stroke:#ffffff;stroke-width:0.75;\" x=\"156.620579\" xlink:href=\"#m06e9063cd1\" y=\"166.10319\"/>\r\n     <use style=\"fill:#4c72b0;stroke:#ffffff;stroke-width:0.75;\" x=\"201.054922\" xlink:href=\"#m06e9063cd1\" y=\"118.075106\"/>\r\n     <use style=\"fill:#4c72b0;stroke:#ffffff;stroke-width:0.75;\" x=\"120.371511\" xlink:href=\"#m06e9063cd1\" y=\"151.325318\"/>\r\n     <use style=\"fill:#4c72b0;stroke:#ffffff;stroke-width:0.75;\" x=\"218.594794\" xlink:href=\"#m06e9063cd1\" y=\"198.121913\"/>\r\n     <use style=\"fill:#4c72b0;stroke:#ffffff;stroke-width:0.75;\" x=\"105.170288\" xlink:href=\"#m06e9063cd1\" y=\"207.358083\"/>\r\n     <use style=\"fill:#4c72b0;stroke:#ffffff;stroke-width:0.75;\" x=\"104.000964\" xlink:href=\"#m06e9063cd1\" y=\"125.464042\"/>\r\n     <use style=\"fill:#4c72b0;stroke:#ffffff;stroke-width:0.75;\" x=\"146.096656\" xlink:href=\"#m06e9063cd1\" y=\"125.464042\"/>\r\n     <use style=\"fill:#4c72b0;stroke:#ffffff;stroke-width:0.75;\" x=\"169.483152\" xlink:href=\"#m06e9063cd1\" y=\"192.580211\"/>\r\n     <use style=\"fill:#4c72b0;stroke:#ffffff;stroke-width:0.75;\" x=\"178.837751\" xlink:href=\"#m06e9063cd1\" y=\"141.473404\"/>\r\n     <use style=\"fill:#4c72b0;stroke:#ffffff;stroke-width:0.75;\" x=\"165.975178\" xlink:href=\"#m06e9063cd1\" y=\"198.121913\"/>\r\n     <use style=\"fill:#4c72b0;stroke:#ffffff;stroke-width:0.75;\" x=\"133.234084\" xlink:href=\"#m06e9063cd1\" y=\"151.325318\"/>\r\n     <use style=\"fill:#4c72b0;stroke:#ffffff;stroke-width:0.75;\" x=\"146.096656\" xlink:href=\"#m06e9063cd1\" y=\"186.422764\"/>\r\n     <use style=\"fill:#4c72b0;stroke:#ffffff;stroke-width:0.75;\" x=\"147.265981\" xlink:href=\"#m06e9063cd1\" y=\"129.774255\"/>\r\n     <use style=\"fill:#4c72b0;stroke:#ffffff;stroke-width:0.75;\" x=\"154.28193\" xlink:href=\"#m06e9063cd1\" y=\"137.778936\"/>\r\n     <use style=\"fill:#4c72b0;stroke:#ffffff;stroke-width:0.75;\" x=\"157.789904\" xlink:href=\"#m06e9063cd1\" y=\"170.413403\"/>\r\n     <use style=\"fill:#4c72b0;stroke:#ffffff;stroke-width:0.75;\" x=\"141.419357\" xlink:href=\"#m06e9063cd1\" y=\"131.621489\"/>\r\n     <use style=\"fill:#4c72b0;stroke:#ffffff;stroke-width:0.75;\" x=\"123.879485\" xlink:href=\"#m06e9063cd1\" y=\"120.538085\"/>\r\n     <use style=\"fill:#4c72b0;stroke:#ffffff;stroke-width:0.75;\" x=\"98.15434\" xlink:href=\"#m06e9063cd1\" y=\"200.584891\"/>\r\n     <use style=\"fill:#4c72b0;stroke:#ffffff;stroke-width:0.75;\" x=\"210.40952\" xlink:href=\"#m06e9063cd1\" y=\"63.889576\"/>\r\n     <use style=\"fill:#4c72b0;stroke:#ffffff;stroke-width:0.75;\" x=\"169.483152\" xlink:href=\"#m06e9063cd1\" y=\"105.760213\"/>\r\n     <use style=\"fill:#4c72b0;stroke:#ffffff;stroke-width:0.75;\" x=\"151.94328\" xlink:href=\"#m06e9063cd1\" y=\"161.792978\"/>\r\n     <use style=\"fill:#4c72b0;stroke:#ffffff;stroke-width:0.75;\" x=\"176.499101\" xlink:href=\"#m06e9063cd1\" y=\"177.802339\"/>\r\n     <use style=\"fill:#4c72b0;stroke:#ffffff;stroke-width:0.75;\" x=\"140.250032\" xlink:href=\"#m06e9063cd1\" y=\"204.279359\"/>\r\n     <use style=\"fill:#4c72b0;stroke:#ffffff;stroke-width:0.75;\" x=\"204.562896\" xlink:href=\"#m06e9063cd1\" y=\"125.464042\"/>\r\n     <use style=\"fill:#4c72b0;stroke:#ffffff;stroke-width:0.75;\" x=\"134.403408\" xlink:href=\"#m06e9063cd1\" y=\"106.991702\"/>\r\n     <use style=\"fill:#4c72b0;stroke:#ffffff;stroke-width:0.75;\" x=\"111.016912\" xlink:href=\"#m06e9063cd1\" y=\"74.97298\"/>\r\n     <use style=\"fill:#4c72b0;stroke:#ffffff;stroke-width:0.75;\" x=\"133.234084\" xlink:href=\"#m06e9063cd1\" y=\"160.561488\"/>\r\n     <use style=\"fill:#4c72b0;stroke:#ffffff;stroke-width:0.75;\" x=\"187.023024\" xlink:href=\"#m06e9063cd1\" y=\"142.089148\"/>\r\n     <use style=\"fill:#4c72b0;stroke:#ffffff;stroke-width:0.75;\" x=\"149.604631\" xlink:href=\"#m06e9063cd1\" y=\"198.737657\"/>\r\n     <use style=\"fill:#4c72b0;stroke:#ffffff;stroke-width:0.75;\" x=\"135.572733\" xlink:href=\"#m06e9063cd1\" y=\"198.121913\"/>\r\n     <use style=\"fill:#4c72b0;stroke:#ffffff;stroke-width:0.75;\" x=\"184.684374\" xlink:href=\"#m06e9063cd1\" y=\"100.834256\"/>\r\n     <use style=\"fill:#4c72b0;stroke:#ffffff;stroke-width:0.75;\" x=\"130.895434\" xlink:href=\"#m06e9063cd1\" y=\"190.117232\"/>\r\n     <use style=\"fill:#4c72b0;stroke:#ffffff;stroke-width:0.75;\" x=\"251.335888\" xlink:href=\"#m06e9063cd1\" y=\"143.320638\"/>\r\n     <use style=\"fill:#4c72b0;stroke:#ffffff;stroke-width:0.75;\" x=\"92.307716\" xlink:href=\"#m06e9063cd1\" y=\"196.274679\"/>\r\n     <use style=\"fill:#4c72b0;stroke:#ffffff;stroke-width:0.75;\" x=\"167.144503\" xlink:href=\"#m06e9063cd1\" y=\"147.63085\"/>\r\n     <use style=\"fill:#4c72b0;stroke:#ffffff;stroke-width:0.75;\" x=\"129.726109\" xlink:href=\"#m06e9063cd1\" y=\"204.279359\"/>\r\n     <use style=\"fill:#4c72b0;stroke:#ffffff;stroke-width:0.75;\" x=\"121.540836\" xlink:href=\"#m06e9063cd1\" y=\"161.792978\"/>\r\n     <use style=\"fill:#4c72b0;stroke:#ffffff;stroke-width:0.75;\" x=\"146.096656\" xlink:href=\"#m06e9063cd1\" y=\"169.797658\"/>\r\n     <use style=\"fill:#4c72b0;stroke:#ffffff;stroke-width:0.75;\" x=\"230.288041\" xlink:href=\"#m06e9063cd1\" y=\"129.15851\"/>\r\n     <use style=\"fill:#4c72b0;stroke:#ffffff;stroke-width:0.75;\" x=\"178.837751\" xlink:href=\"#m06e9063cd1\" y=\"200.584891\"/>\r\n     <use style=\"fill:#4c72b0;stroke:#ffffff;stroke-width:0.75;\" x=\"104.000964\" xlink:href=\"#m06e9063cd1\" y=\"171.029148\"/>\r\n     <use style=\"fill:#4c72b0;stroke:#ffffff;stroke-width:0.75;\" x=\"155.451255\" xlink:href=\"#m06e9063cd1\" y=\"174.723616\"/>\r\n     <use style=\"fill:#4c72b0;stroke:#ffffff;stroke-width:0.75;\" x=\"111.016912\" xlink:href=\"#m06e9063cd1\" y=\"130.39\"/>\r\n     <use style=\"fill:#4c72b0;stroke:#ffffff;stroke-width:0.75;\" x=\"184.684374\" xlink:href=\"#m06e9063cd1\" y=\"137.778936\"/>\r\n     <use style=\"fill:#4c72b0;stroke:#ffffff;stroke-width:0.75;\" x=\"270.045085\" xlink:href=\"#m06e9063cd1\" y=\"58.347874\"/>\r\n     <use style=\"fill:#4c72b0;stroke:#ffffff;stroke-width:0.75;\" x=\"168.313827\" xlink:href=\"#m06e9063cd1\" y=\"173.492126\"/>\r\n     <use style=\"fill:#4c72b0;stroke:#ffffff;stroke-width:0.75;\" x=\"104.000964\" xlink:href=\"#m06e9063cd1\" y=\"179.033828\"/>\r\n     <use style=\"fill:#4c72b0;stroke:#ffffff;stroke-width:0.75;\" x=\"192.869648\" xlink:href=\"#m06e9063cd1\" y=\"151.325318\"/>\r\n     <use style=\"fill:#4c72b0;stroke:#ffffff;stroke-width:0.75;\" x=\"125.04881\" xlink:href=\"#m06e9063cd1\" y=\"167.33468\"/>\r\n     <use style=\"fill:#4c72b0;stroke:#ffffff;stroke-width:0.75;\" x=\"204.562896\" xlink:href=\"#m06e9063cd1\" y=\"44.185747\"/>\r\n     <use style=\"fill:#4c72b0;stroke:#ffffff;stroke-width:0.75;\" x=\"218.594794\" xlink:href=\"#m06e9063cd1\" y=\"108.223192\"/>\r\n     <use style=\"fill:#4c72b0;stroke:#ffffff;stroke-width:0.75;\" x=\"244.319939\" xlink:href=\"#m06e9063cd1\" y=\"171.644892\"/>\r\n     <use style=\"fill:#4c72b0;stroke:#ffffff;stroke-width:0.75;\" x=\"139.080707\" xlink:href=\"#m06e9063cd1\" y=\"197.506168\"/>\r\n     <use style=\"fill:#4c72b0;stroke:#ffffff;stroke-width:0.75;\" x=\"91.138391\" xlink:href=\"#m06e9063cd1\" y=\"147.63085\"/>\r\n     <use style=\"fill:#4c72b0;stroke:#ffffff;stroke-width:0.75;\" x=\"227.949392\" xlink:href=\"#m06e9063cd1\" y=\"141.473404\"/>\r\n     <use style=\"fill:#4c72b0;stroke:#ffffff;stroke-width:0.75;\" x=\"223.272093\" xlink:href=\"#m06e9063cd1\" y=\"87.287873\"/>\r\n     <use style=\"fill:#4c72b0;stroke:#ffffff;stroke-width:0.75;\" x=\"163.636528\" xlink:href=\"#m06e9063cd1\" y=\"180.265317\"/>\r\n     <use style=\"fill:#4c72b0;stroke:#ffffff;stroke-width:0.75;\" x=\"139.080707\" xlink:href=\"#m06e9063cd1\" y=\"166.10319\"/>\r\n     <use style=\"fill:#4c72b0;stroke:#ffffff;stroke-width:0.75;\" x=\"178.837751\" xlink:href=\"#m06e9063cd1\" y=\"193.8117\"/>\r\n     <use style=\"fill:#4c72b0;stroke:#ffffff;stroke-width:0.75;\" x=\"196.377622\" xlink:href=\"#m06e9063cd1\" y=\"78.667448\"/>\r\n     <use style=\"fill:#4c72b0;stroke:#ffffff;stroke-width:0.75;\" x=\"189.361674\" xlink:href=\"#m06e9063cd1\" y=\"47.26447\"/>\r\n     <use style=\"fill:#4c72b0;stroke:#ffffff;stroke-width:0.75;\" x=\"293.43158\" xlink:href=\"#m06e9063cd1\" y=\"71.278512\"/>\r\n     <use style=\"fill:#4c72b0;stroke:#ffffff;stroke-width:0.75;\" x=\"175.329776\" xlink:href=\"#m06e9063cd1\" y=\"89.135107\"/>\r\n     <use style=\"fill:#4c72b0;stroke:#ffffff;stroke-width:0.75;\" x=\"237.30399\" xlink:href=\"#m06e9063cd1\" y=\"60.810852\"/>\r\n     <use style=\"fill:#4c72b0;stroke:#ffffff;stroke-width:0.75;\" x=\"150.773955\" xlink:href=\"#m06e9063cd1\" y=\"57.116384\"/>\r\n     <use style=\"fill:#4c72b0;stroke:#ffffff;stroke-width:0.75;\" x=\"162.467203\" xlink:href=\"#m06e9063cd1\" y=\"119.92234\"/>\r\n     <use style=\"fill:#4c72b0;stroke:#ffffff;stroke-width:0.75;\" x=\"122.71016\" xlink:href=\"#m06e9063cd1\" y=\"106.991702\"/>\r\n     <use style=\"fill:#4c72b0;stroke:#ffffff;stroke-width:0.75;\" x=\"178.837751\" xlink:href=\"#m06e9063cd1\" y=\"106.991702\"/>\r\n     <use style=\"fill:#4c72b0;stroke:#ffffff;stroke-width:0.75;\" x=\"192.869648\" xlink:href=\"#m06e9063cd1\" y=\"123.616808\"/>\r\n     <use style=\"fill:#4c72b0;stroke:#ffffff;stroke-width:0.75;\" x=\"261.859811\" xlink:href=\"#m06e9063cd1\" y=\"119.306596\"/>\r\n     <use style=\"fill:#4c72b0;stroke:#ffffff;stroke-width:0.75;\" x=\"211.578845\" xlink:href=\"#m06e9063cd1\" y=\"178.418083\"/>\r\n     <use style=\"fill:#4c72b0;stroke:#ffffff;stroke-width:0.75;\" x=\"199.885597\" xlink:href=\"#m06e9063cd1\" y=\"155.635531\"/>\r\n     <use style=\"fill:#4c72b0;stroke:#ffffff;stroke-width:0.75;\" x=\"164.805853\" xlink:href=\"#m06e9063cd1\" y=\"131.005744\"/>\r\n     <use style=\"fill:#4c72b0;stroke:#ffffff;stroke-width:0.75;\" x=\"107.508938\" xlink:href=\"#m06e9063cd1\" y=\"169.181914\"/>\r\n     <use style=\"fill:#4c72b0;stroke:#ffffff;stroke-width:0.75;\" x=\"171.821802\" xlink:href=\"#m06e9063cd1\" y=\"163.024467\"/>\r\n     <use style=\"fill:#4c72b0;stroke:#ffffff;stroke-width:0.75;\" x=\"106.339613\" xlink:href=\"#m06e9063cd1\" y=\"159.329999\"/>\r\n     <use style=\"fill:#4c72b0;stroke:#ffffff;stroke-width:0.75;\" x=\"191.700323\" xlink:href=\"#m06e9063cd1\" y=\"65.121065\"/>\r\n     <use style=\"fill:#4c72b0;stroke:#ffffff;stroke-width:0.75;\" x=\"278.230358\" xlink:href=\"#m06e9063cd1\" y=\"61.426597\"/>\r\n     <use style=\"fill:#4c72b0;stroke:#ffffff;stroke-width:0.75;\" x=\"98.15434\" xlink:href=\"#m06e9063cd1\" y=\"132.852978\"/>\r\n     <use style=\"fill:#4c72b0;stroke:#ffffff;stroke-width:0.75;\" x=\"150.773955\" xlink:href=\"#m06e9063cd1\" y=\"164.255956\"/>\r\n     <use style=\"fill:#4c72b0;stroke:#ffffff;stroke-width:0.75;\" x=\"115.694212\" xlink:href=\"#m06e9063cd1\" y=\"179.033828\"/>\r\n     <use style=\"fill:#4c72b0;stroke:#ffffff;stroke-width:0.75;\" x=\"220.933443\" xlink:href=\"#m06e9063cd1\" y=\"166.718935\"/>\r\n     <use style=\"fill:#4c72b0;stroke:#ffffff;stroke-width:0.75;\" x=\"234.965341\" xlink:href=\"#m06e9063cd1\" y=\"62.658086\"/>\r\n     <use style=\"fill:#4c72b0;stroke:#ffffff;stroke-width:0.75;\" x=\"85.291767\" xlink:href=\"#m06e9063cd1\" y=\"177.802339\"/>\r\n     <use style=\"fill:#4c72b0;stroke:#ffffff;stroke-width:0.75;\" x=\"227.949392\" xlink:href=\"#m06e9063cd1\" y=\"57.732129\"/>\r\n     <use style=\"fill:#4c72b0;stroke:#ffffff;stroke-width:0.75;\" x=\"294.600905\" xlink:href=\"#m06e9063cd1\" y=\"23.250428\"/>\r\n     <use style=\"fill:#4c72b0;stroke:#ffffff;stroke-width:0.75;\" x=\"240.811965\" xlink:href=\"#m06e9063cd1\" y=\"57.116384\"/>\r\n     <use style=\"fill:#4c72b0;stroke:#ffffff;stroke-width:0.75;\" x=\"189.361674\" xlink:href=\"#m06e9063cd1\" y=\"157.482765\"/>\r\n     <use style=\"fill:#4c72b0;stroke:#ffffff;stroke-width:0.75;\" x=\"225.610742\" xlink:href=\"#m06e9063cd1\" y=\"34.949577\"/>\r\n     <use style=\"fill:#4c72b0;stroke:#ffffff;stroke-width:0.75;\" x=\"187.023024\" xlink:href=\"#m06e9063cd1\" y=\"85.440639\"/>\r\n     <use style=\"fill:#4c72b0;stroke:#ffffff;stroke-width:0.75;\" x=\"180.007075\" xlink:href=\"#m06e9063cd1\" y=\"193.195955\"/>\r\n     <use style=\"fill:#4c72b0;stroke:#ffffff;stroke-width:0.75;\" x=\"224.441418\" xlink:href=\"#m06e9063cd1\" y=\"123.001064\"/>\r\n     <use style=\"fill:#4c72b0;stroke:#ffffff;stroke-width:0.75;\" x=\"313.310102\" xlink:href=\"#m06e9063cd1\" y=\"70.662767\"/>\r\n     <use style=\"fill:#4c72b0;stroke:#ffffff;stroke-width:0.75;\" x=\"238.473315\" xlink:href=\"#m06e9063cd1\" y=\"120.538085\"/>\r\n     <use style=\"fill:#4c72b0;stroke:#ffffff;stroke-width:0.75;\" x=\"274.722384\" xlink:href=\"#m06e9063cd1\" y=\"151.325318\"/>\r\n     <use style=\"fill:#4c72b0;stroke:#ffffff;stroke-width:0.75;\" x=\"190.530998\" xlink:href=\"#m06e9063cd1\" y=\"171.029148\"/>\r\n     <use style=\"fill:#4c72b0;stroke:#ffffff;stroke-width:0.75;\" x=\"168.313827\" xlink:href=\"#m06e9063cd1\" y=\"152.556808\"/>\r\n     <use style=\"fill:#4c72b0;stroke:#ffffff;stroke-width:0.75;\" x=\"250.166563\" xlink:href=\"#m06e9063cd1\" y=\"52.806172\"/>\r\n     <use style=\"fill:#4c72b0;stroke:#ffffff;stroke-width:0.75;\" x=\"169.483152\" xlink:href=\"#m06e9063cd1\" y=\"175.955105\"/>\r\n     <use style=\"fill:#4c72b0;stroke:#ffffff;stroke-width:0.75;\" x=\"172.991127\" xlink:href=\"#m06e9063cd1\" y=\"50.343193\"/>\r\n     <use style=\"fill:#4c72b0;stroke:#ffffff;stroke-width:0.75;\" x=\"126.218135\" xlink:href=\"#m06e9063cd1\" y=\"186.422764\"/>\r\n     <use style=\"fill:#4c72b0;stroke:#ffffff;stroke-width:0.75;\" x=\"196.377622\" xlink:href=\"#m06e9063cd1\" y=\"108.838936\"/>\r\n     <use style=\"fill:#4c72b0;stroke:#ffffff;stroke-width:0.75;\" x=\"239.64264\" xlink:href=\"#m06e9063cd1\" y=\"115.612128\"/>\r\n     <use style=\"fill:#4c72b0;stroke:#ffffff;stroke-width:0.75;\" x=\"162.467203\" xlink:href=\"#m06e9063cd1\" y=\"214.747019\"/>\r\n     <use style=\"fill:#4c72b0;stroke:#ffffff;stroke-width:0.75;\" x=\"137.911383\" xlink:href=\"#m06e9063cd1\" y=\"178.418083\"/>\r\n     <use style=\"fill:#4c72b0;stroke:#ffffff;stroke-width:0.75;\" x=\"102.831639\" xlink:href=\"#m06e9063cd1\" y=\"171.029148\"/>\r\n     <use style=\"fill:#4c72b0;stroke:#ffffff;stroke-width:0.75;\" x=\"220.933443\" xlink:href=\"#m06e9063cd1\" y=\"110.070426\"/>\r\n     <use style=\"fill:#4c72b0;stroke:#ffffff;stroke-width:0.75;\" x=\"106.339613\" xlink:href=\"#m06e9063cd1\" y=\"197.506168\"/>\r\n     <use style=\"fill:#4c72b0;stroke:#ffffff;stroke-width:0.75;\" x=\"243.150614\" xlink:href=\"#m06e9063cd1\" y=\"96.524043\"/>\r\n     <use style=\"fill:#4c72b0;stroke:#ffffff;stroke-width:0.75;\" x=\"206.901546\" xlink:href=\"#m06e9063cd1\" y=\"124.232553\"/>\r\n     <use style=\"fill:#4c72b0;stroke:#ffffff;stroke-width:0.75;\" x=\"252.505213\" xlink:href=\"#m06e9063cd1\" y=\"149.478084\"/>\r\n     <use style=\"fill:#4c72b0;stroke:#ffffff;stroke-width:0.75;\" x=\"153.112605\" xlink:href=\"#m06e9063cd1\" y=\"98.371277\"/>\r\n     <use style=\"fill:#4c72b0;stroke:#ffffff;stroke-width:0.75;\" x=\"101.662314\" xlink:href=\"#m06e9063cd1\" y=\"193.8117\"/>\r\n     <use style=\"fill:#4c72b0;stroke:#ffffff;stroke-width:0.75;\" x=\"108.678263\" xlink:href=\"#m06e9063cd1\" y=\"187.038509\"/>\r\n     <use style=\"fill:#4c72b0;stroke:#ffffff;stroke-width:0.75;\" x=\"248.997238\" xlink:href=\"#m06e9063cd1\" y=\"94.676809\"/>\r\n     <use style=\"fill:#4c72b0;stroke:#ffffff;stroke-width:0.75;\" x=\"238.473315\" xlink:href=\"#m06e9063cd1\" y=\"65.121065\"/>\r\n     <use style=\"fill:#4c72b0;stroke:#ffffff;stroke-width:0.75;\" x=\"144.927331\" xlink:href=\"#m06e9063cd1\" y=\"136.547446\"/>\r\n     <use style=\"fill:#4c72b0;stroke:#ffffff;stroke-width:0.75;\" x=\"151.94328\" xlink:href=\"#m06e9063cd1\" y=\"201.200636\"/>\r\n     <use style=\"fill:#4c72b0;stroke:#ffffff;stroke-width:0.75;\" x=\"123.879485\" xlink:href=\"#m06e9063cd1\" y=\"184.57553\"/>\r\n     <use style=\"fill:#4c72b0;stroke:#ffffff;stroke-width:0.75;\" x=\"251.335888\" xlink:href=\"#m06e9063cd1\" y=\"48.495959\"/>\r\n     <use style=\"fill:#4c72b0;stroke:#ffffff;stroke-width:0.75;\" x=\"87.630417\" xlink:href=\"#m06e9063cd1\" y=\"167.950424\"/>\r\n     <use style=\"fill:#4c72b0;stroke:#ffffff;stroke-width:0.75;\" x=\"184.684374\" xlink:href=\"#m06e9063cd1\" y=\"137.163191\"/>\r\n     <use style=\"fill:#4c72b0;stroke:#ffffff;stroke-width:0.75;\" x=\"132.064759\" xlink:href=\"#m06e9063cd1\" y=\"151.941063\"/>\r\n     <use style=\"fill:#4c72b0;stroke:#ffffff;stroke-width:0.75;\" x=\"195.208298\" xlink:href=\"#m06e9063cd1\" y=\"84.20915\"/>\r\n     <use style=\"fill:#4c72b0;stroke:#ffffff;stroke-width:0.75;\" x=\"203.393571\" xlink:href=\"#m06e9063cd1\" y=\"91.598086\"/>\r\n     <use style=\"fill:#4c72b0;stroke:#ffffff;stroke-width:0.75;\" x=\"164.805853\" xlink:href=\"#m06e9063cd1\" y=\"180.265317\"/>\r\n     <use style=\"fill:#4c72b0;stroke:#ffffff;stroke-width:0.75;\" x=\"156.620579\" xlink:href=\"#m06e9063cd1\" y=\"137.163191\"/>\r\n     <use style=\"fill:#4c72b0;stroke:#ffffff;stroke-width:0.75;\" x=\"178.837751\" xlink:href=\"#m06e9063cd1\" y=\"164.255956\"/>\r\n     <use style=\"fill:#4c72b0;stroke:#ffffff;stroke-width:0.75;\" x=\"127.38746\" xlink:href=\"#m06e9063cd1\" y=\"190.732977\"/>\r\n     <use style=\"fill:#4c72b0;stroke:#ffffff;stroke-width:0.75;\" x=\"180.007075\" xlink:href=\"#m06e9063cd1\" y=\"145.167872\"/>\r\n     <use style=\"fill:#4c72b0;stroke:#ffffff;stroke-width:0.75;\" x=\"135.572733\" xlink:href=\"#m06e9063cd1\" y=\"116.227872\"/>\r\n     <use style=\"fill:#4c72b0;stroke:#ffffff;stroke-width:0.75;\" x=\"199.885597\" xlink:href=\"#m06e9063cd1\" y=\"66.968299\"/>\r\n     <use style=\"fill:#4c72b0;stroke:#ffffff;stroke-width:0.75;\" x=\"154.28193\" xlink:href=\"#m06e9063cd1\" y=\"167.950424\"/>\r\n     <use style=\"fill:#4c72b0;stroke:#ffffff;stroke-width:0.75;\" x=\"219.764118\" xlink:href=\"#m06e9063cd1\" y=\"145.783616\"/>\r\n     <use style=\"fill:#4c72b0;stroke:#ffffff;stroke-width:0.75;\" x=\"114.524887\" xlink:href=\"#m06e9063cd1\" y=\"142.089148\"/>\r\n     <use style=\"fill:#4c72b0;stroke:#ffffff;stroke-width:0.75;\" x=\"170.652477\" xlink:href=\"#m06e9063cd1\" y=\"143.320638\"/>\r\n     <use style=\"fill:#4c72b0;stroke:#ffffff;stroke-width:0.75;\" x=\"101.662314\" xlink:href=\"#m06e9063cd1\" y=\"181.496807\"/>\r\n     <use style=\"fill:#4c72b0;stroke:#ffffff;stroke-width:0.75;\" x=\"160.128554\" xlink:href=\"#m06e9063cd1\" y=\"50.343193\"/>\r\n     <use style=\"fill:#4c72b0;stroke:#ffffff;stroke-width:0.75;\" x=\"128.556784\" xlink:href=\"#m06e9063cd1\" y=\"120.538085\"/>\r\n     <use style=\"fill:#4c72b0;stroke:#ffffff;stroke-width:0.75;\" x=\"140.250032\" xlink:href=\"#m06e9063cd1\" y=\"174.107871\"/>\r\n     <use style=\"fill:#4c72b0;stroke:#ffffff;stroke-width:0.75;\" x=\"168.313827\" xlink:href=\"#m06e9063cd1\" y=\"158.714254\"/>\r\n     <use style=\"fill:#4c72b0;stroke:#ffffff;stroke-width:0.75;\" x=\"109.847588\" xlink:href=\"#m06e9063cd1\" y=\"177.186594\"/>\r\n     <use style=\"fill:#4c72b0;stroke:#ffffff;stroke-width:0.75;\" x=\"201.054922\" xlink:href=\"#m06e9063cd1\" y=\"155.019786\"/>\r\n     <use style=\"fill:#4c72b0;stroke:#ffffff;stroke-width:0.75;\" x=\"123.879485\" xlink:href=\"#m06e9063cd1\" y=\"185.807019\"/>\r\n     <use style=\"fill:#4c72b0;stroke:#ffffff;stroke-width:0.75;\" x=\"177.668426\" xlink:href=\"#m06e9063cd1\" y=\"150.709574\"/>\r\n     <use style=\"fill:#4c72b0;stroke:#ffffff;stroke-width:0.75;\" x=\"232.626691\" xlink:href=\"#m06e9063cd1\" y=\"142.704893\"/>\r\n     <use style=\"fill:#4c72b0;stroke:#ffffff;stroke-width:0.75;\" x=\"125.04881\" xlink:href=\"#m06e9063cd1\" y=\"174.723616\"/>\r\n     <use style=\"fill:#4c72b0;stroke:#ffffff;stroke-width:0.75;\" x=\"111.016912\" xlink:href=\"#m06e9063cd1\" y=\"132.852978\"/>\r\n     <use style=\"fill:#4c72b0;stroke:#ffffff;stroke-width:0.75;\" x=\"113.355562\" xlink:href=\"#m06e9063cd1\" y=\"206.126593\"/>\r\n     <use style=\"fill:#4c72b0;stroke:#ffffff;stroke-width:0.75;\" x=\"175.329776\" xlink:href=\"#m06e9063cd1\" y=\"109.454681\"/>\r\n     <use style=\"fill:#4c72b0;stroke:#ffffff;stroke-width:0.75;\" x=\"206.901546\" xlink:href=\"#m06e9063cd1\" y=\"93.44532\"/>\r\n     <use style=\"fill:#4c72b0;stroke:#ffffff;stroke-width:0.75;\" x=\"181.1764\" xlink:href=\"#m06e9063cd1\" y=\"59.579363\"/>\r\n     <use style=\"fill:#4c72b0;stroke:#ffffff;stroke-width:0.75;\" x=\"224.441418\" xlink:href=\"#m06e9063cd1\" y=\"169.181914\"/>\r\n     <use style=\"fill:#4c72b0;stroke:#ffffff;stroke-width:0.75;\" x=\"202.224246\" xlink:href=\"#m06e9063cd1\" y=\"109.454681\"/>\r\n     <use style=\"fill:#4c72b0;stroke:#ffffff;stroke-width:0.75;\" x=\"223.272093\" xlink:href=\"#m06e9063cd1\" y=\"105.760213\"/>\r\n     <use style=\"fill:#4c72b0;stroke:#ffffff;stroke-width:0.75;\" x=\"217.425469\" xlink:href=\"#m06e9063cd1\" y=\"134.700212\"/>\r\n     <use style=\"fill:#4c72b0;stroke:#ffffff;stroke-width:0.75;\" x=\"154.28193\" xlink:href=\"#m06e9063cd1\" y=\"182.728296\"/>\r\n     <use style=\"fill:#4c72b0;stroke:#ffffff;stroke-width:0.75;\" x=\"189.361674\" xlink:href=\"#m06e9063cd1\" y=\"112.533404\"/>\r\n     <use style=\"fill:#4c72b0;stroke:#ffffff;stroke-width:0.75;\" x=\"213.917494\" xlink:href=\"#m06e9063cd1\" y=\"187.038509\"/>\r\n     <use style=\"fill:#4c72b0;stroke:#ffffff;stroke-width:0.75;\" x=\"177.668426\" xlink:href=\"#m06e9063cd1\" y=\"185.191275\"/>\r\n     <use style=\"fill:#4c72b0;stroke:#ffffff;stroke-width:0.75;\" x=\"96.985015\" xlink:href=\"#m06e9063cd1\" y=\"199.969147\"/>\r\n     <use style=\"fill:#4c72b0;stroke:#ffffff;stroke-width:0.75;\" x=\"137.911383\" xlink:href=\"#m06e9063cd1\" y=\"190.117232\"/>\r\n     <use style=\"fill:#4c72b0;stroke:#ffffff;stroke-width:0.75;\" x=\"275.891708\" xlink:href=\"#m06e9063cd1\" y=\"68.199788\"/>\r\n     <use style=\"fill:#4c72b0;stroke:#ffffff;stroke-width:0.75;\" x=\"212.74817\" xlink:href=\"#m06e9063cd1\" y=\"77.435958\"/>\r\n     <use style=\"fill:#4c72b0;stroke:#ffffff;stroke-width:0.75;\" x=\"208.07087\" xlink:href=\"#m06e9063cd1\" y=\"47.880215\"/>\r\n     <use style=\"fill:#4c72b0;stroke:#ffffff;stroke-width:0.75;\" x=\"102.831639\" xlink:href=\"#m06e9063cd1\" y=\"98.371277\"/>\r\n     <use style=\"fill:#4c72b0;stroke:#ffffff;stroke-width:0.75;\" x=\"128.556784\" xlink:href=\"#m06e9063cd1\" y=\"116.227872\"/>\r\n     <use style=\"fill:#4c72b0;stroke:#ffffff;stroke-width:0.75;\" x=\"130.895434\" xlink:href=\"#m06e9063cd1\" y=\"182.112551\"/>\r\n     <use style=\"fill:#4c72b0;stroke:#ffffff;stroke-width:0.75;\" x=\"132.064759\" xlink:href=\"#m06e9063cd1\" y=\"172.876382\"/>\r\n     <use style=\"fill:#4c72b0;stroke:#ffffff;stroke-width:0.75;\" x=\"146.096656\" xlink:href=\"#m06e9063cd1\" y=\"74.97298\"/>\r\n     <use style=\"fill:#4c72b0;stroke:#ffffff;stroke-width:0.75;\" x=\"148.435306\" xlink:href=\"#m06e9063cd1\" y=\"137.778936\"/>\r\n     <use style=\"fill:#4c72b0;stroke:#ffffff;stroke-width:0.75;\" x=\"101.662314\" xlink:href=\"#m06e9063cd1\" y=\"182.728296\"/>\r\n     <use style=\"fill:#4c72b0;stroke:#ffffff;stroke-width:0.75;\" x=\"209.240195\" xlink:href=\"#m06e9063cd1\" y=\"102.065745\"/>\r\n     <use style=\"fill:#4c72b0;stroke:#ffffff;stroke-width:0.75;\" x=\"123.879485\" xlink:href=\"#m06e9063cd1\" y=\"182.728296\"/>\r\n     <use style=\"fill:#4c72b0;stroke:#ffffff;stroke-width:0.75;\" x=\"141.419357\" xlink:href=\"#m06e9063cd1\" y=\"163.640212\"/>\r\n     <use style=\"fill:#4c72b0;stroke:#ffffff;stroke-width:0.75;\" x=\"160.128554\" xlink:href=\"#m06e9063cd1\" y=\"131.621489\"/>\r\n     <use style=\"fill:#4c72b0;stroke:#ffffff;stroke-width:0.75;\" x=\"156.620579\" xlink:href=\"#m06e9063cd1\" y=\"197.506168\"/>\r\n     <use style=\"fill:#4c72b0;stroke:#ffffff;stroke-width:0.75;\" x=\"251.335888\" xlink:href=\"#m06e9063cd1\" y=\"94.676809\"/>\r\n     <use style=\"fill:#4c72b0;stroke:#ffffff;stroke-width:0.75;\" x=\"140.250032\" xlink:href=\"#m06e9063cd1\" y=\"135.315957\"/>\r\n     <use style=\"fill:#4c72b0;stroke:#ffffff;stroke-width:0.75;\" x=\"174.160451\" xlink:href=\"#m06e9063cd1\" y=\"70.662767\"/>\r\n     <use style=\"fill:#4c72b0;stroke:#ffffff;stroke-width:0.75;\" x=\"213.917494\" xlink:href=\"#m06e9063cd1\" y=\"174.723616\"/>\r\n     <use style=\"fill:#4c72b0;stroke:#ffffff;stroke-width:0.75;\" x=\"216.256144\" xlink:href=\"#m06e9063cd1\" y=\"78.667448\"/>\r\n     <use style=\"fill:#4c72b0;stroke:#ffffff;stroke-width:0.75;\" x=\"157.789904\" xlink:href=\"#m06e9063cd1\" y=\"153.788297\"/>\r\n     <use style=\"fill:#4c72b0;stroke:#ffffff;stroke-width:0.75;\" x=\"181.1764\" xlink:href=\"#m06e9063cd1\" y=\"188.885743\"/>\r\n     <use style=\"fill:#4c72b0;stroke:#ffffff;stroke-width:0.75;\" x=\"99.323664\" xlink:href=\"#m06e9063cd1\" y=\"185.807019\"/>\r\n     <use style=\"fill:#4c72b0;stroke:#ffffff;stroke-width:0.75;\" x=\"163.636528\" xlink:href=\"#m06e9063cd1\" y=\"71.894256\"/>\r\n     <use style=\"fill:#4c72b0;stroke:#ffffff;stroke-width:0.75;\" x=\"195.208298\" xlink:href=\"#m06e9063cd1\" y=\"68.815533\"/>\r\n     <use style=\"fill:#4c72b0;stroke:#ffffff;stroke-width:0.75;\" x=\"254.843862\" xlink:href=\"#m06e9063cd1\" y=\"60.810852\"/>\r\n     <use style=\"fill:#4c72b0;stroke:#ffffff;stroke-width:0.75;\" x=\"164.805853\" xlink:href=\"#m06e9063cd1\" y=\"121.15383\"/>\r\n     <use style=\"fill:#4c72b0;stroke:#ffffff;stroke-width:0.75;\" x=\"148.435306\" xlink:href=\"#m06e9063cd1\" y=\"186.422764\"/>\r\n     <use style=\"fill:#4c72b0;stroke:#ffffff;stroke-width:0.75;\" x=\"123.879485\" xlink:href=\"#m06e9063cd1\" y=\"201.200636\"/>\r\n     <use style=\"fill:#4c72b0;stroke:#ffffff;stroke-width:0.75;\" x=\"232.626691\" xlink:href=\"#m06e9063cd1\" y=\"114.996383\"/>\r\n     <use style=\"fill:#4c72b0;stroke:#ffffff;stroke-width:0.75;\" x=\"135.572733\" xlink:href=\"#m06e9063cd1\" y=\"153.172552\"/>\r\n     <use style=\"fill:#4c72b0;stroke:#ffffff;stroke-width:0.75;\" x=\"139.080707\" xlink:href=\"#m06e9063cd1\" y=\"182.112551\"/>\r\n     <use style=\"fill:#4c72b0;stroke:#ffffff;stroke-width:0.75;\" x=\"85.291767\" xlink:href=\"#m06e9063cd1\" y=\"198.737657\"/>\r\n     <use style=\"fill:#4c72b0;stroke:#ffffff;stroke-width:0.75;\" x=\"225.610742\" xlink:href=\"#m06e9063cd1\" y=\"71.278512\"/>\r\n     <use style=\"fill:#4c72b0;stroke:#ffffff;stroke-width:0.75;\" x=\"239.64264\" xlink:href=\"#m06e9063cd1\" y=\"97.755532\"/>\r\n     <use style=\"fill:#4c72b0;stroke:#ffffff;stroke-width:0.75;\" x=\"234.965341\" xlink:href=\"#m06e9063cd1\" y=\"43.570002\"/>\r\n     <use style=\"fill:#4c72b0;stroke:#ffffff;stroke-width:0.75;\" x=\"280.569008\" xlink:href=\"#m06e9063cd1\" y=\"80.514682\"/>\r\n     <use style=\"fill:#4c72b0;stroke:#ffffff;stroke-width:0.75;\" x=\"238.473315\" xlink:href=\"#m06e9063cd1\" y=\"174.107871\"/>\r\n     <use style=\"fill:#4c72b0;stroke:#ffffff;stroke-width:0.75;\" x=\"210.40952\" xlink:href=\"#m06e9063cd1\" y=\"137.778936\"/>\r\n     <use style=\"fill:#4c72b0;stroke:#ffffff;stroke-width:0.75;\" x=\"234.965341\" xlink:href=\"#m06e9063cd1\" y=\"39.259789\"/>\r\n     <use style=\"fill:#4c72b0;stroke:#ffffff;stroke-width:0.75;\" x=\"102.831639\" xlink:href=\"#m06e9063cd1\" y=\"135.931702\"/>\r\n     <use style=\"fill:#4c72b0;stroke:#ffffff;stroke-width:0.75;\" x=\"348.389846\" xlink:href=\"#m06e9063cd1\" y=\"17.092981\"/>\r\n     <use style=\"fill:#4c72b0;stroke:#ffffff;stroke-width:0.75;\" x=\"113.355562\" xlink:href=\"#m06e9063cd1\" y=\"191.348721\"/>\r\n     <use style=\"fill:#4c72b0;stroke:#ffffff;stroke-width:0.75;\" x=\"147.265981\" xlink:href=\"#m06e9063cd1\" y=\"175.33936\"/>\r\n     <use style=\"fill:#4c72b0;stroke:#ffffff;stroke-width:0.75;\" x=\"134.403408\" xlink:href=\"#m06e9063cd1\" y=\"199.353402\"/>\r\n     <use style=\"fill:#4c72b0;stroke:#ffffff;stroke-width:0.75;\" x=\"164.805853\" xlink:href=\"#m06e9063cd1\" y=\"206.126593\"/>\r\n     <use style=\"fill:#4c72b0;stroke:#ffffff;stroke-width:0.75;\" x=\"128.556784\" xlink:href=\"#m06e9063cd1\" y=\"166.718935\"/>\r\n     <use style=\"fill:#4c72b0;stroke:#ffffff;stroke-width:0.75;\" x=\"312.140777\" xlink:href=\"#m06e9063cd1\" y=\"40.491279\"/>\r\n     <use style=\"fill:#4c72b0;stroke:#ffffff;stroke-width:0.75;\" x=\"89.969066\" xlink:href=\"#m06e9063cd1\" y=\"158.714254\"/>\r\n     <use style=\"fill:#4c72b0;stroke:#ffffff;stroke-width:0.75;\" x=\"204.562896\" xlink:href=\"#m06e9063cd1\" y=\"140.857659\"/>\r\n     <use style=\"fill:#4c72b0;stroke:#ffffff;stroke-width:0.75;\" x=\"146.096656\" xlink:href=\"#m06e9063cd1\" y=\"184.57553\"/>\r\n     <use style=\"fill:#4c72b0;stroke:#ffffff;stroke-width:0.75;\" x=\"106.339613\" xlink:href=\"#m06e9063cd1\" y=\"202.432125\"/>\r\n     <use style=\"fill:#4c72b0;stroke:#ffffff;stroke-width:0.75;\" x=\"172.991127\" xlink:href=\"#m06e9063cd1\" y=\"159.329999\"/>\r\n     <use style=\"fill:#4c72b0;stroke:#ffffff;stroke-width:0.75;\" x=\"270.045085\" xlink:href=\"#m06e9063cd1\" y=\"67.584044\"/>\r\n     <use style=\"fill:#4c72b0;stroke:#ffffff;stroke-width:0.75;\" x=\"139.080707\" xlink:href=\"#m06e9063cd1\" y=\"176.570849\"/>\r\n     <use style=\"fill:#4c72b0;stroke:#ffffff;stroke-width:0.75;\" x=\"206.901546\" xlink:href=\"#m06e9063cd1\" y=\"105.760213\"/>\r\n     <use style=\"fill:#4c72b0;stroke:#ffffff;stroke-width:0.75;\" x=\"183.51505\" xlink:href=\"#m06e9063cd1\" y=\"151.941063\"/>\r\n     <use style=\"fill:#4c72b0;stroke:#ffffff;stroke-width:0.75;\" x=\"181.1764\" xlink:href=\"#m06e9063cd1\" y=\"118.075106\"/>\r\n     <use style=\"fill:#4c72b0;stroke:#ffffff;stroke-width:0.75;\" x=\"151.94328\" xlink:href=\"#m06e9063cd1\" y=\"81.746171\"/>\r\n     <use style=\"fill:#4c72b0;stroke:#ffffff;stroke-width:0.75;\" x=\"147.265981\" xlink:href=\"#m06e9063cd1\" y=\"189.501487\"/>\r\n     <use style=\"fill:#4c72b0;stroke:#ffffff;stroke-width:0.75;\" x=\"161.297879\" xlink:href=\"#m06e9063cd1\" y=\"172.260637\"/>\r\n     <use style=\"fill:#4c72b0;stroke:#ffffff;stroke-width:0.75;\" x=\"202.224246\" xlink:href=\"#m06e9063cd1\" y=\"55.884895\"/>\r\n     <use style=\"fill:#4c72b0;stroke:#ffffff;stroke-width:0.75;\" x=\"109.847588\" xlink:href=\"#m06e9063cd1\" y=\"190.732977\"/>\r\n     <use style=\"fill:#4c72b0;stroke:#ffffff;stroke-width:0.75;\" x=\"134.403408\" xlink:href=\"#m06e9063cd1\" y=\"167.33468\"/>\r\n     <use style=\"fill:#4c72b0;stroke:#ffffff;stroke-width:0.75;\" x=\"147.265981\" xlink:href=\"#m06e9063cd1\" y=\"106.991702\"/>\r\n     <use style=\"fill:#4c72b0;stroke:#ffffff;stroke-width:0.75;\" x=\"194.038973\" xlink:href=\"#m06e9063cd1\" y=\"66.968299\"/>\r\n     <use style=\"fill:#4c72b0;stroke:#ffffff;stroke-width:0.75;\" x=\"75.937169\" xlink:href=\"#m06e9063cd1\" y=\"172.260637\"/>\r\n     <use style=\"fill:#4c72b0;stroke:#ffffff;stroke-width:0.75;\" x=\"168.313827\" xlink:href=\"#m06e9063cd1\" y=\"88.519362\"/>\r\n     <use style=\"fill:#4c72b0;stroke:#ffffff;stroke-width:0.75;\" x=\"116.863536\" xlink:href=\"#m06e9063cd1\" y=\"118.690851\"/>\r\n     <use style=\"fill:#4c72b0;stroke:#ffffff;stroke-width:0.75;\" x=\"149.604631\" xlink:href=\"#m06e9063cd1\" y=\"134.084468\"/>\r\n     <use style=\"fill:#4c72b0;stroke:#ffffff;stroke-width:0.75;\" x=\"151.94328\" xlink:href=\"#m06e9063cd1\" y=\"86.672128\"/>\r\n     <use style=\"fill:#4c72b0;stroke:#ffffff;stroke-width:0.75;\" x=\"114.524887\" xlink:href=\"#m06e9063cd1\" y=\"193.195955\"/>\r\n     <use style=\"fill:#4c72b0;stroke:#ffffff;stroke-width:0.75;\" x=\"167.144503\" xlink:href=\"#m06e9063cd1\" y=\"95.292554\"/>\r\n     <use style=\"fill:#4c72b0;stroke:#ffffff;stroke-width:0.75;\" x=\"155.451255\" xlink:href=\"#m06e9063cd1\" y=\"180.881062\"/>\r\n     <use style=\"fill:#4c72b0;stroke:#ffffff;stroke-width:0.75;\" x=\"233.796016\" xlink:href=\"#m06e9063cd1\" y=\"188.269998\"/>\r\n     <use style=\"fill:#4c72b0;stroke:#ffffff;stroke-width:0.75;\" x=\"257.182512\" xlink:href=\"#m06e9063cd1\" y=\"25.713407\"/>\r\n     <use style=\"fill:#4c72b0;stroke:#ffffff;stroke-width:0.75;\" x=\"194.038973\" xlink:href=\"#m06e9063cd1\" y=\"77.435958\"/>\r\n     <use style=\"fill:#4c72b0;stroke:#ffffff;stroke-width:0.75;\" x=\"149.604631\" xlink:href=\"#m06e9063cd1\" y=\"178.418083\"/>\r\n     <use style=\"fill:#4c72b0;stroke:#ffffff;stroke-width:0.75;\" x=\"274.722384\" xlink:href=\"#m06e9063cd1\" y=\"106.991702\"/>\r\n     <use style=\"fill:#4c72b0;stroke:#ffffff;stroke-width:0.75;\" x=\"140.250032\" xlink:href=\"#m06e9063cd1\" y=\"196.274679\"/>\r\n     <use style=\"fill:#4c72b0;stroke:#ffffff;stroke-width:0.75;\" x=\"216.256144\" xlink:href=\"#m06e9063cd1\" y=\"177.802339\"/>\r\n     <use style=\"fill:#4c72b0;stroke:#ffffff;stroke-width:0.75;\" x=\"107.508938\" xlink:href=\"#m06e9063cd1\" y=\"175.33936\"/>\r\n     <use style=\"fill:#4c72b0;stroke:#ffffff;stroke-width:0.75;\" x=\"164.805853\" xlink:href=\"#m06e9063cd1\" y=\"211.052551\"/>\r\n     <use style=\"fill:#4c72b0;stroke:#ffffff;stroke-width:0.75;\" x=\"133.234084\" xlink:href=\"#m06e9063cd1\" y=\"150.709574\"/>\r\n     <use style=\"fill:#4c72b0;stroke:#ffffff;stroke-width:0.75;\" x=\"158.959229\" xlink:href=\"#m06e9063cd1\" y=\"179.033828\"/>\r\n     <use style=\"fill:#4c72b0;stroke:#ffffff;stroke-width:0.75;\" x=\"253.674537\" xlink:href=\"#m06e9063cd1\" y=\"60.810852\"/>\r\n     <use style=\"fill:#4c72b0;stroke:#ffffff;stroke-width:0.75;\" x=\"147.265981\" xlink:href=\"#m06e9063cd1\" y=\"190.117232\"/>\r\n     <use style=\"fill:#4c72b0;stroke:#ffffff;stroke-width:0.75;\" x=\"210.40952\" xlink:href=\"#m06e9063cd1\" y=\"108.223192\"/>\r\n     <use style=\"fill:#4c72b0;stroke:#ffffff;stroke-width:0.75;\" x=\"211.578845\" xlink:href=\"#m06e9063cd1\" y=\"84.824894\"/>\r\n     <use style=\"fill:#4c72b0;stroke:#ffffff;stroke-width:0.75;\" x=\"132.064759\" xlink:href=\"#m06e9063cd1\" y=\"74.357235\"/>\r\n     <use style=\"fill:#4c72b0;stroke:#ffffff;stroke-width:0.75;\" x=\"130.895434\" xlink:href=\"#m06e9063cd1\" y=\"153.788297\"/>\r\n     <use style=\"fill:#4c72b0;stroke:#ffffff;stroke-width:0.75;\" x=\"171.821802\" xlink:href=\"#m06e9063cd1\" y=\"203.04787\"/>\r\n     <use style=\"fill:#4c72b0;stroke:#ffffff;stroke-width:0.75;\" x=\"140.250032\" xlink:href=\"#m06e9063cd1\" y=\"124.232553\"/>\r\n     <use style=\"fill:#4c72b0;stroke:#ffffff;stroke-width:0.75;\" x=\"123.879485\" xlink:href=\"#m06e9063cd1\" y=\"159.945744\"/>\r\n     <use style=\"fill:#4c72b0;stroke:#ffffff;stroke-width:0.75;\" x=\"175.329776\" xlink:href=\"#m06e9063cd1\" y=\"142.704893\"/>\r\n     <use style=\"fill:#4c72b0;stroke:#ffffff;stroke-width:0.75;\" x=\"244.319939\" xlink:href=\"#m06e9063cd1\" y=\"163.024467\"/>\r\n     <use style=\"fill:#4c72b0;stroke:#ffffff;stroke-width:0.75;\" x=\"217.425469\" xlink:href=\"#m06e9063cd1\" y=\"119.306596\"/>\r\n     <use style=\"fill:#4c72b0;stroke:#ffffff;stroke-width:0.75;\" x=\"148.435306\" xlink:href=\"#m06e9063cd1\" y=\"141.473404\"/>\r\n     <use style=\"fill:#4c72b0;stroke:#ffffff;stroke-width:0.75;\" x=\"231.457366\" xlink:href=\"#m06e9063cd1\" y=\"129.774255\"/>\r\n     <use style=\"fill:#4c72b0;stroke:#ffffff;stroke-width:0.75;\" x=\"217.425469\" xlink:href=\"#m06e9063cd1\" y=\"139.62617\"/>\r\n     <use style=\"fill:#4c72b0;stroke:#ffffff;stroke-width:0.75;\" x=\"151.94328\" xlink:href=\"#m06e9063cd1\" y=\"170.413403\"/>\r\n     <use style=\"fill:#4c72b0;stroke:#ffffff;stroke-width:0.75;\" x=\"189.361674\" xlink:href=\"#m06e9063cd1\" y=\"94.676809\"/>\r\n     <use style=\"fill:#4c72b0;stroke:#ffffff;stroke-width:0.75;\" x=\"136.742058\" xlink:href=\"#m06e9063cd1\" y=\"113.149149\"/>\r\n     <use style=\"fill:#4c72b0;stroke:#ffffff;stroke-width:0.75;\" x=\"181.1764\" xlink:href=\"#m06e9063cd1\" y=\"163.024467\"/>\r\n     <use style=\"fill:#4c72b0;stroke:#ffffff;stroke-width:0.75;\" x=\"178.837751\" xlink:href=\"#m06e9063cd1\" y=\"112.533404\"/>\r\n     <use style=\"fill:#4c72b0;stroke:#ffffff;stroke-width:0.75;\" x=\"206.901546\" xlink:href=\"#m06e9063cd1\" y=\"155.019786\"/>\r\n     <use style=\"fill:#4c72b0;stroke:#ffffff;stroke-width:0.75;\" x=\"230.288041\" xlink:href=\"#m06e9063cd1\" y=\"88.519362\"/>\r\n     <use style=\"fill:#4c72b0;stroke:#ffffff;stroke-width:0.75;\" x=\"240.811965\" xlink:href=\"#m06e9063cd1\" y=\"81.130426\"/>\r\n     <use style=\"fill:#4c72b0;stroke:#ffffff;stroke-width:0.75;\" x=\"165.975178\" xlink:href=\"#m06e9063cd1\" y=\"77.435958\"/>\r\n     <use style=\"fill:#4c72b0;stroke:#ffffff;stroke-width:0.75;\" x=\"180.007075\" xlink:href=\"#m06e9063cd1\" y=\"76.820214\"/>\r\n     <use style=\"fill:#4c72b0;stroke:#ffffff;stroke-width:0.75;\" x=\"232.626691\" xlink:href=\"#m06e9063cd1\" y=\"111.91766\"/>\r\n     <use style=\"fill:#4c72b0;stroke:#ffffff;stroke-width:0.75;\" x=\"164.805853\" xlink:href=\"#m06e9063cd1\" y=\"149.478084\"/>\r\n     <use style=\"fill:#4c72b0;stroke:#ffffff;stroke-width:0.75;\" x=\"298.10888\" xlink:href=\"#m06e9063cd1\" y=\"84.20915\"/>\r\n     <use style=\"fill:#4c72b0;stroke:#ffffff;stroke-width:0.75;\" x=\"246.658589\" xlink:href=\"#m06e9063cd1\" y=\"182.112551\"/>\r\n     <use style=\"fill:#4c72b0;stroke:#ffffff;stroke-width:0.75;\" x=\"113.355562\" xlink:href=\"#m06e9063cd1\" y=\"147.015106\"/>\r\n     <use style=\"fill:#4c72b0;stroke:#ffffff;stroke-width:0.75;\" x=\"206.901546\" xlink:href=\"#m06e9063cd1\" y=\"79.898937\"/>\r\n     <use style=\"fill:#4c72b0;stroke:#ffffff;stroke-width:0.75;\" x=\"146.096656\" xlink:href=\"#m06e9063cd1\" y=\"107.607447\"/>\r\n     <use style=\"fill:#4c72b0;stroke:#ffffff;stroke-width:0.75;\" x=\"287.584956\" xlink:href=\"#m06e9063cd1\" y=\"63.889576\"/>\r\n     <use style=\"fill:#4c72b0;stroke:#ffffff;stroke-width:0.75;\" x=\"167.144503\" xlink:href=\"#m06e9063cd1\" y=\"129.15851\"/>\r\n     <use style=\"fill:#4c72b0;stroke:#ffffff;stroke-width:0.75;\" x=\"122.71016\" xlink:href=\"#m06e9063cd1\" y=\"185.807019\"/>\r\n     <use style=\"fill:#4c72b0;stroke:#ffffff;stroke-width:0.75;\" x=\"121.540836\" xlink:href=\"#m06e9063cd1\" y=\"171.029148\"/>\r\n     <use style=\"fill:#4c72b0;stroke:#ffffff;stroke-width:0.75;\" x=\"266.53711\" xlink:href=\"#m06e9063cd1\" y=\"41.722768\"/>\r\n     <use style=\"fill:#4c72b0;stroke:#ffffff;stroke-width:0.75;\" x=\"160.128554\" xlink:href=\"#m06e9063cd1\" y=\"174.107871\"/>\r\n     <use style=\"fill:#4c72b0;stroke:#ffffff;stroke-width:0.75;\" x=\"137.911383\" xlink:href=\"#m06e9063cd1\" y=\"98.371277\"/>\r\n     <use style=\"fill:#4c72b0;stroke:#ffffff;stroke-width:0.75;\" x=\"165.975178\" xlink:href=\"#m06e9063cd1\" y=\"171.644892\"/>\r\n     <use style=\"fill:#4c72b0;stroke:#ffffff;stroke-width:0.75;\" x=\"158.959229\" xlink:href=\"#m06e9063cd1\" y=\"97.139788\"/>\r\n     <use style=\"fill:#4c72b0;stroke:#ffffff;stroke-width:0.75;\" x=\"238.473315\" xlink:href=\"#m06e9063cd1\" y=\"68.199788\"/>\r\n     <use style=\"fill:#4c72b0;stroke:#ffffff;stroke-width:0.75;\" x=\"197.546947\" xlink:href=\"#m06e9063cd1\" y=\"120.538085\"/>\r\n     <use style=\"fill:#4c72b0;stroke:#ffffff;stroke-width:0.75;\" x=\"194.038973\" xlink:href=\"#m06e9063cd1\" y=\"160.561488\"/>\r\n     <use style=\"fill:#4c72b0;stroke:#ffffff;stroke-width:0.75;\" x=\"161.297879\" xlink:href=\"#m06e9063cd1\" y=\"106.991702\"/>\r\n     <use style=\"fill:#4c72b0;stroke:#ffffff;stroke-width:0.75;\" x=\"170.652477\" xlink:href=\"#m06e9063cd1\" y=\"144.552127\"/>\r\n     <use style=\"fill:#4c72b0;stroke:#ffffff;stroke-width:0.75;\" x=\"192.869648\" xlink:href=\"#m06e9063cd1\" y=\"144.552127\"/>\r\n     <use style=\"fill:#4c72b0;stroke:#ffffff;stroke-width:0.75;\" x=\"141.419357\" xlink:href=\"#m06e9063cd1\" y=\"175.955105\"/>\r\n     <use style=\"fill:#4c72b0;stroke:#ffffff;stroke-width:0.75;\" x=\"151.94328\" xlink:href=\"#m06e9063cd1\" y=\"139.010425\"/>\r\n     <use style=\"fill:#4c72b0;stroke:#ffffff;stroke-width:0.75;\" x=\"111.016912\" xlink:href=\"#m06e9063cd1\" y=\"175.955105\"/>\r\n     <use style=\"fill:#4c72b0;stroke:#ffffff;stroke-width:0.75;\" x=\"239.64264\" xlink:href=\"#m06e9063cd1\" y=\"80.514682\"/>\r\n     <use style=\"fill:#4c72b0;stroke:#ffffff;stroke-width:0.75;\" x=\"129.726109\" xlink:href=\"#m06e9063cd1\" y=\"186.422764\"/>\r\n     <use style=\"fill:#4c72b0;stroke:#ffffff;stroke-width:0.75;\" x=\"95.81569\" xlink:href=\"#m06e9063cd1\" y=\"182.728296\"/>\r\n     <use style=\"fill:#4c72b0;stroke:#ffffff;stroke-width:0.75;\" x=\"113.355562\" xlink:href=\"#m06e9063cd1\" y=\"163.024467\"/>\r\n     <use style=\"fill:#4c72b0;stroke:#ffffff;stroke-width:0.75;\" x=\"223.272093\" xlink:href=\"#m06e9063cd1\" y=\"62.658086\"/>\r\n     <use style=\"fill:#4c72b0;stroke:#ffffff;stroke-width:0.75;\" x=\"163.636528\" xlink:href=\"#m06e9063cd1\" y=\"193.195955\"/>\r\n     <use style=\"fill:#4c72b0;stroke:#ffffff;stroke-width:0.75;\" x=\"137.911383\" xlink:href=\"#m06e9063cd1\" y=\"196.890423\"/>\r\n     <use style=\"fill:#4c72b0;stroke:#ffffff;stroke-width:0.75;\" x=\"227.949392\" xlink:href=\"#m06e9063cd1\" y=\"94.061064\"/>\r\n     <use style=\"fill:#4c72b0;stroke:#ffffff;stroke-width:0.75;\" x=\"81.783793\" xlink:href=\"#m06e9063cd1\" y=\"174.723616\"/>\r\n     <use style=\"fill:#4c72b0;stroke:#ffffff;stroke-width:0.75;\" x=\"180.007075\" xlink:href=\"#m06e9063cd1\" y=\"38.644045\"/>\r\n     <use style=\"fill:#4c72b0;stroke:#ffffff;stroke-width:0.75;\" x=\"196.377622\" xlink:href=\"#m06e9063cd1\" y=\"57.116384\"/>\r\n     <use style=\"fill:#4c72b0;stroke:#ffffff;stroke-width:0.75;\" x=\"165.975178\" xlink:href=\"#m06e9063cd1\" y=\"118.075106\"/>\r\n     <use style=\"fill:#4c72b0;stroke:#ffffff;stroke-width:0.75;\" x=\"287.584956\" xlink:href=\"#m06e9063cd1\" y=\"32.486598\"/>\r\n     <use style=\"fill:#4c72b0;stroke:#ffffff;stroke-width:0.75;\" x=\"147.265981\" xlink:href=\"#m06e9063cd1\" y=\"194.427445\"/>\r\n     <use style=\"fill:#4c72b0;stroke:#ffffff;stroke-width:0.75;\" x=\"167.144503\" xlink:href=\"#m06e9063cd1\" y=\"68.815533\"/>\r\n     <use style=\"fill:#4c72b0;stroke:#ffffff;stroke-width:0.75;\" x=\"132.064759\" xlink:href=\"#m06e9063cd1\" y=\"103.297234\"/>\r\n     <use style=\"fill:#4c72b0;stroke:#ffffff;stroke-width:0.75;\" x=\"322.6647\" xlink:href=\"#m06e9063cd1\" y=\"86.672128\"/>\r\n     <use style=\"fill:#4c72b0;stroke:#ffffff;stroke-width:0.75;\" x=\"358.913769\" xlink:href=\"#m06e9063cd1\" y=\"81.130426\"/>\r\n     <use style=\"fill:#4c72b0;stroke:#ffffff;stroke-width:0.75;\" x=\"176.499101\" xlink:href=\"#m06e9063cd1\" y=\"154.404042\"/>\r\n     <use style=\"fill:#4c72b0;stroke:#ffffff;stroke-width:0.75;\" x=\"215.086819\" xlink:href=\"#m06e9063cd1\" y=\"127.311276\"/>\r\n     <use style=\"fill:#4c72b0;stroke:#ffffff;stroke-width:0.75;\" x=\"111.016912\" xlink:href=\"#m06e9063cd1\" y=\"191.348721\"/>\r\n     <use style=\"fill:#4c72b0;stroke:#ffffff;stroke-width:0.75;\" x=\"163.636528\" xlink:href=\"#m06e9063cd1\" y=\"108.838936\"/>\r\n     <use style=\"fill:#4c72b0;stroke:#ffffff;stroke-width:0.75;\" x=\"148.435306\" xlink:href=\"#m06e9063cd1\" y=\"186.422764\"/>\r\n     <use style=\"fill:#4c72b0;stroke:#ffffff;stroke-width:0.75;\" x=\"162.467203\" xlink:href=\"#m06e9063cd1\" y=\"126.695532\"/>\r\n     <use style=\"fill:#4c72b0;stroke:#ffffff;stroke-width:0.75;\" x=\"136.742058\" xlink:href=\"#m06e9063cd1\" y=\"143.936382\"/>\r\n     <use style=\"fill:#4c72b0;stroke:#ffffff;stroke-width:0.75;\" x=\"170.652477\" xlink:href=\"#m06e9063cd1\" y=\"96.524043\"/>\r\n     <use style=\"fill:#4c72b0;stroke:#ffffff;stroke-width:0.75;\" x=\"247.827913\" xlink:href=\"#m06e9063cd1\" y=\"155.635531\"/>\r\n     <use style=\"fill:#4c72b0;stroke:#ffffff;stroke-width:0.75;\" x=\"184.684374\" xlink:href=\"#m06e9063cd1\" y=\"85.440639\"/>\r\n     <use style=\"fill:#4c72b0;stroke:#ffffff;stroke-width:0.75;\" x=\"176.499101\" xlink:href=\"#m06e9063cd1\" y=\"79.283192\"/>\r\n     <use style=\"fill:#4c72b0;stroke:#ffffff;stroke-width:0.75;\" x=\"132.064759\" xlink:href=\"#m06e9063cd1\" y=\"205.510849\"/>\r\n     <use style=\"fill:#4c72b0;stroke:#ffffff;stroke-width:0.75;\" x=\"202.224246\" xlink:href=\"#m06e9063cd1\" y=\"198.121913\"/>\r\n     <use style=\"fill:#4c72b0;stroke:#ffffff;stroke-width:0.75;\" x=\"77.106493\" xlink:href=\"#m06e9063cd1\" y=\"166.10319\"/>\r\n     <use style=\"fill:#4c72b0;stroke:#ffffff;stroke-width:0.75;\" x=\"239.64264\" xlink:href=\"#m06e9063cd1\" y=\"148.86234\"/>\r\n     <use style=\"fill:#4c72b0;stroke:#ffffff;stroke-width:0.75;\" x=\"142.588682\" xlink:href=\"#m06e9063cd1\" y=\"175.955105\"/>\r\n     <use style=\"fill:#4c72b0;stroke:#ffffff;stroke-width:0.75;\" x=\"141.419357\" xlink:href=\"#m06e9063cd1\" y=\"187.654253\"/>\r\n     <use style=\"fill:#4c72b0;stroke:#ffffff;stroke-width:0.75;\" x=\"153.112605\" xlink:href=\"#m06e9063cd1\" y=\"95.292554\"/>\r\n     <use style=\"fill:#4c72b0;stroke:#ffffff;stroke-width:0.75;\" x=\"129.726109\" xlink:href=\"#m06e9063cd1\" y=\"185.807019\"/>\r\n     <use style=\"fill:#4c72b0;stroke:#ffffff;stroke-width:0.75;\" x=\"190.530998\" xlink:href=\"#m06e9063cd1\" y=\"106.375958\"/>\r\n     <use style=\"fill:#4c72b0;stroke:#ffffff;stroke-width:0.75;\" x=\"147.265981\" xlink:href=\"#m06e9063cd1\" y=\"162.408722\"/>\r\n     <use style=\"fill:#4c72b0;stroke:#ffffff;stroke-width:0.75;\" x=\"175.329776\" xlink:href=\"#m06e9063cd1\" y=\"198.737657\"/>\r\n     <use style=\"fill:#4c72b0;stroke:#ffffff;stroke-width:0.75;\" x=\"248.997238\" xlink:href=\"#m06e9063cd1\" y=\"59.579363\"/>\r\n     <use style=\"fill:#4c72b0;stroke:#ffffff;stroke-width:0.75;\" x=\"98.15434\" xlink:href=\"#m06e9063cd1\" y=\"191.348721\"/>\r\n     <use style=\"fill:#4c72b0;stroke:#ffffff;stroke-width:0.75;\" x=\"141.419357\" xlink:href=\"#m06e9063cd1\" y=\"157.482765\"/>\r\n     <use style=\"fill:#4c72b0;stroke:#ffffff;stroke-width:0.75;\" x=\"123.879485\" xlink:href=\"#m06e9063cd1\" y=\"187.654253\"/>\r\n     <use style=\"fill:#4c72b0;stroke:#ffffff;stroke-width:0.75;\" x=\"194.038973\" xlink:href=\"#m06e9063cd1\" y=\"62.042342\"/>\r\n     <use style=\"fill:#4c72b0;stroke:#ffffff;stroke-width:0.75;\" x=\"175.329776\" xlink:href=\"#m06e9063cd1\" y=\"71.278512\"/>\r\n     <use style=\"fill:#4c72b0;stroke:#ffffff;stroke-width:0.75;\" x=\"140.250032\" xlink:href=\"#m06e9063cd1\" y=\"203.663615\"/>\r\n     <use style=\"fill:#4c72b0;stroke:#ffffff;stroke-width:0.75;\" x=\"169.483152\" xlink:href=\"#m06e9063cd1\" y=\"108.223192\"/>\r\n     <use style=\"fill:#4c72b0;stroke:#ffffff;stroke-width:0.75;\" x=\"190.530998\" xlink:href=\"#m06e9063cd1\" y=\"81.130426\"/>\r\n     <use style=\"fill:#4c72b0;stroke:#ffffff;stroke-width:0.75;\" x=\"198.716272\" xlink:href=\"#m06e9063cd1\" y=\"87.287873\"/>\r\n     <use style=\"fill:#4c72b0;stroke:#ffffff;stroke-width:0.75;\" x=\"223.272093\" xlink:href=\"#m06e9063cd1\" y=\"122.385319\"/>\r\n     <use style=\"fill:#4c72b0;stroke:#ffffff;stroke-width:0.75;\" x=\"125.04881\" xlink:href=\"#m06e9063cd1\" y=\"172.876382\"/>\r\n     <use style=\"fill:#4c72b0;stroke:#ffffff;stroke-width:0.75;\" x=\"137.911383\" xlink:href=\"#m06e9063cd1\" y=\"126.695532\"/>\r\n     <use style=\"fill:#4c72b0;stroke:#ffffff;stroke-width:0.75;\" x=\"279.399683\" xlink:href=\"#m06e9063cd1\" y=\"60.810852\"/>\r\n     <use style=\"fill:#4c72b0;stroke:#ffffff;stroke-width:0.75;\" x=\"232.626691\" xlink:href=\"#m06e9063cd1\" y=\"49.727449\"/>\r\n     <use style=\"fill:#4c72b0;stroke:#ffffff;stroke-width:0.75;\" x=\"307.463478\" xlink:href=\"#m06e9063cd1\" y=\"57.116384\"/>\r\n     <use style=\"fill:#4c72b0;stroke:#ffffff;stroke-width:0.75;\" x=\"86.461092\" xlink:href=\"#m06e9063cd1\" y=\"185.807019\"/>\r\n     <use style=\"fill:#4c72b0;stroke:#ffffff;stroke-width:0.75;\" x=\"274.722384\" xlink:href=\"#m06e9063cd1\" y=\"143.936382\"/>\r\n     <use style=\"fill:#4c72b0;stroke:#ffffff;stroke-width:0.75;\" x=\"119.202186\" xlink:href=\"#m06e9063cd1\" y=\"113.764894\"/>\r\n     <use style=\"fill:#4c72b0;stroke:#ffffff;stroke-width:0.75;\" x=\"161.297879\" xlink:href=\"#m06e9063cd1\" y=\"118.690851\"/>\r\n     <use style=\"fill:#4c72b0;stroke:#ffffff;stroke-width:0.75;\" x=\"143.758007\" xlink:href=\"#m06e9063cd1\" y=\"101.45\"/>\r\n     <use style=\"fill:#4c72b0;stroke:#ffffff;stroke-width:0.75;\" x=\"237.30399\" xlink:href=\"#m06e9063cd1\" y=\"146.399361\"/>\r\n     <use style=\"fill:#4c72b0;stroke:#ffffff;stroke-width:0.75;\" x=\"266.53711\" xlink:href=\"#m06e9063cd1\" y=\"69.431278\"/>\r\n     <use style=\"fill:#4c72b0;stroke:#ffffff;stroke-width:0.75;\" x=\"172.991127\" xlink:href=\"#m06e9063cd1\" y=\"160.561488\"/>\r\n     <use style=\"fill:#4c72b0;stroke:#ffffff;stroke-width:0.75;\" x=\"181.1764\" xlink:href=\"#m06e9063cd1\" y=\"149.478084\"/>\r\n     <use style=\"fill:#4c72b0;stroke:#ffffff;stroke-width:0.75;\" x=\"183.51505\" xlink:href=\"#m06e9063cd1\" y=\"123.001064\"/>\r\n     <use style=\"fill:#4c72b0;stroke:#ffffff;stroke-width:0.75;\" x=\"260.690486\" xlink:href=\"#m06e9063cd1\" y=\"71.894256\"/>\r\n     <use style=\"fill:#4c72b0;stroke:#ffffff;stroke-width:0.75;\" x=\"251.335888\" xlink:href=\"#m06e9063cd1\" y=\"196.274679\"/>\r\n     <use style=\"fill:#4c72b0;stroke:#ffffff;stroke-width:0.75;\" x=\"147.265981\" xlink:href=\"#m06e9063cd1\" y=\"178.418083\"/>\r\n     <use style=\"fill:#4c72b0;stroke:#ffffff;stroke-width:0.75;\" x=\"114.524887\" xlink:href=\"#m06e9063cd1\" y=\"204.279359\"/>\r\n     <use style=\"fill:#4c72b0;stroke:#ffffff;stroke-width:0.75;\" x=\"134.403408\" xlink:href=\"#m06e9063cd1\" y=\"140.241914\"/>\r\n     <use style=\"fill:#4c72b0;stroke:#ffffff;stroke-width:0.75;\" x=\"191.700323\" xlink:href=\"#m06e9063cd1\" y=\"99.602766\"/>\r\n     <use style=\"fill:#4c72b0;stroke:#ffffff;stroke-width:0.75;\" x=\"258.351837\" xlink:href=\"#m06e9063cd1\" y=\"86.672128\"/>\r\n     <use style=\"fill:#4c72b0;stroke:#ffffff;stroke-width:0.75;\" x=\"130.895434\" xlink:href=\"#m06e9063cd1\" y=\"174.107871\"/>\r\n     <use style=\"fill:#4c72b0;stroke:#ffffff;stroke-width:0.75;\" x=\"185.853699\" xlink:href=\"#m06e9063cd1\" y=\"161.792978\"/>\r\n     <use style=\"fill:#4c72b0;stroke:#ffffff;stroke-width:0.75;\" x=\"129.726109\" xlink:href=\"#m06e9063cd1\" y=\"136.547446\"/>\r\n     <use style=\"fill:#4c72b0;stroke:#ffffff;stroke-width:0.75;\" x=\"136.742058\" xlink:href=\"#m06e9063cd1\" y=\"156.251276\"/>\r\n     <use style=\"fill:#4c72b0;stroke:#ffffff;stroke-width:0.75;\" x=\"180.007075\" xlink:href=\"#m06e9063cd1\" y=\"188.885743\"/>\r\n     <use style=\"fill:#4c72b0;stroke:#ffffff;stroke-width:0.75;\" x=\"270.045085\" xlink:href=\"#m06e9063cd1\" y=\"39.259789\"/>\r\n     <use style=\"fill:#4c72b0;stroke:#ffffff;stroke-width:0.75;\" x=\"137.911383\" xlink:href=\"#m06e9063cd1\" y=\"172.260637\"/>\r\n     <use style=\"fill:#4c72b0;stroke:#ffffff;stroke-width:0.75;\" x=\"112.186237\" xlink:href=\"#m06e9063cd1\" y=\"117.459362\"/>\r\n     <use style=\"fill:#4c72b0;stroke:#ffffff;stroke-width:0.75;\" x=\"140.250032\" xlink:href=\"#m06e9063cd1\" y=\"189.501487\"/>\r\n     <use style=\"fill:#4c72b0;stroke:#ffffff;stroke-width:0.75;\" x=\"233.796016\" xlink:href=\"#m06e9063cd1\" y=\"123.616808\"/>\r\n     <use style=\"fill:#4c72b0;stroke:#ffffff;stroke-width:0.75;\" x=\"108.678263\" xlink:href=\"#m06e9063cd1\" y=\"185.807019\"/>\r\n     <use style=\"fill:#4c72b0;stroke:#ffffff;stroke-width:0.75;\" x=\"175.329776\" xlink:href=\"#m06e9063cd1\" y=\"199.969147\"/>\r\n     <use style=\"fill:#4c72b0;stroke:#ffffff;stroke-width:0.75;\" x=\"148.435306\" xlink:href=\"#m06e9063cd1\" y=\"190.732977\"/>\r\n     <use style=\"fill:#4c72b0;stroke:#ffffff;stroke-width:0.75;\" x=\"93.47704\" xlink:href=\"#m06e9063cd1\" y=\"200.584891\"/>\r\n     <use style=\"fill:#4c72b0;stroke:#ffffff;stroke-width:0.75;\" x=\"195.208298\" xlink:href=\"#m06e9063cd1\" y=\"120.538085\"/>\r\n     <use style=\"fill:#4c72b0;stroke:#ffffff;stroke-width:0.75;\" x=\"156.620579\" xlink:href=\"#m06e9063cd1\" y=\"166.10319\"/>\r\n     <use style=\"fill:#4c72b0;stroke:#ffffff;stroke-width:0.75;\" x=\"156.620579\" xlink:href=\"#m06e9063cd1\" y=\"148.86234\"/>\r\n     <use style=\"fill:#4c72b0;stroke:#ffffff;stroke-width:0.75;\" x=\"216.256144\" xlink:href=\"#m06e9063cd1\" y=\"94.676809\"/>\r\n     <use style=\"fill:#4c72b0;stroke:#ffffff;stroke-width:0.75;\" x=\"94.646365\" xlink:href=\"#m06e9063cd1\" y=\"195.043189\"/>\r\n    </g>\r\n   </g>\r\n   <g id=\"patch_3\">\r\n    <path d=\"M 50.025469 224.64 \r\nL 50.025469 7.2 \r\n\" style=\"fill:none;stroke:#ffffff;stroke-linecap:square;stroke-linejoin:miter;stroke-width:1.25;\"/>\r\n   </g>\r\n   <g id=\"patch_4\">\r\n    <path d=\"M 384.825469 224.64 \r\nL 384.825469 7.2 \r\n\" style=\"fill:none;stroke:#ffffff;stroke-linecap:square;stroke-linejoin:miter;stroke-width:1.25;\"/>\r\n   </g>\r\n   <g id=\"patch_5\">\r\n    <path d=\"M 50.025469 224.64 \r\nL 384.825469 224.64 \r\n\" style=\"fill:none;stroke:#ffffff;stroke-linecap:square;stroke-linejoin:miter;stroke-width:1.25;\"/>\r\n   </g>\r\n   <g id=\"patch_6\">\r\n    <path d=\"M 50.025469 7.2 \r\nL 384.825469 7.2 \r\n\" style=\"fill:none;stroke:#ffffff;stroke-linecap:square;stroke-linejoin:miter;stroke-width:1.25;\"/>\r\n   </g>\r\n  </g>\r\n </g>\r\n <defs>\r\n  <clipPath id=\"p2ec7c3d7d1\">\r\n   <rect height=\"217.44\" width=\"334.8\" x=\"50.025469\" y=\"7.2\"/>\r\n  </clipPath>\r\n </defs>\r\n</svg>\r\n",
      "image/png": "[encoded data removed]"
     },
     "metadata": {}
    }
   ],
   "source": [
    "sns.set()\n",
    "sns.scatterplot(data=df_diabetes, y='target', x='bmi')"
   ]
  },
  {
   "cell_type": "code",
   "execution_count": 22,
   "metadata": {},
   "outputs": [
    {
     "output_type": "execute_result",
     "data": {
      "text/plain": [
       "{'data': array([[ 0.03807591,  0.05068012,  0.06169621, ..., -0.00259226,\n",
       "          0.01990842, -0.01764613],\n",
       "        [-0.00188202, -0.04464164, -0.05147406, ..., -0.03949338,\n",
       "         -0.06832974, -0.09220405],\n",
       "        [ 0.08529891,  0.05068012,  0.04445121, ..., -0.00259226,\n",
       "          0.00286377, -0.02593034],\n",
       "        ...,\n",
       "        [ 0.04170844,  0.05068012, -0.01590626, ..., -0.01107952,\n",
       "         -0.04687948,  0.01549073],\n",
       "        [-0.04547248, -0.04464164,  0.03906215, ...,  0.02655962,\n",
       "          0.04452837, -0.02593034],\n",
       "        [-0.04547248, -0.04464164, -0.0730303 , ..., -0.03949338,\n",
       "         -0.00421986,  0.00306441]]),\n",
       " 'target': array([151.,  75., 141., 206., 135.,  97., 138.,  63., 110., 310., 101.,\n",
       "         69., 179., 185., 118., 171., 166., 144.,  97., 168.,  68.,  49.,\n",
       "         68., 245., 184., 202., 137.,  85., 131., 283., 129.,  59., 341.,\n",
       "         87.,  65., 102., 265., 276., 252.,  90., 100.,  55.,  61.,  92.,\n",
       "        259.,  53., 190., 142.,  75., 142., 155., 225.,  59., 104., 182.,\n",
       "        128.,  52.,  37., 170., 170.,  61., 144.,  52., 128.,  71., 163.,\n",
       "        150.,  97., 160., 178.,  48., 270., 202., 111.,  85.,  42., 170.,\n",
       "        200., 252., 113., 143.,  51.,  52., 210.,  65., 141.,  55., 134.,\n",
       "         42., 111.,  98., 164.,  48.,  96.,  90., 162., 150., 279.,  92.,\n",
       "         83., 128., 102., 302., 198.,  95.,  53., 134., 144., 232.,  81.,\n",
       "        104.,  59., 246., 297., 258., 229., 275., 281., 179., 200., 200.,\n",
       "        173., 180.,  84., 121., 161.,  99., 109., 115., 268., 274., 158.,\n",
       "        107.,  83., 103., 272.,  85., 280., 336., 281., 118., 317., 235.,\n",
       "         60., 174., 259., 178., 128.,  96., 126., 288.,  88., 292.,  71.,\n",
       "        197., 186.,  25.,  84.,  96., 195.,  53., 217., 172., 131., 214.,\n",
       "         59.,  70., 220., 268., 152.,  47.,  74., 295., 101., 151., 127.,\n",
       "        237., 225.,  81., 151., 107.,  64., 138., 185., 265., 101., 137.,\n",
       "        143., 141.,  79., 292., 178.,  91., 116.,  86., 122.,  72., 129.,\n",
       "        142.,  90., 158.,  39., 196., 222., 277.,  99., 196., 202., 155.,\n",
       "         77., 191.,  70.,  73.,  49.,  65., 263., 248., 296., 214., 185.,\n",
       "         78.,  93., 252., 150.,  77., 208.,  77., 108., 160.,  53., 220.,\n",
       "        154., 259.,  90., 246., 124.,  67.,  72., 257., 262., 275., 177.,\n",
       "         71.,  47., 187., 125.,  78.,  51., 258., 215., 303., 243.,  91.,\n",
       "        150., 310., 153., 346.,  63.,  89.,  50.,  39., 103., 308., 116.,\n",
       "        145.,  74.,  45., 115., 264.,  87., 202., 127., 182., 241.,  66.,\n",
       "         94., 283.,  64., 102., 200., 265.,  94., 230., 181., 156., 233.,\n",
       "         60., 219.,  80.,  68., 332., 248.,  84., 200.,  55.,  85.,  89.,\n",
       "         31., 129.,  83., 275.,  65., 198., 236., 253., 124.,  44., 172.,\n",
       "        114., 142., 109., 180., 144., 163., 147.,  97., 220., 190., 109.,\n",
       "        191., 122., 230., 242., 248., 249., 192., 131., 237.,  78., 135.,\n",
       "        244., 199., 270., 164.,  72.,  96., 306.,  91., 214.,  95., 216.,\n",
       "        263., 178., 113., 200., 139., 139.,  88., 148.,  88., 243.,  71.,\n",
       "         77., 109., 272.,  60.,  54., 221.,  90., 311., 281., 182., 321.,\n",
       "         58., 262., 206., 233., 242., 123., 167.,  63., 197.,  71., 168.,\n",
       "        140., 217., 121., 235., 245.,  40.,  52., 104., 132.,  88.,  69.,\n",
       "        219.,  72., 201., 110.,  51., 277.,  63., 118.,  69., 273., 258.,\n",
       "         43., 198., 242., 232., 175.,  93., 168., 275., 293., 281.,  72.,\n",
       "        140., 189., 181., 209., 136., 261., 113., 131., 174., 257.,  55.,\n",
       "         84.,  42., 146., 212., 233.,  91., 111., 152., 120.,  67., 310.,\n",
       "         94., 183.,  66., 173.,  72.,  49.,  64.,  48., 178., 104., 132.,\n",
       "        220.,  57.]),\n",
       " 'DESCR': '.. _diabetes_dataset:\\n\\nDiabetes dataset\\n----------------\\n\\nTen baseline variables, age, sex, body mass index, average blood\\npressure, and six blood serum measurements were obtained for each of n =\\n442 diabetes patients, as well as the response of interest, a\\nquantitative measure of disease progression one year after baseline.\\n\\n**Data Set Characteristics:**\\n\\n  :Number of Instances: 442\\n\\n  :Number of Attributes: First 10 columns are numeric predictive values\\n\\n  :Target: Column 11 is a quantitative measure of disease progression one year after baseline\\n\\n  :Attribute Information:\\n      - Age\\n      - Sex\\n      - Body mass index\\n      - Average blood pressure\\n      - S1\\n      - S2\\n      - S3\\n      - S4\\n      - S5\\n      - S6\\n\\nNote: Each of these 10 feature variables have been mean centered and scaled by the standard deviation times `n_samples` (i.e. the sum of squares of each column totals 1).\\n\\nSource URL:\\nhttps://www4.stat.ncsu.edu/~boos/var.select/diabetes.html\\n\\nFor more information see:\\nBradley Efron, Trevor Hastie, Iain Johnstone and Robert Tibshirani (2004) \"Least Angle Regression,\" Annals of Statistics (with discussion), 407-499.\\n(https://web.stanford.edu/~hastie/Papers/LARS/LeastAngle_2002.pdf)',\n",
       " 'feature_names': ['age',\n",
       "  'sex',\n",
       "  'bmi',\n",
       "  'bp',\n",
       "  's1',\n",
       "  's2',\n",
       "  's3',\n",
       "  's4',\n",
       "  's5',\n",
       "  's6'],\n",
       " 'data_filename': 'C:\\\\Users\\\\norma\\\\anaconda3\\\\lib\\\\site-packages\\\\sklearn\\\\datasets\\\\data\\\\diabetes_data.csv.gz',\n",
       " 'target_filename': 'C:\\\\Users\\\\norma\\\\anaconda3\\\\lib\\\\site-packages\\\\sklearn\\\\datasets\\\\data\\\\diabetes_target.csv.gz'}"
      ]
     },
     "metadata": {},
     "execution_count": 22
    }
   ],
   "source": [
    "ds_diabetes"
   ]
  },
  {
   "cell_type": "code",
   "execution_count": null,
   "metadata": {},
   "outputs": [],
   "source": []
  }
 ],
 "metadata": {
  "language_info": {
   "codemirror_mode": {
    "name": "ipython",
    "version": 3
   },
   "file_extension": ".py",
   "mimetype": "text/x-python",
   "name": "python",
   "nbconvert_exporter": "python",
   "pygments_lexer": "ipython3",
   "version": "3.7.6-final"
  },
  "orig_nbformat": 2,
  "kernelspec": {
   "name": "python3",
   "display_name": "Python 3.7.6 64-bit (conda)",
   "metadata": {
    "interpreter": {
     "hash": "cbb5947f9e56ced703ac7f61a579ab0e9fabcd986880c6d6caf926fc106f0f90"
    }
   }
  }
 },
 "nbformat": 4,
 "nbformat_minor": 2
}